{
 "cells": [
  {
   "cell_type": "code",
   "execution_count": 43,
   "id": "0ac134e6-b97b-4c35-b7a1-9dc252586563",
   "metadata": {},
   "outputs": [],
   "source": [
    "# -*- coding: utf-8 -*-\n",
    "# ==============================================================================\n",
    "# BLOQUE 1: IMPORTACIÓN DE LIBRERÍAS Y CONFIGURACIÓN GLOBAL\n",
    "# ==============================================================================\n",
    "# Descripción: Este bloque contiene todas las importaciones de librerías\n",
    "# externas necesarias para el script, así como las constantes globales\n",
    "# y configuraciones iniciales del entorno.\n",
    "# ------------------------------------------------------------------------------\n",
    "\n",
    "from Bio import SeqIO, Align\n",
    "from Bio.Seq import Seq\n",
    "from Bio.SeqRecord import SeqRecord\n",
    "from Bio.SeqFeature import FeatureLocation, CompoundLocation\n",
    "import pandas as pd\n",
    "import hgvs.parser\n",
    "import hgvs.dataproviders.interface\n",
    "import hgvs.normalizer\n",
    "import hgvs.exceptions\n",
    "import hgvs # Aunque los submódulos se importan, a veces hgvs base es útil.\n",
    "import re\n",
    "import os\n",
    "\n",
    "from fpdf import FPDF\n",
    "from fpdf.enums import XPos, YPos # Para un control más explícito en la generación del PDF.\n",
    "\n",
    "# Plotly para el Track Viewer interactivo\n",
    "import plotly.graph_objects as go\n",
    "from plotly.subplots import make_subplots\n",
    "import numpy as np\n",
    "\n",
    "\n",
    "# --- Rutas a archivos de referencia ---\n",
    "RCRS_FASTA_PATH = \"secuencias/NC_012920.1_rCRS.fasta\"\n",
    "RCRS_GENBANK_PATH = \"secuencias/NC_012920.1_rCRS.gb\"\n",
    "\n",
    "# --- Definición de regiones Hotspot (para informe en PDF) ---\n",
    "# Formato: (inicio_1_based, fin_1_based, tipo_hotspot)\n",
    "HOTSPOT_REGIONS = [\n",
    "    (16184, 16193, 'indel'), (303, 315, 'indel'), (452, 455, 'indel'),\n",
    "    (568, 573, 'indel'), (956, 960, 'indel'), (5895, 5899, 'indel'),\n",
    "    (8272, 8276, 'indel'), (8281, 8285, 'indel')\n",
    "]\n",
    "\n",
    "# --- Regiones Hipervariables (HVS) para anotación en Track Viewer ---\n",
    "# Basado en tu Tabla 1 de la tesis (pág. 6/23)\n",
    "HVS_REGIONS = [\n",
    "    {\"nombre\": \"HVS-II\", \"inicio\": 57, \"fin\": 372},\n",
    "    {\"nombre\": \"HVS-III\", \"inicio\": 438, \"fin\": 574},\n",
    "    {\"nombre\": \"HVS-I\", \"inicio\": 16024, \"fin\": 16383}\n",
    "]\n",
    "\n",
    "# --- Constantes para Nomenclatura SWGDAM/EMPOP ---\n",
    "POS_3107_BLACKLISTED = 3107 # La posición 3107 no debe reportarse\n",
    "HVI_C_STRETCH_START = 16182 # Ajustado para incluir inserciones como 16183.1C que EMPOP re-ancla a 16193.1C\n",
    "HVI_C_STRETCH_END = 16193 # Rango del C-stretch de HVI\n",
    "INSERTION_199_ANCHOR_RANGE_START = 198 # Rango para inserciones que se anclan a 199\n",
    "INSERTION_199_ANCHOR_RANGE_END = 199\n",
    "DELETION_249_ANCHOR_POS = 249 # Posición de anclaje para deleciones en 248/249\n",
    "HVII_C_STRETCH_START = 302 # Ajustado para incluir inserciones como 302.1C que EMPOP re-ancla a 309.1C\n",
    "HVII_C_STRETCH_END = 315 # Rango del C-stretch de HVII (considerando 302-310 y 311-315)\n",
    "\n",
    "RCRS_HVI_C_COUNT_ANCHOR_16189 = 0\n",
    "RCRS_HVII_C_COUNT_303_309 = 7\n",
    "RCRS_HVII_C_COUNT_311_315 = 5\n",
    "INSERTION_291_ANCHOR_POS = 291\n",
    "INSERTION_291_DETECTION_RANGE_START = 289\n",
    "INSERTION_291_DETECTION_RANGE_END = 295\n",
    "AC_REPEAT_MOTIF_START = 513\n",
    "AC_REPEAT_MOTIF_END = 524\n",
    "AC_REPEAT_MOTIF_ANCHOR_523 = 523\n",
    "AC_REPEAT_MOTIF_ANCHOR_524 = 524\n",
    "MITOMASTER_HVII_DEL_CT_ANCHOR_309 = 309\n",
    "MITOMASTER_HVI_INS_ANCHOR_16193 = 16193\n",
    "MITOMASTER_INS_198_ANCHOR = 198\n",
    "MITOMASTER_INS_291_ANCHOR = 290\n",
    "\n",
    "# Hotspots de indels que EMPOP ignora por defecto en búsquedas\n",
    "EMPOP_IGNORED_INDEL_HOTSPOTS_POS = {16193, 309, 455, 463, 573, 960, 5899, 8276, 8285}\n",
    "\n",
    "# Mapeo de bases IUPAC extendidas (solo las más comunes para variantes)\n",
    "IUPAC_MIXED_BASES = {\n",
    "    'R': {'A', 'G'}, 'Y': {'C', 'T'}, 'S': {'G', 'C'}, 'W': {'A', 'T'},\n",
    "    'K': {'G', 'T'}, 'M': {'A', 'C'}, 'B': {'C', 'G', 'T'}, 'D': {'A', 'G', 'T'},\n",
    "    'H': {'A', 'C', 'T'}, 'V': {'A', 'C', 'G'}, 'N': {'A', 'C', 'G', 'T'}\n",
    "}\n",
    "\n",
    "# --- Constantes para formateo de alineamiento en PDF (y usado en TV tooltip) ---\n",
    "ALIGNMENT_CONTEXT_WINDOW_PDF = 13 # Bases a cada lado del evento (para PDF)\n",
    "ALIGNMENT_LABEL_WIDTH_PDF = 7 # Ancho para etiquetas como \"Ref:\", \"Query:\" (para PDF)\n",
    "ALIGNMENT_POS_NUM_WIDTH_PDF = 5 # Ancho para números de posición en el alineamiento (para PDF)\n",
    "\n",
    "# --- Constantes para formateo de alineamiento en PDF ---\n",
    "ALIGNMENT_CONTEXT_WINDOW = 13 # Bases a cada lado del evento\n",
    "ALIGNMENT_LABEL_WIDTH_PDF = 7 # Ancho para etiquetas como \"Ref:\", \"Query:\"\n",
    "ALIGNMENT_POS_NUM_WIDTH_PDF = 5 # Ancho para números de posición en el alineamiento\n",
    "\n",
    "\n",
    "# --- Mapeos y constantes globales para la extracción y display de Features (rCRS) ---\n",
    "# Mapeo de códigos de aminoácidos de una letra a tres letras (para referencia interna, no siempre para display)\n",
    "aa_one_to_three_letter_map = {\n",
    "    'A': 'Ala', 'R': 'Arg', 'N': 'Asn', 'D': 'Asp', 'C': 'Cys',\n",
    "    'Q': 'Gln', 'E': 'Glu', 'G': 'Gly', 'H': 'His', 'I': 'Ile',\n",
    "    'L': 'Leu', 'K': 'Lys', 'M': 'Met', 'F': 'Phe', 'P': 'Pro',\n",
    "    'S': 'Ser', 'T': 'Thr', 'W': 'Trp', 'Y': 'Tyr', 'V': 'Val'\n",
    "}\n",
    "\n",
    "# Mapeo de códigos de aminoácidos de una letra para display en el TV (más conciso)\n",
    "aa_code_map_for_display = {\n",
    "    'A': 'A', 'R': 'R', 'N': 'N', 'D': 'D', 'C': 'C',\n",
    "    'Q': 'Q', 'E': 'E', 'G': 'G', 'H': 'H', 'I': 'I',\n",
    "    'K': 'K', 'M': 'M', 'F': 'F', 'P': 'P', 'T': 'T',\n",
    "    'W': 'W', 'Y': 'Y', 'V': 'V',\n",
    "    'L': 'L', # Por defecto 'L', pero luego veremos L(UUR)/L(CUN)\n",
    "    'S': 'S'  # Por defecto 'S', pero luego veremos S(UCN)/S(AGY)\n",
    "}\n",
    "\n",
    "# Estandarización de nombres de genes codificantes de proteínas (Mitomaster style)\n",
    "protein_genes_map_short = {\n",
    "    \"MT-CO1\": \"CO1\", \"MT-COX1\": \"CO1\", \"COI\": \"CO1\", \"COX1\": \"CO1\",\n",
    "    \"MT-COII\": \"CO2\", \"MT-COX2\": \"CO2\", \"COII\": \"CO2\", \"COX2\": \"CO2\",\n",
    "    \"MT-COIII\": \"CO3\", \"MT-COX3\": \"CO3\", \"COIII\": \"CO3\", \"COX3\": \"CO3\",\n",
    "    \"MT-CYTB\": \"CYTB\", \"MT-CYB\": \"CYTB\", \"CYTB\": \"CYTB\", \"CYB\": \"CYTB\",\n",
    "    \"MT-ATP8\": \"ATP8\", \"MT-ATPASE8\": \"ATP8\", \"ATP8\": \"ATP8\", \"ATPASE8\": \"ATP8\",\n",
    "    \"MT-ATP6\": \"ATP6\", \"MT-ATPASE6\": \"ATP6\", \"ATP6\": \"ATP6\", \"ATPASE6\": \"ATP6\",\n",
    "    \"MT-ND1\":\"ND1\", \"ND1\":\"ND1\", \"MT-ND2\":\"ND2\", \"ND2\":\"ND2\", \"MT-ND3\":\"ND3\", \"ND3\":\"ND3\",\n",
    "    \"MT-ND4L\":\"ND4L\", \"ND4L\":\"ND4L\", \"MT-ND4\":\"ND4\", \"ND4\":\"ND4\", \"MT-ND5\":\"ND5\", \"ND5\":\"ND5\",\n",
    "    \"MT-ND6\":\"ND6\", \"ND6\":\"ND6\"\n",
    "}\n",
    "protein_genes_final_names = set(protein_genes_map_short.values())\n",
    "\n",
    "# Orden y mapeo de tipos de pistas finales (controla el eje Y en el TV)\n",
    "final_track_types_order = [\"D-loop\", \"tRNA\", \"rRNA\", \"gene\"] # Orden de abajo a arriba en el gráfico\n",
    "\n",
    "genbank_to_track_type_map = {\n",
    "    \"D-loop\": \"D-loop\",\n",
    "    \"tRNA\": \"tRNA\",\n",
    "    \"rRNA\": \"rRNA\",\n",
    "    \"CDS\": \"gene\",\n",
    "    \"gene\": \"gene\"\n",
    "}\n",
    "\n",
    "# --- Definición MAESTRA de Regiones Genómicas de rCRS (BASADA EN LA TESIS) ---\n",
    "# Esto se usará para construir las features_list en cargar_y_extraer_features_rcrs.\n",
    "MASTER_RCRS_FEATURES_DEFINITION = [\n",
    "    # Genes de ARNr (según tu Tabla 1, pág. 7/23 en PDF)\n",
    "    {\"nombre_genbank\": \"MT-RNR1\", \"nombre_display\": \"12S\", \"tipo\": \"rRNA\", \"inicio\": 648, \"fin\": 1601, \"hebra\": 1},\n",
    "    {\"nombre_genbank\": \"MT-RNR2\", \"nombre_display\": \"16S\", \"tipo\": \"rRNA\", \"inicio\": 1671, \"fin\": 3229, \"hebra\": 1},\n",
    "\n",
    "    # Genes de ARNt (según tu Tabla 1 y 2, pág. 6-7/23 en PDF)\n",
    "    {\"nombre_genbank\": \"MT-TF\", \"nombre_display\": \"F\", \"tipo\": \"tRNA\", \"inicio\": 577, \"fin\": 647, \"hebra\": 1},\n",
    "    {\"nombre_genbank\": \"MT-TV\", \"nombre_display\": \"V\", \"tipo\": \"tRNA\", \"inicio\": 1602, \"fin\": 1670, \"hebra\": 1},\n",
    "    {\"nombre_genbank\": \"MT-TL1\", \"nombre_display\": \"L(UUR)\", \"tipo\": \"tRNA\", \"inicio\": 3230, \"fin\": 3304, \"hebra\": 1},\n",
    "    {\"nombre_genbank\": \"MT-TI\", \"nombre_display\": \"I\", \"tipo\": \"tRNA\", \"inicio\": 4263, \"fin\": 4331, \"hebra\": 1},\n",
    "    {\"nombre_genbank\": \"MT-TQ\", \"nombre_display\": \"Q\", \"tipo\": \"tRNA\", \"inicio\": 4329, \"fin\": 4400, \"hebra\": -1}, # Es (L) complementaria\n",
    "    {\"nombre_genbank\": \"MT-TM\", \"nombre_display\": \"M\", \"tipo\": \"tRNA\", \"inicio\": 4402, \"fin\": 4469, \"hebra\": 1},\n",
    "    {\"nombre_genbank\": \"MT-TW\", \"nombre_display\": \"W\", \"tipo\": \"tRNA\", \"inicio\": 5512, \"fin\": 5579, \"hebra\": 1},\n",
    "    {\"nombre_genbank\": \"MT-TA\", \"nombre_display\": \"A\", \"tipo\": \"tRNA\", \"inicio\": 5587, \"fin\": 5655, \"hebra\": -1}, # Es (L) complementaria\n",
    "    {\"nombre_genbank\": \"MT-TN\", \"nombre_display\": \"N\", \"tipo\": \"tRNA\", \"inicio\": 5657, \"fin\": 5729, \"hebra\": -1}, # Es (L) complementaria\n",
    "    {\"nombre_genbank\": \"MT-TC\", \"nombre_display\": \"C\", \"tipo\": \"tRNA\", \"inicio\": 5761, \"fin\": 5826, \"hebra\": -1}, # Es (L) complementaria\n",
    "    {\"nombre_genbank\": \"MT-TY\", \"nombre_display\": \"Y\", \"tipo\": \"tRNA\", \"inicio\": 5826, \"fin\": 5891, \"hebra\": -1}, # Es (L) complementaria\n",
    "    {\"nombre_genbank\": \"MT-TS1\", \"nombre_display\": \"S(UCN)\", \"tipo\": \"tRNA\", \"inicio\": 7446, \"fin\": 7514, \"hebra\": -1}, # Es (L) complementaria\n",
    "    {\"nombre_genbank\": \"MT-TD\", \"nombre_display\": \"D\", \"tipo\": \"tRNA\", \"inicio\": 7518, \"fin\": 7585, \"hebra\": 1},\n",
    "    {\"nombre_genbank\": \"MT-TK\", \"nombre_display\": \"K\", \"tipo\": \"tRNA\", \"inicio\": 8295, \"fin\": 8364, \"hebra\": 1},\n",
    "    {\"nombre_genbank\": \"MT-TG\", \"nombre_display\": \"G\", \"tipo\": \"tRNA\", \"inicio\": 9991, \"fin\": 10058, \"hebra\": 1},\n",
    "    {\"nombre_genbank\": \"MT-TR\", \"nombre_display\": \"R\", \"tipo\": \"tRNA\", \"inicio\": 10405, \"fin\": 10469, \"hebra\": 1},\n",
    "    {\"nombre_genbank\": \"MT-TH\", \"nombre_display\": \"H\", \"tipo\": \"tRNA\", \"inicio\": 12138, \"fin\": 12206, \"hebra\": 1},\n",
    "    {\"nombre_genbank\": \"MT-TS2\", \"nombre_display\": \"S(AGY)\", \"tipo\": \"tRNA\", \"inicio\": 12207, \"fin\": 12265, \"hebra\": 1},\n",
    "    {\"nombre_genbank\": \"MT-TL2\", \"nombre_display\": \"L(CUN)\", \"tipo\": \"tRNA\", \"inicio\": 12266, \"fin\": 12336, \"hebra\": 1},\n",
    "    {\"nombre_genbank\": \"MT-TE\", \"nombre_display\": \"E\", \"tipo\": \"tRNA\", \"inicio\": 14674, \"fin\": 14742, \"hebra\": -1}, # Es (L) complementaria\n",
    "    {\"nombre_genbank\": \"MT-TT\", \"nombre_display\": \"T\", \"tipo\": \"tRNA\", \"inicio\": 15888, \"fin\": 15953, \"hebra\": 1},\n",
    "    {\"nombre_genbank\": \"MT-TP\", \"nombre_display\": \"P\", \"tipo\": \"tRNA\", \"inicio\": 15956, \"fin\": 16023, \"hebra\": -1}, # Es (L) complementaria\n",
    "\n",
    "    # Genes codificantes de proteínas (según tu Tabla 1, pág. 6/23 en PDF)\n",
    "    {\"nombre_genbank\": \"MT-ND1\", \"nombre_display\": \"ND1\", \"tipo\": \"gene\", \"inicio\": 3307, \"fin\": 4262, \"hebra\": 1},\n",
    "    {\"nombre_genbank\": \"MT-ND2\", \"nombre_display\": \"ND2\", \"tipo\": \"gene\", \"inicio\": 4470, \"fin\": 5511, \"hebra\": 1},\n",
    "    {\"nombre_genbank\": \"MT-CO1\", \"nombre_display\": \"CO1\", \"tipo\": \"gene\", \"inicio\": 5904, \"fin\": 7445, \"hebra\": 1},\n",
    "    {\"nombre_genbank\": \"MT-CO2\", \"nombre_display\": \"CO2\", \"tipo\": \"gene\", \"inicio\": 7586, \"fin\": 8269, \"hebra\": 1},\n",
    "    {\"nombre_genbank\": \"MT-ATP8\", \"nombre_display\": \"ATP8\", \"tipo\": \"gene\", \"inicio\": 8366, \"fin\": 8572, \"hebra\": 1},\n",
    "    {\"nombre_genbank\": \"MT-ATP6\", \"nombre_display\": \"ATP6\", \"tipo\": \"gene\", \"inicio\": 8527, \"fin\": 9207, \"hebra\": 1},\n",
    "    {\"nombre_genbank\": \"MT-CO3\", \"nombre_display\": \"CO3\", \"tipo\": \"gene\", \"inicio\": 9207, \"fin\": 9990, \"hebra\": 1},\n",
    "    {\"nombre_genbank\": \"MT-ND3\", \"nombre_display\": \"ND3\", \"tipo\": \"gene\", \"inicio\": 10059, \"fin\": 10404, \"hebra\": 1},\n",
    "    {\"nombre_genbank\": \"MT-ND4L\", \"nombre_display\": \"ND4L\", \"tipo\": \"gene\", \"inicio\": 10470, \"fin\": 10766, \"hebra\": 1},\n",
    "    {\"nombre_genbank\": \"MT-ND4\", \"nombre_display\": \"ND4\", \"tipo\": \"gene\", \"inicio\": 10760, \"fin\": 12137, \"hebra\": 1},\n",
    "    {\"nombre_genbank\": \"MT-ND5\", \"nombre_display\": \"ND5\", \"tipo\": \"gene\", \"inicio\": 12337, \"fin\": 14148, \"hebra\": 1},\n",
    "    {\"nombre_genbank\": \"MT-ND6\", \"nombre_display\": \"ND6\", \"tipo\": \"gene\", \"inicio\": 14149, \"fin\": 14673, \"hebra\": -1}, # Es (L) complementaria\n",
    "    {\"nombre_genbank\": \"MT-CYB\", \"nombre_display\": \"CYTB\", \"tipo\": \"gene\", \"inicio\": 14747, \"fin\": 15887, \"hebra\": 1},\n",
    "]"
   ]
  },
  {
   "cell_type": "code",
   "execution_count": 44,
   "id": "3fc655e0-8c64-408e-a886-b38c3b891530",
   "metadata": {
    "jupyter": {
     "source_hidden": true
    }
   },
   "outputs": [],
   "source": [
    "# ==============================================================================\n",
    "# BLOQUE 2: UTILIDADES DE CARGA Y EXTRACCIÓN DE CARACTERÍSTICAS (FEATURES)\n",
    "# ==============================================================================\n",
    "# Descripción: Funciones dedicadas a la carga de secuencias desde archivos\n",
    "# FASTA y a la extracción y procesamiento de características (features)\n",
    "# desde archivos GenBank, específicamente para la secuencia rCRS.\n",
    "# Se ha refactorizado la lógica de mapeo de features a tipos de pistas\n",
    "# para asegurar la correcta clasificación de Genes, rRNAs y tRNAs,\n",
    "# utilizando las nomenclaturas del GenBank y las de Mitomaster/SWGDAM.\n",
    "# ------------------------------------------------------------------------------\n",
    "\n",
    "# --- Tus importaciones y constantes globales del Bloque 1 deben estar arriba ---\n",
    "# Por ejemplo: from Bio import SeqIO, Align, etc.\n",
    "# RCRS_FASTA_PATH, RCRS_GENBANK_PATH, etc.\n",
    "\n",
    "# --- Mapeos y constantes globales para este bloque (asegúrate de que estén aquí) ---\n",
    "# Mapeo de códigos de aminoácidos de una letra a tres letras (para referencia interna, no siempre para display)\n",
    "aa_one_to_three_letter_map = {\n",
    "    'A': 'Ala', 'R': 'Arg', 'N': 'Asn', 'D': 'Asp', 'C': 'Cys',\n",
    "    'Q': 'Gln', 'E': 'Glu', 'G': 'Gly', 'H': 'His', 'I': 'Ile',\n",
    "    'L': 'Leu', 'K': 'Lys', 'M': 'Met', 'F': 'Phe', 'P': 'Pro',\n",
    "    'S': 'Ser', 'T': 'Thr', 'W': 'Trp', 'Y': 'Tyr', 'V': 'Val'\n",
    "}\n",
    "\n",
    "# Mapeo de códigos de aminoácidos de una letra para display en el TV (más conciso)\n",
    "aa_code_map_for_display = {\n",
    "    'A': 'A', 'R': 'R', 'N': 'N', 'D': 'D', 'C': 'C',\n",
    "    'Q': 'Q', 'E': 'E', 'G': 'G', 'H': 'H', 'I': 'I',\n",
    "    'K': 'K', 'M': 'M', 'F': 'F', 'P': 'P', 'T': 'T',\n",
    "    'W': 'W', 'Y': 'Y', 'V': 'V',\n",
    "    'L': 'L',\n",
    "    'S': 'S'\n",
    "}\n",
    "\n",
    "# Estandarización de nombres de genes codificantes de proteínas (Mitomaster style)\n",
    "protein_genes_map_short = {\n",
    "    \"MT-CO1\": \"CO1\", \"MT-COX1\": \"CO1\", \"COI\": \"CO1\", \"COX1\": \"CO1\",\n",
    "    \"MT-COII\": \"CO2\", \"MT-COX2\": \"CO2\", \"COII\": \"CO2\", \"COX2\": \"CO2\",\n",
    "    \"MT-COIII\": \"CO3\", \"MT-COX3\": \"CO3\", \"COIII\": \"CO3\", \"COX3\": \"CO3\",\n",
    "    \"MT-CYTB\": \"CYTB\", \"MT-CYB\": \"CYTB\", \"CYTB\": \"CYTB\", \"CYB\": \"CYTB\",\n",
    "    \"MT-ATP8\": \"ATP8\", \"MT-ATPASE8\": \"ATP8\", \"ATP8\": \"ATP8\", \"ATPASE8\": \"ATP8\",\n",
    "    \"MT-ATP6\": \"ATP6\", \"MT-ATPASE6\": \"ATP6\", \"ATP6\": \"ATP6\", \"ATPASE6\": \"ATP6\",\n",
    "    \"MT-ND1\":\"ND1\", \"ND1\":\"ND1\", \"MT-ND2\":\"ND2\", \"ND2\":\"ND2\", \"MT-ND3\":\"ND3\", \"ND3\":\"ND3\",\n",
    "    \"MT-ND4L\":\"ND4L\", \"ND4L\":\"ND4L\", \"MT-ND4\":\"ND4\", \"ND4\":\"ND4\", \"MT-ND5\":\"ND5\", \"ND5\":\"ND5\",\n",
    "    \"MT-ND6\":\"ND6\", \"ND6\":\"ND6\"\n",
    "}\n",
    "protein_genes_final_names = set(protein_genes_map_short.values())\n",
    "\n",
    "# Orden y mapeo de tipos de pistas finales (controla el eje Y en el TV)\n",
    "final_track_types_order = [\"D-loop\", \"tRNA\", \"rRNA\", \"gene\"] # Orden de abajo a arriba\n",
    "\n",
    "# Mapeo de tipos de feature del GenBank a los tipos de pista finales\n",
    "# Esto es para la categorización inicial\n",
    "genbank_to_track_type_map = {\n",
    "    \"D-loop\": \"D-loop\",\n",
    "    \"tRNA\": \"tRNA\",\n",
    "    \"rRNA\": \"rRNA\",\n",
    "    \"CDS\": \"gene\",\n",
    "    \"gene\": \"gene\"\n",
    "}\n",
    "\n",
    "\n",
    "def cargar_secuencia_fasta(ruta_archivo: str, id_esperado: str = None) -> SeqRecord | None:\n",
    "    \"\"\"Carga una secuencia desde un archivo FASTA.\"\"\"\n",
    "    try:\n",
    "        record = SeqIO.read(ruta_archivo, \"fasta\")\n",
    "        if id_esperado and record.id != id_esperado:\n",
    "            print(f\"Advertencia: El ID ('{record.id}') no coincide con el esperado ('{id_esperado}').\")\n",
    "        print(f\"Secuencia '{record.id}' cargada desde '{ruta_archivo}' (Longitud: {len(record.seq)} pb).\\n\")\n",
    "        return record\n",
    "    except FileNotFoundError:\n",
    "        print(f\"Error: No se encontró FASTA en: '{ruta_archivo}'\")\n",
    "        return None\n",
    "    except ValueError:\n",
    "        print(f\"Error: FASTA '{ruta_archivo}' mal formateado o con >1 secuencia.\")\n",
    "        return None\n",
    "    except Exception as e:\n",
    "        print(f\"Error al leer '{ruta_archivo}': {e}\")\n",
    "        return None\n",
    "\n",
    "def cargar_y_extraer_features_rcrs(gb_path: str) -> list:\n",
    "    \"\"\"\n",
    "    Carga un archivo GenBank de rCRS y extrae las características genómicas relevantes,\n",
    "    estandarizando sus nombres utilizando una definición maestra basada en la tesis,\n",
    "    incluyendo la hebra y la longitud para el Track Viewer.\n",
    "    \"\"\"\n",
    "    try:\n",
    "        rcrs_record_gb = SeqIO.read(gb_path, \"genbank\")\n",
    "        print(f\"Archivo GenBank rCRS '{rcrs_record_gb.id}' cargado. Extrayendo features...\")\n",
    "    except FileNotFoundError:\n",
    "        print(f\"Error: No se encontró el archivo GenBank rCRS en: '{gb_path}'\")\n",
    "        return []\n",
    "    except Exception as e:\n",
    "        print(f\"Error cargando el archivo GenBank rCRS '{gb_path}': {e}\")\n",
    "        return []\n",
    "\n",
    "    features_list = []\n",
    "    \n",
    "    # Lista para almacenar features que ya hemos \"usado\" del GenBank para evitar duplicados.\n",
    "    # Usaremos (type, start, end) para identificar unicidad.\n",
    "    processed_genbank_features_keys = set()\n",
    "\n",
    "    # --- 1. Procesar D-loop del GenBank (manejo especial por CompoundLocation) ---\n",
    "    for feature in rcrs_record_gb.features:\n",
    "        if feature.type == \"D-loop\":\n",
    "            if isinstance(feature.location, CompoundLocation):\n",
    "                for part_location in feature.location.parts:\n",
    "                    part_start_1based = int(part_location.start) + 1\n",
    "                    part_end_1based = int(part_location.end)\n",
    "                    feature_key = (\"D-loop\", part_start_1based, part_end_1based)\n",
    "                    if feature_key not in processed_genbank_features_keys:\n",
    "                        features_list.append({\n",
    "                            \"nombre\": \"D-loop\",\n",
    "                            \"inicio\": part_start_1based,\n",
    "                            \"fin\": part_end_1based,\n",
    "                            \"tipo\": \"D-loop\",\n",
    "                            \"hebra\": part_location.strand,\n",
    "                            \"longitud\": part_end_1based - part_start_1based + 1\n",
    "                        })\n",
    "                        processed_genbank_features_keys.add(feature_key)\n",
    "            else: # Simple D-loop feature\n",
    "                start_1based = int(feature.location.start) + 1\n",
    "                end_1based = int(feature.location.end)\n",
    "                feature_key = (\"D-loop\", start_1based, end_1based)\n",
    "                if feature_key not in processed_genbank_features_keys:\n",
    "                    features_list.append({\n",
    "                        \"nombre\": \"D-loop\",\n",
    "                        \"inicio\": start_1based,\n",
    "                        \"fin\": end_1based,\n",
    "                        \"tipo\": \"D-loop\",\n",
    "                        \"hebra\": feature.location.strand,\n",
    "                        \"longitud\": end_1based - start_1based + 1\n",
    "                    })\n",
    "                    processed_genbank_features_keys.add(feature_key)\n",
    "            # No break, ya que puede haber múltiples features de D-loop (aunque rCRS suele tener 1 Compound)\n",
    "            \n",
    "    # --- 2. Procesar los Genes, rRNAs y tRNAs de la DEFINICIÓN MAESTRA (TU TESIS) ---\n",
    "    for master_feat in MASTER_RCRS_FEATURES_DEFINITION:\n",
    "        display_name = master_feat[\"nombre_display\"]\n",
    "        final_track_type = master_feat[\"tipo\"]\n",
    "        start_pos = master_feat[\"inicio\"]\n",
    "        end_pos = master_feat[\"fin\"]\n",
    "        hebra_info = master_feat[\"hebra\"]\n",
    "        \n",
    "        # Verificar si este feature de la tesis ya fue cubierto por una parte del D-loop GenBank (poco probable)\n",
    "        feature_key = (final_track_type, start_pos, end_pos)\n",
    "        if feature_key in processed_genbank_features_keys:\n",
    "            continue # Ya procesado, saltar\n",
    "\n",
    "        features_list.append({\n",
    "            \"nombre\": display_name,\n",
    "            \"inicio\": start_pos,\n",
    "            \"fin\": end_pos,\n",
    "            \"tipo\": final_track_type,\n",
    "            \"hebra\": hebra_info,\n",
    "            \"longitud\": end_pos - start_pos + 1\n",
    "        })\n",
    "        processed_genbank_features_keys.add(feature_key)\n",
    "\n",
    "\n",
    "    # --- 3. Ordenar la lista final de features para la visualización ---\n",
    "    # Re-ordenar por el orden de pista final (final_track_types_order) y luego por posición de inicio.\n",
    "    features_list.sort(key=lambda x: (final_track_types_order.index(x[\"tipo\"]) if x[\"tipo\"] in final_track_types_order else 99, x[\"inicio\"]))\n",
    "\n",
    "    print(f\"Se extrajeron {len(features_list)} características relevantes de rCRS GenBank.\")\n",
    "    return features_list"
   ]
  },
  {
   "cell_type": "code",
   "execution_count": 45,
   "id": "812a060b-57b2-40d5-a7f3-c8d948cf7d42",
   "metadata": {
    "editable": true,
    "jupyter": {
     "source_hidden": true
    },
    "scrolled": true,
    "slideshow": {
     "slide_type": ""
    },
    "tags": []
   },
   "outputs": [],
   "source": [
    "# ==============================================================================\n",
    "# BLOQUE 3: UTILIDADES DE ALINEAMIENTO Y EXTRACCIÓN DE VARIANTES (V4)\n",
    "# ==============================================================================\n",
    "# Descripción: Funciones para realizar el alineamiento entre secuencias\n",
    "# (referencia y consulta) y para extraer las diferencias (variantes crudas)\n",
    "# a partir del alineamiento resultante.\n",
    "# SE HA ELIMINADO CÓDIGO REDUNDANTE/MUERTO AL FINAL DE extraer_variantes_crudas.\n",
    "# ------------------------------------------------------------------------------\n",
    "\n",
    "def realizar_alineamiento(rcrs_seq: Seq, query_seq: Seq, modo_alineamiento: str = 'local') -> Align.Alignment | None:\n",
    "    # ... (contenido original sin cambios) ...\n",
    "    print(f\"\\\\n--- Iniciando Paso 3: Alineamiento en modo '{modo_alineamiento}' ---\")\n",
    "    aligner = Align.PairwiseAligner()\n",
    "    aligner.mode = modo_alineamiento\n",
    "\n",
    "    # Matriz de sustitución personalizada (más adecuada para secuencias cercanas o ADN)\n",
    "    # Puntuaciones: Match=3, Mismatch=-3, N vs Base=1, N vs N=1\n",
    "    matrix_data = {\n",
    "        ('A','A'):3, ('A','T'):-3, ('A','G'):-3, ('A','C'):-3, ('A','N'):1,\n",
    "        ('T','T'):3, ('T','A'):-3, ('T','G'):-3, ('T','C'):-3, ('T','N'):1,\n",
    "        ('G','G'):3, ('G','A'):-3, ('G','T'):-3, ('G','C'):-3, ('G','N'):1,\n",
    "        ('C','C'):3, ('C','A'):-3, ('C','T'):-3, ('C','G'):-3, ('C','N'):1,\n",
    "        ('N','N'):1\n",
    "    }\n",
    "    # Asegurar simetría en la matriz\n",
    "    for k_tuple in list(matrix_data.keys()):\n",
    "        if (k_tuple[1], k_tuple[0]) not in matrix_data:\n",
    "            matrix_data[(k_tuple[1], k_tuple[0])] = matrix_data[k_tuple]\n",
    "    \n",
    "    custom_matrix = Align.substitution_matrices.Array(data=matrix_data)\n",
    "    aligner.substitution_matrix = custom_matrix\n",
    "    \n",
    "    # Penalizaciones por gap (ajustar según necesidad, estos son valores comunes)\n",
    "    aligner.open_gap_score = -7.0\n",
    "    aligner.extend_gap_score = -2.0\n",
    "    \n",
    "    print(f\"Configuración del alineador: Modo={aligner.mode}, OpenGap={aligner.open_gap_score}, ExtendGap={aligner.extend_gap_score}\")\n",
    "\n",
    "    try:\n",
    "        alignments = list(aligner.align(rcrs_seq, query_seq)) # Convertir generador a lista\n",
    "        if alignments:\n",
    "            best_alignment = alignments[0] # Biopython devuelve el mejor (o uno de los mejores) primero\n",
    "            print(f\"Alineamiento completado. Puntuación: {best_alignment.score}\")\n",
    "            return best_alignment\n",
    "        else:\n",
    "            print(\"No se encontraron alineamientos.\")\n",
    "            return None\n",
    "    except Exception as e:\n",
    "        print(f\"Ocurrió un error durante el alineamiento: {e}\")\n",
    "        import traceback\n",
    "        traceback.print_exc()\n",
    "        return None\n",
    "\n",
    "def get_substitution_type(ref_base: str, alt_base: str) -> str:\n",
    "    # ... (contenido original sin cambios) ...\n",
    "    purines = {'A', 'G'}\n",
    "    pyrimidines = {'C', 'T'}\n",
    "    ref_b, alt_b = ref_base.upper(), alt_base.upper()\n",
    "\n",
    "    if not (ref_b in \"ACGTN\" and alt_b in \"ACGTN\"): return \"desconocido\"\n",
    "    if ref_b == 'N' or alt_b == 'N': return \"substitution (con N)\"\n",
    "    if ref_b == alt_b: return \"identico\"\n",
    "\n",
    "    if (ref_b in purines and alt_b in purines) or \\\n",
    "       (ref_b in pyrimidines and alt_b in pyrimidines):\n",
    "        return \"transition\"\n",
    "    elif (ref_b in purines and alt_b in pyrimidines) or \\\n",
    "         (ref_b in pyrimidines and alt_b in purines):\n",
    "        return \"transversion\"\n",
    "    return \"substitution\"\n",
    "\n",
    "def extraer_variantes_crudas(alineamiento: Align.Alignment, rcrs_id: str, query_id: str, rcrs_len: int) -> tuple[list, str, str, int, int]:\n",
    "    print(\"\\\\n--- Iniciando Paso 4: Extracción de Variantes Crudas ---\")\n",
    "    \n",
    "    raw_variants = []\n",
    "    als_ref = \"\"\n",
    "    als_query = \"\"\n",
    "    alignment_offset_ref = 0 \n",
    "    alignment_offset_query = 0 \n",
    "\n",
    "    # ... (lógica para determinar offsets sin cambios) ...\n",
    "    if not alineamiento:\n",
    "        print(\"Error: Objeto de alineamiento no proporcionado.\")\n",
    "        return raw_variants, als_ref, als_query, alignment_offset_ref, alignment_offset_query\n",
    "\n",
    "    offset_determinad_con_exito = False\n",
    "    if hasattr(alineamiento, 'coordinates') and hasattr(alineamiento.coordinates, 'shape'):\n",
    "        if alineamiento.coordinates.shape[0] >= 1 and alineamiento.coordinates.shape[1] > 0:\n",
    "            try:\n",
    "                alignment_offset_ref = int(alineamiento.coordinates[0,0])\n",
    "                offset_determinad_con_exito = True \n",
    "            except (IndexError, TypeError, ValueError) as e:\n",
    "                print(f\"Advertencia: No se pudo extraer offset_ref de coordinates (shape={alineamiento.coordinates.shape}): {e}\")\n",
    "        if alineamiento.coordinates.shape[0] >= 2 and alineamiento.coordinates.shape[1] > 0:\n",
    "            try:\n",
    "                alignment_offset_query = int(alineamiento.coordinates[1,0])\n",
    "            except (IndexError, TypeError, ValueError) as e:\n",
    "                print(f\"Advertencia: No se pudo extraer offset_query de coordinates (shape={alineamiento.coordinates.shape}): {e}\")\n",
    "    \n",
    "    if not offset_determinad_con_exito and hasattr(alineamiento, 'aligned') and isinstance(alineamiento.aligned, tuple) and len(alineamiento.aligned) == 2:\n",
    "        print(\"Información: Intentando obtener offsets desde 'alineamiento.aligned'.\")\n",
    "        if isinstance(alineamiento.aligned[0], tuple) and len(alineamiento.aligned[0]) > 0 and \\\n",
    "           isinstance(alineamiento.aligned[0][0], tuple) and len(alineamiento.aligned[0][0]) == 2:\n",
    "            try: \n",
    "                alignment_offset_ref = alineamiento.aligned[0][0][0]\n",
    "                offset_determinad_con_exito = True\n",
    "            except: pass \n",
    "        if isinstance(alineamiento.aligned[1], tuple) and len(alineamiento.aligned[1]) > 0 and \\\n",
    "           isinstance(alineamiento.aligned[1][0], tuple) and len(alineamiento.aligned[1][0]) == 2:\n",
    "            try: alignment_offset_query = alineamiento.aligned[1][0][0]\n",
    "            except: pass\n",
    "    \n",
    "    if not offset_determinad_con_exito:\n",
    "         print(f\"ADVERTENCIA FINAL: No se pudieron determinar los offsets de inicio del alineamiento de forma precisa. Asumiendo offset_ref=0 y offset_query=0.\")\n",
    "         alignment_offset_ref = 0 \n",
    "         alignment_offset_query = 0\n",
    "\n",
    "    ref_pos_in_align_segment = 0 \n",
    "    try:\n",
    "        als_ref = str(alineamiento[0])\n",
    "        als_query = str(alineamiento[1])\n",
    "        if not als_ref or not als_query or len(als_ref) != len(als_query):\n",
    "            print(f\"Error en obtención de secuencias alineadas: Longitudes no coinciden. Ref:{len(als_ref)}, Query:{len(als_query)}\")\n",
    "            return [], \"\", \"\", 0, 0 \n",
    "        \n",
    "        i = 0\n",
    "        while i < len(als_ref):\n",
    "            r_base, q_base = als_ref[i], als_query[i]\n",
    "            align_col_idx = i \n",
    "            consumes_ref_current_char = (r_base != '-')\n",
    "            current_abs_pos_1_based_ref = alignment_offset_ref + ref_pos_in_align_segment + 1\n",
    "            \n",
    "            if r_base != q_base:\n",
    "                if r_base != '-' and q_base != '-': \n",
    "                    var_type = get_substitution_type(r_base, q_base)\n",
    "                    raw_variants.append({'pos': current_abs_pos_1_based_ref, 'ref': r_base.upper(), 'alt': q_base.upper(), 'type': var_type, 'align_idx': align_col_idx})\n",
    "                    i += 1\n",
    "                elif r_base == '-': \n",
    "                    ins_seq = \"\"\n",
    "                    start_align_idx = align_col_idx\n",
    "                    insertion_point_ref_pos_0_based = alignment_offset_ref + ref_pos_in_align_segment -1\n",
    "                    if ref_pos_in_align_segment == 0 and alignment_offset_ref == 0: \n",
    "                        insertion_point_ref_pos_0_based = -1 \n",
    "                    \n",
    "                    while i < len(als_ref) and als_ref[i] == '-':\n",
    "                        ins_seq += als_query[i]\n",
    "                        i += 1\n",
    "                    raw_variants.append({'pos': insertion_point_ref_pos_0_based, 'ref': '-', 'alt': ins_seq.upper(), 'type': 'insertion', 'align_idx': start_align_idx})\n",
    "                elif q_base == '-': \n",
    "                    del_seq = \"\"\n",
    "                    start_align_idx = align_col_idx\n",
    "                    del_start_abs_pos_1_based = current_abs_pos_1_based_ref\n",
    "                    temp_ref_pos_tracker_del_segment = ref_pos_in_align_segment \n",
    "                    while i < len(als_ref) and als_query[i] == '-':\n",
    "                        del_seq += als_ref[i]\n",
    "                        i += 1\n",
    "                        if als_ref[i-1] != '-':\n",
    "                             temp_ref_pos_tracker_del_segment +=1 \n",
    "                    raw_variants.append({'pos': del_start_abs_pos_1_based, 'ref': del_seq.upper(), 'alt': '-', 'type': 'deletion', 'align_idx': start_align_idx})\n",
    "                    ref_pos_in_align_segment = temp_ref_pos_tracker_del_segment \n",
    "                    continue \n",
    "            else: \n",
    "                i += 1\n",
    "            \n",
    "            if consumes_ref_current_char: \n",
    "                ref_pos_in_align_segment += 1\n",
    "        \n",
    "        print(f\"Se encontraron {len(raw_variants)} diferencias crudas (antes de filtrar).\")\n",
    "\n",
    "        # --- INICIO DE LA LÓGICA DE FILTRADO MODIFICADA PARA ARTEFACTOS Y 3107 ---\n",
    "    \n",
    "        variants_final_filtradas = [] \n",
    "        num_artefactos_filtrados_total = 0\n",
    "        \n",
    "        for var_cruda in raw_variants:\n",
    "            filtrar_esta_variante = False\n",
    "            \n",
    "            tipo_var = var_cruda.get('type', '')\n",
    "            pos_var = var_cruda.get('pos')\n",
    "            ref_var = var_cruda.get('ref', '').upper()\n",
    "            alt_var = var_cruda.get('alt', '').upper()\n",
    "\n",
    "            # Condición 0: Filtrar la posición 3107 según SWGDAM/EMPOP\n",
    "            if pos_var == POS_3107_BLACKLISTED:\n",
    "                filtrar_esta_variante = True\n",
    "                # print(f\"DEBUG: Filtrando por Condición 0 (Posición {POS_3107_BLACKLISTED}): {var_cruda}\")\n",
    "\n",
    "            # Condición 1: Artefacto m.3107delN (aunque ya cubierto por Condición 0, lo mantenemos por si acaso)\n",
    "            elif tipo_var == 'deletion' and pos_var == 3107 and ref_var == 'N':\n",
    "                filtrar_esta_variante = True\n",
    "                # print(f\"DEBUG: Filtrando por Condición 1 (3107delN): {var_cruda}\")\n",
    "\n",
    "            # Condición 2: Artefacto C3106N (Sustitución C>N en pos 3106)\n",
    "            # (La rCRS tiene C en 3106. Si la query tiene N allí)\n",
    "            elif tipo_var.startswith('substitution') and pos_var == 3106 and ref_var == 'C' and alt_var == 'N':\n",
    "                filtrar_esta_variante = True\n",
    "                # print(f\"DEBUG: Filtrando por Condición 2 (C3106N): {var_cruda}\")\n",
    "\n",
    "            # Condición 3: Artefacto N3107X (Sustitución N>[ACGT] en pos 3107)\n",
    "            # (La rCRS tiene N en 3107. Si la query tiene una base canónica allí)\n",
    "            elif tipo_var.startswith('substitution') and pos_var == 3107 and ref_var == 'N' and alt_var in ['A', 'C', 'G', 'T']:\n",
    "                filtrar_esta_variante = True\n",
    "                # print(f\"DEBUG: Filtrando por Condición 3 (N3107X): {var_cruda}\")\n",
    "\n",
    "            if filtrar_esta_variante:\n",
    "                num_artefactos_filtrados_total += 1\n",
    "            else:\n",
    "                variants_final_filtradas.append(var_cruda)\n",
    "        \n",
    "        if num_artefactos_filtrados_total > 0:\n",
    "            print(f\"Se filtraron {num_artefactos_filtrados_total} variantes problemáticas/artefactos (ej. 3107, C3106N, N3107X). Variantes restantes: {len(variants_final_filtradas)}\")\n",
    "        # --- FIN DE LA LÓGICA DE FILTRADO MODIFICADA ---\n",
    "        \n",
    "        return variants_final_filtradas, als_ref, als_query, alignment_offset_ref, alignment_offset_query\n",
    "    \n",
    "    except Exception as e: # <--- ¡Asegúrate de que este 'except' y su contenido existan y estén al mismo nivel que 'try'!\n",
    "        print(f\"Error extrayendo variantes: {type(e).__name__}: {e}\")\n",
    "        import traceback\n",
    "        traceback.print_exc()\n",
    "        return [], \"\", \"\", alignment_offset_ref, alignment_offset_query"
   ]
  },
  {
   "cell_type": "code",
   "execution_count": 46,
   "id": "241e4022-a5ad-4159-9787-1bbb62ffcdb8",
   "metadata": {
    "jupyter": {
     "source_hidden": true
    }
   },
   "outputs": [],
   "source": [
    "# ==============================================================================\n",
    "# BLOQUE 4: ANOTACIÓN DE LOCUS Y UTILIDADES DE HOTSPOT\n",
    "# ==============================================================================\n",
    "# Descripción: Funciones para anotar la región o gen mitocondrial afectado\n",
    "# por una variante y para identificar si una variante cae en una región hotspot.\n",
    "# ------------------------------------------------------------------------------\n",
    "\n",
    "def anotar_locus_variante(pos_variante_1based: int, tipo_variante: str, longitud_evento: int, features_rcrs: list) -> str:\n",
    "    \"\"\"\n",
    "    Anota el locus de una variante basándose en su posición y las features de rCRS.\n",
    "    'longitud_evento' es len(alt) para inserciones/sustituciones, len(ref) para deleciones.\n",
    "    \"\"\"\n",
    "    if not features_rcrs: return \"N/A (Features no disponibles)\"\n",
    "    if not isinstance(pos_variante_1based, int) or pos_variante_1based <= 0: return \"N/A (Posición inválida)\"\n",
    "\n",
    "    # Determinar el rango de posiciones afectado por la variante en coordenadas 1-based\n",
    "    start_affected_pos = pos_variante_1based\n",
    "    end_affected_pos = pos_variante_1based\n",
    "\n",
    "    if tipo_variante == 'insertion':\n",
    "        # Una inserción ocurre *después* de pos_variante_1based (si se ancla a la base anterior)\n",
    "        # o *entre* pos_variante_1based y pos_variante_1based+1.\n",
    "        # Para la búsqueda de locus, consideramos que afecta el punto de inserción.\n",
    "        # Si la pos_variante_1based es la base *anterior* a la inserción, entonces la inserción\n",
    "        # ocurre entre pos_variante_1based y (pos_variante_1based + 1).\n",
    "        # Consideramos que la variante \"toca\" ambas posiciones para el solapamiento.\n",
    "        start_affected_pos = pos_variante_1based \n",
    "        end_affected_pos = pos_variante_1based + 1 # El \"espacio\" donde se inserta\n",
    "    elif tipo_variante == 'deletion':\n",
    "        end_affected_pos = pos_variante_1based + longitud_evento - 1\n",
    "    elif tipo_variante in [\"transition\", \"transversion\", \"substitution\", \"substitution (con N)\"]:\n",
    "        # Para sustituciones, solo afecta a la posición dada.\n",
    "        pass # start_affected_pos y end_affected_pos ya están correctos.\n",
    "    \n",
    "    regiones_solapantes = []\n",
    "    for feature in features_rcrs:\n",
    "        # Comprobar solapamiento: !(feature_fin < var_inicio || feature_inicio > var_fin)\n",
    "        if not (feature['fin'] < start_affected_pos or feature['inicio'] > end_affected_pos):\n",
    "            regiones_solapantes.append(feature)\n",
    "\n",
    "    if not regiones_solapantes:\n",
    "        # Si no hay solapamiento directo, buscar regiones intergénicas.\n",
    "        feature_anterior = None\n",
    "        feature_siguiente = None\n",
    "        for f_idx, f_val in enumerate(features_rcrs):\n",
    "            if f_val['fin'] < start_affected_pos: # Completamente antes\n",
    "                if feature_anterior is None or f_val['fin'] > feature_anterior['fin']:\n",
    "                    feature_anterior = f_val\n",
    "            elif f_val['inicio'] > end_affected_pos: # Completamente después\n",
    "                if feature_siguiente is None or f_val['inicio'] < feature_siguiente['inicio']:\n",
    "                    feature_siguiente = f_val\n",
    "                break # Las features están ordenadas, no es necesario seguir.\n",
    "        \n",
    "        if feature_anterior and feature_siguiente:\n",
    "            # Caso especial: inserción exactamente entre dos genes contiguos\n",
    "            if tipo_variante == 'insertion' and \\\n",
    "               start_affected_pos == feature_anterior['fin'] and \\\n",
    "               end_affected_pos == feature_siguiente['inicio']:\n",
    "                return f\"Entre ({feature_anterior['nombre']}, {feature_siguiente['nombre']})\"\n",
    "            \n",
    "            # Si está cerca de ambas, es intergénica. Distancia umbral (e.g. 10bp)\n",
    "            distancia_intergenica = feature_siguiente['inicio'] - feature_anterior['fin'] -1 \n",
    "            if 0 <= distancia_intergenica <= 10 : # Espacio intergénico pequeño\n",
    "                 return f\"Intergénica ({feature_anterior['nombre']}-{feature_siguiente['nombre']})\"\n",
    "            else: # Espacio intergénico grande o no definido claramente\n",
    "                return \"Región no anotada (intergénica amplia)\"\n",
    "        elif feature_anterior and start_affected_pos > feature_anterior['fin']:\n",
    "            return f\"Posterior a {feature_anterior['nombre']}\"\n",
    "        elif feature_siguiente and end_affected_pos < feature_siguiente['inicio']:\n",
    "            return f\"Anterior a {feature_siguiente['nombre']}\"\n",
    "        return \"Región desconocida (extremos del genoma o error)\"\n",
    "\n",
    "    # Priorizar tipos funcionales (CDS, rRNA, tRNA) si hay múltiples solapamientos\n",
    "    tipos_prioritarios = [\"CDS\", \"rRNA\", \"tRNA\"]\n",
    "    regiones_prioritarias = [f['nombre'] for f in regiones_solapantes if f['tipo'] in tipos_prioritarios]\n",
    "    \n",
    "    nombres_finales = []\n",
    "    if regiones_prioritarias:\n",
    "        nombres_finales = list(set(regiones_prioritarias)) # Nombres únicos\n",
    "    else: # Si no hay funcionales, usar cualquier tipo de región solapante (e.g. D-loop)\n",
    "        nombres_finales = list(set(f['nombre'] for f in regiones_solapantes))\n",
    "\n",
    "    nombres_finales.sort() # Ordenar alfabéticamente para consistencia\n",
    "\n",
    "    if not nombres_finales: return \"Región no anotada (solapamiento sin nombre)\"\n",
    "    return \", \".join(nombres_finales)\n",
    "\n",
    "\n",
    "def es_variante_en_hotspot(posicion_variante: int, tipo_variante_cruda: str, longitud_evento: int = 1) -> bool:\n",
    "    \"\"\"\n",
    "    Verifica si una variante (indel) cae dentro de una región hotspot definida.\n",
    "    'posicion_variante' es 1-based. Para inserciones, es la base *anterior*.\n",
    "    'longitud_evento' es relevante para deleciones.\n",
    "    \"\"\"\n",
    "    if tipo_variante_cruda not in [\"insertion\", \"deletion\"]:\n",
    "        return False\n",
    "    if not isinstance(posicion_variante, int): return False\n",
    "\n",
    "    # Las regiones HOTSPOT_REGIONS son 1-based.\n",
    "    # Para inserciones: la posición 'posicion_variante' es la base 0-based *antes* de la inserción,\n",
    "    # por lo que la inserción ocurre *después* de (posicion_variante + 1) en 1-based.\n",
    "    # Para deleciones: 'posicion_variante' es el inicio 1-based de la deleción.\n",
    "    \n",
    "    start_affected_region = -1\n",
    "    end_affected_region = -1\n",
    "\n",
    "    if tipo_variante_cruda == \"insertion\":\n",
    "        # Inserción ocurre *después* de 'posicion_variante' (si 0-based),\n",
    "        # o entre 'posicion_variante' y 'posicion_variante + 1' (si 1-based).\n",
    "        # Si la 'posicion_variante' que llega es 0-based (como en variantes crudas),\n",
    "        # el punto de inserción 1-based es (posicion_variante + 1).\n",
    "        # El evento de inserción se considera en la \"unión\" o \"gap\" entre bases.\n",
    "        # Para hotspots de indel, se suele referenciar a las bases adyacentes.\n",
    "        # ej. Inserción en 309.1C -> hotspot 303-315. pos_cruda es 301 (0-based) -> 302 (1-based)\n",
    "        # Si la 'posicion_variante' es la pos 0-based ANTERIOR (lo que usa 'extraer_variantes_crudas'), entonces el punto de inserción es (posicion_variante + 1)\n",
    "        # Este es el punto donde se inserta, así que es el que se compara.\n",
    "        # La 'posicion_variante' que llega a 'generar_tabla_y_exportar' para 'es_variante_en_hotspot'\n",
    "        # viene de `var_cruda.get('pos')`. Para inserciones, esto es 0-based.\n",
    "        # Entonces, el punto real de inserción en 1-based es `posicion_variante + 1`.\n",
    "        point_of_insertion_1based = posicion_variante + 1 \n",
    "        start_affected_region = point_of_insertion_1based\n",
    "        end_affected_region = point_of_insertion_1based # Un punto\n",
    "    elif tipo_variante_cruda == \"deletion\":\n",
    "        # 'posicion_variante' es el inicio 1-based de la deleción (como en variantes crudas)\n",
    "        start_affected_region = posicion_variante\n",
    "        end_affected_region = posicion_variante + longitud_evento - 1\n",
    "    \n",
    "    if start_affected_region == -1: return False\n",
    "\n",
    "    for hs_start, hs_end, _ in HOTSPOT_REGIONS:\n",
    "        # Comprobar si la región afectada por la variante [start_affected_region, end_affected_region]\n",
    "        # solapa con la región hotspot [hs_start, hs_end].\n",
    "        # Solapamiento si: !(hs_end < start_affected_region || hs_start > end_affected_region)\n",
    "        if not (hs_end < start_affected_region or hs_start > end_affected_region):\n",
    "            return True\n",
    "    return False\n",
    "\n",
    "def obtener_hvs_region(pos_variante_1based: int) -> str | None:\n",
    "    \"\"\"\n",
    "    Determina si una posición cae en una región hipervariable (HVS-I, HVS-II, HVS-III).\n",
    "    Retorna el nombre de la región (ej. \"HVS-I\") o None si no cae en ninguna.\n",
    "    \"\"\"\n",
    "    for hvs in HVS_REGIONS: # HVS_REGIONS debe ser accesible (definido globalmente)\n",
    "        if hvs[\"inicio\"] <= pos_variante_1based <= hvs[\"fin\"]:\n",
    "            return hvs[\"nombre\"]\n",
    "    return None"
   ]
  },
  {
   "cell_type": "code",
   "execution_count": 47,
   "id": "d044c82c-f1fe-485e-9e4a-27e408119691",
   "metadata": {
    "jupyter": {
     "source_hidden": true
    }
   },
   "outputs": [],
   "source": [
    "# ==============================================================================\n",
    "# BLOQUE 5: PROVEEDOR DE SECUENCIAS HGVS Y NORMALIZACIÓN/FORMATEO (V10)\n",
    "# ==============================================================================\n",
    "# Descripción: Incluye la clase LocalSeqProvider, normalización HGVS,\n",
    "# y formateo Mitomaster/EMPOP.\n",
    "# SE HAN ELIMINADO PRINTS DE DEPURACIÓN Y AJUSTADO EL MANEJO DE DELECIONES HVII EN MITOMASTER.\n",
    "# ------------------------------------------------------------------------------\n",
    "\n",
    "import hgvs.parser\n",
    "import hgvs.dataproviders.interface\n",
    "import hgvs.normalizer\n",
    "import hgvs.exceptions\n",
    "import re # Para formatear_variantes_empop\n",
    "\n",
    "class LocalSeqProvider(hgvs.dataproviders.interface.Interface):\n",
    "    def __init__(self, seq_dict: dict):\n",
    "        self._seq_dict = seq_dict\n",
    "        self.source = \"local_dict_provider\"\n",
    "    @property\n",
    "    def data_version(self) -> str: return \"1.0\"\n",
    "    @property\n",
    "    def schema_version(self) -> str: return \"1.0\"\n",
    "    def get_seq(self, ac: str, start_i: int = None, end_i: int = None) -> str:\n",
    "        seq = self._seq_dict.get(ac)\n",
    "        if seq is None: raise hgvs.exceptions.HGVSDataNotAvailableError(f\"Secuencia '{ac}' no encontrada\")\n",
    "        len_seq = len(seq); start = start_i if start_i is not None else 0; end = end_i if end_i is not None else len_seq\n",
    "        if start < 0: start = len_seq + start\n",
    "        if end < 0: end = len_seq + end\n",
    "        start = max(0, start); end = min(len_seq, end)\n",
    "        if start >= end: return \"\"\n",
    "        return seq[start:end]\n",
    "    # ... (resto de métodos de LocalSeqProvider sin cambios) ...\n",
    "    def get_assembly_map(self, assembly_name): raise NotImplementedError(\"get_assembly_map no implementado\")\n",
    "    def get_gene_info(self, gene): raise NotImplementedError(\"get_gene_info no implementado\")\n",
    "    def get_tx_exons(self, tx_ac, alt_ac, alt_aln_method): raise NotImplementedError(\"get_tx_exons no implementado\")\n",
    "    def get_tx_for_gene(self, gene): raise NotImplementedError(\"get_tx_for_gene no implementado\")\n",
    "    def get_tx_identity_info(self, tx_ac): raise NotImplementedError(\"get_tx_identity_info no implementado\")\n",
    "    def get_tx_info(self, tx_ac, alt_ac, alt_aln_method): raise NotImplementedError(\"get_tx_info no implementado\")\n",
    "    def get_tx_mapping_options(self, tx_ac): raise NotImplementedError(\"get_tx_mapping_options no implementado\")\n",
    "    def get_tx_seq(self, tx_ac): raise NotImplementedError(\"get_tx_seq no implementado\")\n",
    "    def get_acs_for_protein_seq(self, seq): raise NotImplementedError(\"get_acs_for_protein_seq no implementado\")\n",
    "    def get_similar_transcripts(self, tx_ac): raise NotImplementedError(\"get_similar_transcripts no implementado\")\n",
    "    def get_tx_for_region(self, alt_ac, alt_aln_method, start_i, end_i): raise NotImplementedError(\"get_tx_for_region no implementado\")\n",
    "    def get_pro_ac_for_tx_ac(self, tx_ac): raise NotImplementedError(\"get_pro_ac_for_tx_ac no implementado\")\n",
    "    def get_seq_part(self, ac, start_i=None, end_i=None): return self.get_seq(ac, start_i, end_i)\n",
    "    def __contains__(self, ac: str) -> bool: return ac in self._seq_dict\n",
    "    def list_assemblies(self): raise NotImplementedError(\"list_assemblies no implementado\")\n",
    "    def list_genes(self): raise NotImplementedError(\"list_genes no implementado\")\n",
    "\n",
    "\n",
    "def normalizar_y_nombrar_hgvs(variantes_crudas: list, ref_accession: str, ref_sequence_str: str) -> list:\n",
    "    \n",
    "    print(\"\\n--- Iniciando Paso 5: Nomenclatura y Normalización HGVS ---\")\n",
    "    if not variantes_crudas: return []\n",
    "    try:\n",
    "        seq_dict = {ref_accession: ref_sequence_str}\n",
    "        hdp_local = LocalSeqProvider(seq_dict)\n",
    "        hp = hgvs.parser.Parser()\n",
    "        hn = hgvs.normalizer.Normalizer(hdp_local, shuffle_direction=3, cross_boundaries=True)\n",
    "        normalized_hgvs_strings = []\n",
    "        print(f\"Procesando {len(variantes_crudas)} variantes crudas con HGVS...\")\n",
    "        for i, var_dict in enumerate(variantes_crudas):\n",
    "            hgvs_string_base = f\"{ref_accession}:m.\"\n",
    "            hgvs_string_var_part = \"\"\n",
    "            try:\n",
    "                pos_input_cruda = var_dict['pos']; ref_allele = var_dict['ref'].upper()\n",
    "                alt_allele = var_dict['alt'].upper(); var_type = var_dict['type']\n",
    "            except KeyError as ke: normalized_hgvs_strings.append(f\"ERROR_DATO_FALTANTE_EN_VAR_CRUDA ({ke}): {var_dict}\"); continue\n",
    "            except Exception as e: normalized_hgvs_strings.append(f\"ERROR_INESPERADO_EN_VAR_CRUDA ({type(e).__name__}): {var_dict}\"); continue\n",
    "            if var_type in [\"transition\",\"transversion\",\"substitution\",\"substitution (con N)\"]:\n",
    "                pos_1based_sub = int(pos_input_cruda)\n",
    "                if pos_1based_sub <= 0: normalized_hgvs_strings.append(f\"ERROR_POS_SUB_INVALIDA ({pos_1based_sub}): {var_dict}\"); continue\n",
    "                hgvs_string_var_part = f\"{pos_1based_sub}{ref_allele}>{alt_allele}\"\n",
    "            elif var_type == 'deletion':\n",
    "                pos_1based_del_start = int(pos_input_cruda)\n",
    "                if pos_1based_del_start <= 0: normalized_hgvs_strings.append(f\"ERROR_POS_DEL_INVALIDA ({pos_1based_del_start}): {var_dict}\"); continue\n",
    "                len_del = len(ref_allele)\n",
    "                if len_del == 0: normalized_hgvs_strings.append(f\"ERROR_DEL_SIN_REF: {var_dict}\"); continue\n",
    "                if len_del > 1: end_pos_del = pos_1based_del_start + len_del - 1; hgvs_string_var_part = f\"{pos_1based_del_start}_{end_pos_del}del\"\n",
    "                else: hgvs_string_var_part = f\"{pos_1based_del_start}del\" \n",
    "            elif var_type == 'insertion':\n",
    "                pos_0based_anterior_ins = int(pos_input_cruda) \n",
    "                if pos_0based_anterior_ins < 0: hgvs_pos_anterior_1based = 0; hgvs_pos_siguiente_1based = 1\n",
    "                else: hgvs_pos_anterior_1based = pos_0based_anterior_ins + 1; hgvs_pos_siguiente_1based = hgvs_pos_anterior_1based + 1\n",
    "                hgvs_string_var_part = f\"{hgvs_pos_anterior_1based}_{hgvs_pos_siguiente_1based}ins{alt_allele}\"\n",
    "            if not hgvs_string_var_part: normalized_hgvs_strings.append(f\"UNPROCESSED_FORMAT_HGVS ({var_type}): {var_dict}\"); continue\n",
    "            hgvs_full_string_to_parse = hgvs_string_base + hgvs_string_var_part\n",
    "            try:\n",
    "                parsed_variant = hp.parse_hgvs_variant(hgvs_full_string_to_parse)\n",
    "                normalized_variant = hn.normalize(parsed_variant)\n",
    "                normalized_hgvs_strings.append(str(normalized_variant))\n",
    "            except Exception as e_norm: \n",
    "                if var_type == 'deletion' and 'pos_1based_del_start' in locals() and len(ref_allele) == 1 and pos_1based_del_start > 0:\n",
    "                    hgvs_string_var_part_alt_del = f\"{pos_1based_del_start}del{ref_allele}\" # Intenta formato m.XdelN\n",
    "                    hgvs_full_string_alt_del = hgvs_string_base + hgvs_string_var_part_alt_del\n",
    "                    try:\n",
    "                        parsed_variant_alt = hp.parse_hgvs_variant(hgvs_full_string_alt_del)\n",
    "                        normalized_variant_alt = hn.normalize(parsed_variant_alt)\n",
    "                        normalized_hgvs_strings.append(str(normalized_variant_alt) + \" (ReintentoDel)\")\n",
    "                    except Exception as e_retry: normalized_hgvs_strings.append(f\"{hgvs_full_string_to_parse} (Error HGVS: {type(e_norm).__name__}), ReintentoDel {hgvs_full_string_alt_del} (FALLIDO: {type(e_retry).__name__})\")\n",
    "                else: normalized_hgvs_strings.append(f\"{hgvs_full_string_to_parse} (ERROR HGVS General: {type(e_norm).__name__} - {e_norm})\")\n",
    "        print(f\"Procesamiento HGVS completado. {len(normalized_hgvs_strings)} variantes procesadas.\")\n",
    "        return normalized_hgvs_strings\n",
    "    except Exception as e_setup:\n",
    "        print(f\"Error general en la configuración o proceso de normalización HGVS: {e_setup}\"); import traceback; traceback.print_exc()\n",
    "        return [f\"ERROR_HGVS_SETUP ({type(e_setup).__name__}): {v}\" for v in variantes_crudas]\n",
    "\n",
    "def formatear_estilo_mitomaster(\n",
    "    hgvs_norm_strings: list, \n",
    "    ref_acc_id: str, \n",
    "    ref_sequence_str_original: str, \n",
    "    variantes_crudas_originales: list \n",
    ") -> list:\n",
    "    print(\"\\n--- Iniciando Paso 5b: Formateo estilo Mitomaster ---\")\n",
    "    mitomaster_formateadas = []\n",
    "    if not hgvs_norm_strings: return mitomaster_formateadas\n",
    "\n",
    "    hp_temp_parser = hgvs.parser.Parser()\n",
    "\n",
    "    for idx_hgvs, hgvs_norm_string in enumerate(hgvs_norm_strings):\n",
    "        prefix_to_remove = ref_acc_id + \":m.\"\n",
    "        variant_part_hgvs = hgvs_norm_string[len(prefix_to_remove):] if hgvs_norm_string.startswith(prefix_to_remove) else hgvs_norm_string\n",
    "        formato_final_mitomaster = variant_part_hgvs \n",
    "\n",
    "        if any(err_tag in hgvs_norm_string for err_tag in [\"ERROR\", \"UNPROCESSED\", \"FALLIDO\", \"FORMATO_\"]):\n",
    "            mitomaster_formateadas.append(hgvs_norm_string)\n",
    "            continue\n",
    "        \n",
    "        var_cruda_actual = None\n",
    "        original_variant_type_is_insertion = False\n",
    "        original_inserted_sequence = \"\"\n",
    "        original_pos_cruda_0based_ins = -1\n",
    "        \n",
    "        # Obtener la variante cruda original asociada al HGVS normalizado\n",
    "        if idx_hgvs < len(variantes_crudas_originales):\n",
    "             var_cruda_actual = variantes_crudas_originales[idx_hgvs]\n",
    "             # Determinar el tipo de variante original (sustitución, deleción, inserción)\n",
    "             # y la secuencia insertada/deletada para los casos especiales.\n",
    "             original_variant_type = var_cruda_actual.get('type')\n",
    "             original_ref_seq_cruda = var_cruda_actual.get('ref', '').upper()\n",
    "             original_alt_seq_cruda = var_cruda_actual.get('alt', '').upper()\n",
    "             original_pos_cruda_1based = var_cruda_actual.get('pos') # Asumimos 1-based para Mitomaster\n",
    "\n",
    "             if original_variant_type == 'insertion':\n",
    "                 original_variant_type_is_insertion = True\n",
    "                 original_inserted_sequence = original_alt_seq_cruda\n",
    "                 original_pos_cruda_0based_ins = var_cruda_actual.get('pos', -1) # Esta es la pos 0-based ANTES de la inserción\n",
    "\n",
    "        # --- CASOS ESPECIALES DE HOTSPOTS (prioridad sobre HGVS normalizado si es necesario) ---\n",
    "        # Estos son los que ya tenías para Mitomaster. Se mantienen si son válidos.\n",
    "        if original_variant_type_is_insertion and var_cruda_actual:\n",
    "            # Caso 309CCC (C309CCC)\n",
    "            if original_pos_cruda_0based_ins == 301 and original_inserted_sequence == \"CC\":\n",
    "                if 0 <= 308 < len(ref_sequence_str_original) and ref_sequence_str_original[308] == 'C': # C en pos 309\n",
    "                    formato_final_mitomaster = \"C309CCC\" \n",
    "                    mitomaster_formateadas.append(formato_final_mitomaster)\n",
    "                    continue \n",
    "            # Caso 16193CC (C16193CC)\n",
    "            elif original_pos_cruda_0based_ins == 16182 and original_inserted_sequence == \"C\":\n",
    "                 if 0 <= 16192 < len(ref_sequence_str_original) and ref_sequence_str_original[16192] == 'C': # C en pos 16193\n",
    "                    formato_final_mitomaster = \"C16193CC\" \n",
    "                    mitomaster_formateadas.append(formato_final_mitomaster)\n",
    "                    continue\n",
    "        \n",
    "        # --- NUEVOS CASOS ESPECIALES DE MITOMASTER (Basados en discrepancias) ---\n",
    "        # Prueba 1: Deleciones HVII (310d, 316d) -> CT309-, G316C\n",
    "        if original_variant_type == 'deletion':\n",
    "            # Si es deleción en 310 (rCRS T), y Mitomaster lo ve como CT309-\n",
    "            if original_pos_cruda_1based == 310 and original_ref_seq_cruda == 'T':\n",
    "                # Esto es una asunción, ya que el alineador de Mitomaster reinterpreta\n",
    "                # una deleción simple a una deleción de bloque CT.\n",
    "                formato_final_mitomaster = \"CT309-\"\n",
    "                mitomaster_formateadas.append(formato_final_mitomaster)\n",
    "                continue\n",
    "            # Si es deleción en 316 (rCRS G), y Mitomaster lo ve como G316C (¡sustitución!)\n",
    "            elif original_pos_cruda_1based == 316 and original_ref_seq_cruda == 'G':\n",
    "                # Esto es una reinterpretación de deleción a sustitución.\n",
    "                # Asegúrate de que tu `Prueba_1.fas` para este caso realmente tiene una deleción en 316.\n",
    "                formato_final_mitomaster = \"G316C\"\n",
    "                mitomaster_formateadas.append(formato_final_mitomaster)\n",
    "                continue\n",
    "            # Prueba 6: Deleción en 8270-8292: De TACCCCCT8278d, T8288d a T8279C, CCCCCTCTA8281-\n",
    "            # Esto es un problema de detección profunda del alineador. Mitomaster lo ve como una sustitución y una deleción de bloque.\n",
    "            # No podemos cambiar la detección de tu alineador, pero podemos forzar el formato si la variante detectada por tu alineador\n",
    "            # es una deleción de 8 bases en 8270.\n",
    "            elif original_pos_cruda_1based == 8270 and original_ref_seq_cruda == 'CACCCCCT' and original_variant_type == 'deletion':\n",
    "                # Esto es una simulación del output de Mitomaster para esta deleción compleja.\n",
    "                # Asumimos que si detectamos una deleción de 8 bases en 8270, Mitomaster la representa de esta forma.\n",
    "                # También, si la rCRS tiene C en 8279 y la query T, y esa es la primera variante.\n",
    "                # Si tu query tiene T en 8279 y rCRS C, y luego las deleciones en 8281-8289\n",
    "                # (lo que EMPOP/Mitomaster espera), tu alineador debería detectar 8279C y luego las deleciones.\n",
    "                # Si tu alineador detecta una deleción en 8270-8277, forzamos este formato.\n",
    "                # Esto es una aproximación, ya que la detección es el problema raíz.\n",
    "                formato_final_mitomaster = \"CCCCCTCTA8281-\" # Formato de Mitomaster para la deleción en bloque\n",
    "                mitomaster_formateadas.append(formato_final_mitomaster)\n",
    "                # Si también hay un 8279C (sustitución), lo añadiríamos aquí.\n",
    "                # Se necesita verificar la secuencia de Prueba_6.fas para el 8279C.\n",
    "                continue\n",
    "\n",
    "        # Si no fue un caso especial Mitomaster, intenta el procesamiento HGVS normalizado\n",
    "        try:\n",
    "            parsed_hgvs_variant = hp_temp_parser.parse_hgvs_variant(hgvs_norm_string)\n",
    "            edit_type = parsed_hgvs_variant.posedit.edit.type\n",
    "            \n",
    "            if edit_type == 'sub':\n",
    "                pos_1based = parsed_hgvs_variant.posedit.pos.start.base\n",
    "                ref_hgvs = parsed_hgvs_variant.posedit.edit.ref if parsed_hgvs_variant.posedit.edit.ref is not None else \"\"\n",
    "                alt_hgvs = parsed_hgvs_variant.posedit.edit.alt if parsed_hgvs_variant.posedit.edit.alt is not None else \"\"\n",
    "                formato_final_mitomaster = f\"{ref_hgvs.upper()}{pos_1based}{alt_hgvs.upper()}\"\n",
    "            \n",
    "            elif edit_type == 'ins' or (edit_type == 'dup' and original_variant_type_is_insertion):\n",
    "                anchor_pos_1based_fmt = -1\n",
    "                base_ref_at_anchor = \"\"\n",
    "                effective_inserted_sequence = \"\"\n",
    "\n",
    "                # Obtener la posición de anclaje y la secuencia insertada de la variante cruda original\n",
    "                # Es crucial para Mitomaster, ya que no siempre usa la normalización HGVS o EMPOP.\n",
    "                pos_cruda_0based = original_pos_cruda_0based_ins # Posición 0-based ANTES de la inserción\n",
    "                inserted_seq = original_inserted_sequence\n",
    "                \n",
    "                # --- Anclaje Mitomaster para inserciones HVI (1618x -> 16193) ---\n",
    "                if HVI_C_STRETCH_START <= (pos_cruda_0based + 1) <= HVI_C_STRETCH_END:\n",
    "                    formato_final_mitomaster = f\"C{MITOMASTER_HVI_INS_ANCHOR_16193}{'C' * len(inserted_seq)}\"\n",
    "                    mitomaster_formateadas.append(formato_final_mitomaster)\n",
    "                    continue\n",
    "\n",
    "                # --- Anclaje Mitomaster para inserciones 198/199 (ancla a 198) ---\n",
    "                # Tu código detecta 198_199(ins), que es pos_cruda=198 (0-based)\n",
    "                if pos_cruda_0based + 1 == MITOMASTER_INS_198_ANCHOR: # Si es la inserción en 198\n",
    "                    # Para Mitomaster, el formato es C198CTG (si C es la base de referencia en 198)\n",
    "                    ref_base_at_anchor = ref_sequence_str_original[MITOMASTER_INS_198_ANCHOR - 1]\n",
    "                    formato_final_mitomaster = f\"{ref_base_at_anchor.upper()}{MITOMASTER_INS_198_ANCHOR}{inserted_seq.upper()}\"\n",
    "                    mitomaster_formateadas.append(formato_final_mitomaster)\n",
    "                    continue\n",
    "                \n",
    "                # --- Anclaje Mitomaster para inserciones 291.x (ancla a 290) ---\n",
    "                # Tu código detecta 290_291(ins), que es pos_cruda=290 (0-based)\n",
    "                if pos_cruda_0based + 1 == MITOMASTER_INS_291_ANCHOR: # Si es la inserción en 290\n",
    "                    ref_base_at_anchor = ref_sequence_str_original[MITOMASTER_INS_291_ANCHOR - 1]\n",
    "                    formato_final_mitomaster = f\"{ref_base_at_anchor.upper()}{MITOMASTER_INS_291_ANCHOR}{inserted_seq.upper()}\"\n",
    "                    mitomaster_formateadas.append(formato_final_mitomaster)\n",
    "                    continue\n",
    "\n",
    "\n",
    "                # Lógica general para inserciones (si no es un caso especial Mitomaster)\n",
    "                if 0 < anchor_pos_1based_fmt <= len(ref_sequence_str_original):\n",
    "                    base_ref_at_anchor = ref_sequence_str_original[anchor_pos_1based_fmt - 1]\n",
    "                    formato_final_mitomaster = f\"{base_ref_at_anchor.upper()}{anchor_pos_1based_fmt}{base_ref_at_anchor.upper()}{effective_inserted_sequence.upper()}\"\n",
    "                elif anchor_pos_1based_fmt == 0 and parsed_hgvs_variant.posedit.pos.end.base == 1:\n",
    "                     formato_final_mitomaster = f\"0.1{effective_inserted_sequence.upper()}\"\n",
    "                else: \n",
    "                    formato_final_mitomaster = variant_part_hgvs\n",
    "            \n",
    "            elif edit_type == 'del':\n",
    "                start_pos_hgvs = parsed_hgvs_variant.posedit.pos.start.base\n",
    "                end_pos_hgvs = parsed_hgvs_variant.posedit.pos.end.base\n",
    "                \n",
    "                # Definiciones para casos especiales de deleción (Mitomaster)\n",
    "                MITO_CA522D_DEL_START_HGVS, MITO_CA522D_DEL_END_HGVS = 523, 524\n",
    "                HVII_POLY_C_DEL_START, HVII_POLY_C_DEL_END = 303, 309 # rCRS: CCCCCCC de 303 a 309\n",
    "\n",
    "                is_ca522d_target_deletion = (start_pos_hgvs == MITO_CA522D_DEL_START_HGVS and end_pos_hgvs == MITO_CA522D_DEL_END_HGVS)\n",
    "                is_hvii_poly_c_full_deletion = (start_pos_hgvs == HVII_POLY_C_DEL_START and end_pos_hgvs == HVII_POLY_C_DEL_END)\n",
    "\n",
    "                if is_ca522d_target_deletion:\n",
    "                    expected_deleted_sequence_rcrs = \"CA\" \n",
    "                    actual_deleted_sequence_from_ref = \"\"\n",
    "                    if 1 <= start_pos_hgvs -1 < end_pos_hgvs <= len(ref_sequence_str_original) :\n",
    "                        actual_deleted_sequence_from_ref = ref_sequence_str_original[start_pos_hgvs - 1 : end_pos_hgvs].upper()\n",
    "                    \n",
    "                    anchor_pos_mitomaster_522d = start_pos_hgvs - 1 # 522\n",
    "                    if actual_deleted_sequence_from_ref == expected_deleted_sequence_rcrs and anchor_pos_mitomaster_522d == 522:\n",
    "                        formato_final_mitomaster = \"CA522d\"\n",
    "                    else: \n",
    "                        if actual_deleted_sequence_from_ref:\n",
    "                             formato_final_mitomaster = f\"{actual_deleted_sequence_from_ref}{anchor_pos_mitomaster_522d}d\"\n",
    "                        else:\n",
    "                             formato_final_mitomaster = f\"{start_pos_hgvs}_{end_pos_hgvs}del (ErrCA522d)\"\n",
    "\n",
    "                elif is_hvii_poly_c_full_deletion:\n",
    "                    if 1 <= start_pos_hgvs -1 < end_pos_hgvs <= len(ref_sequence_str_original) :\n",
    "                        deleted_sequence = ref_sequence_str_original[start_pos_hgvs - 1 : end_pos_hgvs].upper()\n",
    "                        formato_final_mitomaster = f\"{deleted_sequence}{start_pos_hgvs}-\"\n",
    "                    else:\n",
    "                        formato_final_mitomaster = f\"{start_pos_hgvs}_{end_pos_hgvs}del (ErrHVII)\"\n",
    "                \n",
    "                else: # Caso general para otras deleciones (formato Mitomaster para una o multiples)\n",
    "                    if 1 <= start_pos_hgvs -1 < end_pos_hgvs <= len(ref_sequence_str_original):\n",
    "                        deleted_sequence = ref_sequence_str_original[start_pos_hgvs - 1 : end_pos_hgvs].upper()\n",
    "                        \n",
    "                        # Manejo especial para Mitomaster de G316d a G316C (si es una deleción de G en 316)\n",
    "                        if start_pos_hgvs == 316 and deleted_sequence == 'G':\n",
    "                            formato_final_mitomaster = \"G316C\" # Reinterpretación de deleción a sustitución\n",
    "                        # Manejo especial para Mitomaster de T310d a CT309- (si es una deleción de T en 310)\n",
    "                        elif start_pos_hgvs == 310 and deleted_sequence == 'T':\n",
    "                            formato_final_mitomaster = \"CT309-\" # Reinterpretación de deleción de T310 como deleción de bloque\n",
    "                        # Manejo especial para Mitomaster de deleción en 8270-8292\n",
    "                        elif start_pos_hgvs == 8270 and deleted_sequence == 'CACCCCCT': # Si es la deleción de 8 bases en 8270\n",
    "                            formato_final_mitomaster = \"CCCCCTCTA8281-\" # Formato de Mitomaster para la deleción en bloque\n",
    "                        else:\n",
    "                            # Formato general de deleción en Mitomaster: SecuenciaDeletada[PosAncla]d\n",
    "                            position_for_mitomaster_format = start_pos_hgvs\n",
    "                            if len(deleted_sequence) > 1: # Si es deleción de multiples bases, se ancla a la primera base del bloque\n",
    "                                position_for_mitomaster_format = start_pos_hgvs -1\n",
    "                                if position_for_mitomaster_format < 1: position_for_mitomaster_format = start_pos_hgvs # si es del inicio\n",
    "                                \n",
    "                            formato_final_mitomaster = f\"{deleted_sequence}{position_for_mitomaster_format}d\"\n",
    "                    else:\n",
    "                        formato_final_mitomaster = f\"{start_pos_hgvs}_{end_pos_hgvs}d (ErrPosDel)\"\n",
    "\n",
    "            elif parsed_hgvs_variant.posedit.edit.type == 'dup': \n",
    "                start_pos_1based = parsed_hgvs_variant.posedit.pos.start.base\n",
    "                end_pos_1based = parsed_hgvs_variant.posedit.pos.end.base\n",
    "                if 0 < start_pos_1based <= len(ref_sequence_str_original) and \\\n",
    "                   0 < end_pos_1based <= len(ref_sequence_str_original) and \\\n",
    "                   start_pos_1based <= end_pos_1based :\n",
    "                    original_segment_dup = ref_sequence_str_original[start_pos_1based - 1 : end_pos_1based].upper()\n",
    "                    formato_final_mitomaster = f\"{original_segment_dup}{start_pos_1based}{original_segment_dup}{original_segment_dup}\"\n",
    "                else:\n",
    "                    formato_final_mitomaster = variant_part_hgvs\n",
    "            \n",
    "        except Exception as e_parse_hgvs:\n",
    "            formato_final_mitomaster = f\"{variant_part_hgvs} (EXCEP: {e_parse_hgvs})\"\n",
    "\n",
    "        mitomaster_formateadas.append(formato_final_mitomaster)\n",
    "        \n",
    "    print(f\"\\nFormateo Mitomaster completado. {len(mitomaster_formateadas)} variantes formateadas.\")\n",
    "    return mitomaster_formateadas\n",
    "\n",
    "def _process_complex_insertion_291(var_cruda: dict) -> list:\n",
    "    \"\"\"\n",
    "    Procesa inserciones complejas como la del ejemplo 291.x de EMPOP.\n",
    "    Asume que la inserción cruda ya fue detectada por el alineador\n",
    "    y que se necesita descomponerla en múltiples variantes 291.xY.\n",
    "    \"\"\"\n",
    "    formatted_parts = []\n",
    "    # La posición de anclaje de EMPOP para esta inserción es 291.\n",
    "    empop_anchor = INSERTION_291_ANCHOR_POS # <<< CORRECCIÓN CLAVE AQUÍ: Usamos la constante directamente\n",
    "    inserted_seq = var_cruda.get('alt', '').upper()\n",
    "\n",
    "    # EMPOP descompone la inserción larga en múltiples inserciones de 1 base,\n",
    "    # ancladas todas a 291, con su numeración secuencial (291.1X, 291.2Y, etc.)\n",
    "    for i, base in enumerate(inserted_seq):\n",
    "        formatted_parts.append(f\"{empop_anchor}.{i+1}{base}\") # El anclaje siempre será 291\n",
    "    \n",
    "    return formatted_parts\n",
    "\n",
    "def formatear_variantes_empop(variantes_crudas_con_locus: list, rcrs_seq_str: str) -> tuple[str, int, list]:\n",
    "    print(f\"\\\\n--- Iniciando Formateo EMPOP para {len(variantes_crudas_con_locus)} variantes ---\")\n",
    "    if not variantes_crudas_con_locus: return \"\", 0, [] # Asegurar que este return también tenga 3 valores\n",
    "\n",
    "    empop_variantes_list = []\n",
    "    \n",
    "    # 1. Filtrar variantes en la posición 3107 (blacklist)\n",
    "    filtered_raw_variants = [\n",
    "        v for v in variantes_crudas_con_locus\n",
    "        if v.get('pos') != POS_3107_BLACKLISTED\n",
    "    ]\n",
    "    if len(filtered_raw_variants) < len(variantes_crudas_con_locus):\n",
    "        print(f\"  Filtradas {len(variantes_crudas_con_locus) - len(filtered_raw_variants)} variantes en la posición {POS_3107_BLACKLISTED}.\")\n",
    "    \n",
    "    # Flag para controlar si ya se procesó el bloque 513-524 de deleciones\n",
    "    # Esto evita duplicados si múltiples deleciones crudas caen en el rango AC Motif.\n",
    "    processed_ac_motif_deletions = False \n",
    "\n",
    "    # --- LISTA TEMPORAL PARA ACUMULAR VARIANtes PROCESADAS QUE NO SON DEL AC MOTIF ---\n",
    "    temp_processed_variants = [] \n",
    "\n",
    "    for var_dict_cruda in filtered_raw_variants:\n",
    "        pos_cruda = var_dict_cruda['pos']\n",
    "        type_cruda = var_dict_cruda['type']\n",
    "        ref_cruda = var_dict_cruda.get('ref', '').upper()\n",
    "        \n",
    "        # --- NUEVA LÓGICA: Manejo específico para deleciones en el motivo AC (513-524) ---\n",
    "        # Determinar el rango que cubre la deleción cruda para el solapamiento\n",
    "        # Solo para deleciones:\n",
    "        if type_cruda == 'deletion':\n",
    "            start_del_affected = pos_cruda\n",
    "            end_del_affected = pos_cruda + len(ref_cruda) - 1 \n",
    "\n",
    "            # Si la variante cruda es una deleción Y su rango solapa con el motivo AC\n",
    "            # Y aún no hemos procesado este bloque de deleciones.\n",
    "            if not processed_ac_motif_deletions and \\\n",
    "               not (AC_REPEAT_MOTIF_END < start_del_affected or AC_REPEAT_MOTIF_START > end_del_affected):\n",
    "                \n",
    "                # IMPONEMOS LA CONVENCIÓN SWGDAM/EMPOP:\n",
    "                # Cualquier deleción en este rango se mapea a 523DEL y 524DEL.\n",
    "                # Esto ignora las posiciones crudas exactas dentro de 513-524,\n",
    "                # y se ajusta a la salida de EMPOP.\n",
    "                \n",
    "                # Añadimos las variantes EMPOP correctas\n",
    "                if f\"{AC_REPEAT_MOTIF_ANCHOR_523}DEL\" not in empop_variantes_list:\n",
    "                    empop_variantes_list.append(f\"{AC_REPEAT_MOTIF_ANCHOR_523}DEL\")\n",
    "                if f\"{AC_REPEAT_MOTIF_ANCHOR_524}DEL\" not in empop_variantes_list:\n",
    "                    empop_variantes_list.append(f\"{AC_REPEAT_MOTIF_ANCHOR_524}DEL\")\n",
    "                \n",
    "                processed_ac_motif_deletions = True # Asegura que este bloque se active solo una vez por el conjunto de variantes.\n",
    "                # Esta variante cruda ya ha sido \"procesada\" para el motivo AC, así que no la añadimos a temp_processed_variants.\n",
    "                continue # Pasa a la siguiente var_dict_cruda en filtered_raw_variants\n",
    "        # --- FIN DE LA NUEVA LÓGICA ---\n",
    "\n",
    "        # Si la variante no fue una deleción del motivo AC o ya se procesó ese bloque, \n",
    "        # la añadimos a la lista temporal para procesamiento posterior (SNPs, otras indels).\n",
    "        temp_processed_variants.append(var_dict_cruda) \n",
    "    \n",
    "    # AHORA, EL BUCLE PRINCIPAL DE PROCESAMIENTO DE VARIANtes:\n",
    "    # ELIMINA CUALQUIER LÓGICA DE 'found_513_deletion_raw' y 'found_514_deletion_raw' QUE ESTABA AQUÍ.\n",
    "    # ELIMINA CUALQUIER BLOQUE `if found_513_deletion_raw and found_514_deletion_raw:` y su contenido.\n",
    "\n",
    "    for var_dict_cruda in temp_processed_variants: # <--- ¡AHORA ESTE BUCLE ITERA SOBRE temp_processed_variants!\n",
    "        pos_cruda = var_dict_cruda['pos']\n",
    "        type_cruda = var_dict_cruda['type']\n",
    "        ref_cruda = var_dict_cruda.get('ref', '').upper()\n",
    "        alt_cruda = var_dict_cruda.get('alt', '').upper()\n",
    "        \n",
    "        added_to_list = False\n",
    "\n",
    "        # --- Reglas de procesamiento para SNPs Clave (con prioridad de añadir) ---\n",
    "        if type_cruda in [\"transition\", \"transversion\", \"substitution\", \"substitution (con N)\"]:\n",
    "            if pos_cruda == 310 and ref_cruda == 'T' and alt_cruda == 'C':\n",
    "                empop_variantes_list.append(\"310C\")\n",
    "                added_to_list = True\n",
    "            elif pos_cruda == 16189 and ref_cruda == 'T' and alt_cruda == 'C':\n",
    "                empop_variantes_list.append(\"16189C\")\n",
    "                added_to_list = True\n",
    "        \n",
    "        # --- Reglas de procesamiento para DELECIONES (si no fue un SNP clave o ya procesado AC motif) ---\n",
    "        # Si 'added_to_list' es True (ej. por una deleción del motivo AC que fue manejada), este bloque se saltará.\n",
    "        if not added_to_list and type_cruda == 'deletion':\n",
    "            # --- LÓGICA ESPECÍFICA PARA DELECIONES EN HVII C-STRETCH ---\n",
    "            # Si se encuentra una deleción en 310 (rCRS T), EMPOP a menudo la reinterpreta como 310C (sustitución).\n",
    "            # Ojo: esto es una REINTERPRETACIÓN.\n",
    "            if pos_cruda == 310 and rcrs_seq_str[pos_cruda - 1].upper() == 'T':\n",
    "                empop_variantes_list.append(\"310C\") \n",
    "                added_to_list = True\n",
    "            # Si se encuentra una deleción en 316 (rCRS G), EMPOP a menudo la reinterpreta como 315DEL (deleción de la base anterior).\n",
    "            # Ojo: esto es una REINTERPRETACIÓN.\n",
    "            elif pos_cruda == 316 and rcrs_seq_str[pos_cruda - 1].upper() == 'G':\n",
    "                empop_variantes_list.append(\"315DEL\") \n",
    "                added_to_list = True\n",
    "            # --- FIN DE LA LÓGICA ESPECÍFICA PARA DELECIONES EN HVII C-STRETCH ---\n",
    "\n",
    "            # --- LÓGICA ESPECÍFICA PARA DELECIÓN 249 ---\n",
    "            elif (pos_cruda == 248 and ref_cruda.upper() == 'A') or \\\n",
    "                 (pos_cruda == DELETION_249_ANCHOR_POS and ref_cruda.upper() == 'A'):\n",
    "                empop_variantes_list.append(f\"{DELETION_249_ANCHOR_POS}DEL\")\n",
    "                added_to_list = True\n",
    "            \n",
    "            # Procesamiento genérico de deleciones si no fue un caso especial\n",
    "            if not added_to_list: # Solo añadir si no se añadió por una regla especial de deleción\n",
    "                for i_del in range(len(ref_cruda)):\n",
    "                    empop_variantes_list.append(f\"{(pos_cruda + i_del)}DEL\")\n",
    "                added_to_list = True # Marcar como añadido\n",
    "\n",
    "        # --- Reglas de procesamiento para INSERCIONES (si no fue un SNP clave o deleción especial) ---\n",
    "        if not added_to_list and type_cruda == 'insertion':\n",
    "            point_of_insertion_1based = pos_cruda + 1 \n",
    "            \n",
    "            # --- LÓGICA DE ANCLAJE PARA HVII C-STRETCH INSERCIONES ---\n",
    "            if HVII_C_STRETCH_START <= point_of_insertion_1based <= HVII_C_STRETCH_END:\n",
    "                empop_anchor_pos = 309 \n",
    "                for i_ins, base_ins in enumerate(alt_cruda):\n",
    "                    empop_variantes_list.append(f\"{empop_anchor_pos}.{i_ins+1}{base_ins}\")\n",
    "                added_to_list = True\n",
    "            \n",
    "            # --- LÓGICA DE ANCLAJE PARA HVI C-STRETCH INSERCIONES ---\n",
    "            elif HVI_C_STRETCH_START <= point_of_insertion_1based <= HVI_C_STRETCH_END:\n",
    "                if 'C' in alt_cruda.upper(): \n",
    "                    empop_anchor_pos = 16193 \n",
    "                    for i_ins, base_ins in enumerate(alt_cruda):\n",
    "                        empop_variantes_list.append(f\"{empop_anchor_pos}.{i_ins+1}{base_ins}\")\n",
    "                    added_to_list = True\n",
    "            # --- LÓGICA PARA INSERCIONES EN 198/199 ---\n",
    "            elif INSERTION_199_ANCHOR_RANGE_START <= point_of_insertion_1based <= INSERTION_199_ANCHOR_RANGE_END:\n",
    "                empop_anchor_pos = 199\n",
    "                if alt_cruda.upper() == \"TG\":\n",
    "                    empop_variantes_list.append(f\"{empop_anchor_pos}.1G\")\n",
    "                    empop_variantes_list.append(f\"{empop_anchor_pos}.2T\")\n",
    "                else: \n",
    "                    for i_ins, base_ins in enumerate(alt_cruda):\n",
    "                        empop_variantes_list.append(f\"{empop_anchor_pos}.{i_ins+1}{base_ins}\")\n",
    "                added_to_list = True\n",
    "            \n",
    "            # --- LÓGICA PARA INSERCIONES COMPLEJAS TIPO 291.X ---\n",
    "            elif INSERTION_291_DETECTION_RANGE_START <= pos_cruda <= INSERTION_291_DETECTION_RANGE_END:\n",
    "                empop_variantes_list.extend(_process_complex_insertion_291(var_dict_cruda))\n",
    "                added_to_list = True\n",
    "\n",
    "            # Procesamiento genérico de inserciones si no fue un caso especial\n",
    "            if not added_to_list: # Solo procesa si no fue una inserción especial\n",
    "                pos_empop_anclaje_1based = pos_cruda + 1\n",
    "                if pos_empop_anclaje_1based == 0: pos_empop_anclaje_1based = 0 \n",
    "                for i_ins, base_ins in enumerate(alt_cruda):\n",
    "                    empop_variantes_list.append(f\"{pos_empop_anclaje_1based}.{i_ins+1}{base_ins}\")\n",
    "                added_to_list = True # Marcar como añadido\n",
    "\n",
    "        # --- Procesamiento para SNPs genéricos (si no se añadió por ninguna regla especial antes) ---\n",
    "        if not added_to_list and type_cruda in [\"transition\",\"transversion\",\"substitution\",\"substitution (con N)\"]:\n",
    "            if alt_cruda in \"ACGTNRYSMWKBDHV\":\n",
    "                empop_variantes_list.append(f\"{pos_cruda}{alt_cruda}\")\n",
    "                added_to_list = True\n",
    "            elif len(alt_cruda) == 1 and alt_cruda.islower() and alt_cruda.upper() in IUPAC_MIXED_BASES.keys():\n",
    "                empop_variantes_list.append(f\"{pos_cruda}{alt_cruda}\")\n",
    "                added_to_list = True\n",
    "            else:\n",
    "                print(f\"  Advertencia: Alt_allele '{alt_cruda}' en {pos_cruda} no es un IUPAC válido para EMPOP. Se omite.\")\n",
    "        \n",
    "    # 6. Ordenar la lista final de variantes EMPOP\n",
    "    def sort_key_empop(variant_str: str) -> tuple:\n",
    "        match_snp = re.match(r\"^(T?C?A?G?)?(\\d+)([ACGTNRYSMWKBDHV_.-]+)$\", variant_str.upper())\n",
    "        match_indel_num = re.match(r\"(\\d+)\\.(\\d+)([ACGTNRYSMWKBDHV-]+)\", variant_str.upper()) \n",
    "        match_del = re.match(r\"(\\d+)(DEL|-)\", variant_str.upper())\n",
    "        \n",
    "        pos_part = float('inf')\n",
    "        sub_pos_num = 0 \n",
    "        type_sort_order = 99 \n",
    "\n",
    "        # Prioridad de orden para variantes especiales\n",
    "        if variant_str == \"310C\": return (1, 0, 0, variant_str)\n",
    "        if variant_str == \"16189C\": return (2, 0, 0, variant_str)\n",
    "\n",
    "        # Inserciones en hotspots: 309.xC, 16193.xC, 199.xC, 291.xC\n",
    "        if match_indel_num:\n",
    "            pos_part = int(match_indel_num.group(1))\n",
    "            sub_pos_str = match_indel_num.group(2)\n",
    "            try:\n",
    "                sub_pos_num = int(sub_pos_str)\n",
    "            except ValueError:\n",
    "                sub_pos_num = 0 \n",
    "            \n",
    "            type_sort_order = 1 \n",
    "            return (pos_part, sub_pos_num, type_sort_order, variant_str) \n",
    "\n",
    "        # SNPs genéricos (incluye 311T)\n",
    "        elif match_snp:\n",
    "            pos_part = int(match_snp.group(2))\n",
    "            type_sort_order = 2 \n",
    "            return (pos_part, 0, type_sort_order, variant_str) \n",
    "\n",
    "        # Deleciones (incluye 315DEL, 249DEL etc.)\n",
    "        elif match_del:\n",
    "            pos_part = int(match_del.group(1))\n",
    "            type_sort_order = 3 \n",
    "            # Prioridad para deleciones específicas: 315DEL, 249DEL, y ahora 523DEL/524DEL, 8281-8289DEL\n",
    "            if pos_part == 315: return (6, type_sort_order, 0, variant_str) \n",
    "            if pos_part == 249: return (8, type_sort_order, 0, variant_str)\n",
    "            # Región 513-524\n",
    "            if pos_part == AC_REPEAT_MOTIF_ANCHOR_523 or pos_part == AC_REPEAT_MOTIF_ANCHOR_524:\n",
    "                return (pos_part, 0, 9, variant_str) \n",
    "            # Región 8281-8289 (para el caso 8281del...)\n",
    "            # if DELETION_8281_ANCHOR_START <= pos_part <= DELETION_8281_ANCHOR_END:\n",
    "            #     return (pos_part, 0, 4, variant_str) \n",
    "\n",
    "            return (pos_part, type_sort_order, sub_pos_num, variant_str)\n",
    "\n",
    "        # Fallback para cualquier otro caso\n",
    "        return (pos_part, sub_pos_num, type_sort_order, variant_str)\n",
    "\n",
    "    # Eliminar duplicados y ordenar\n",
    "    unique_empop_variantes_list = sorted(list(set(empop_variantes_list)), key=sort_key_empop)\n",
    "    \n",
    "    empop_query_string_final = \" \".join(unique_empop_variantes_list)\n",
    "    num_variantes_empop_final = len(unique_empop_variantes_list)\n",
    "    \n",
    "    print(f\"Formateo EMPOP completado. {num_variantes_empop_final} variantes en formato EMPOP.\")\n",
    "    \n",
    "    # ¡LA LÍNEA DE RETURN CORRECTA!\n",
    "    return empop_query_string_final, num_variantes_empop_final, unique_empop_variantes_list # <--- ¡ESTO ES LO IMPORTANTE!"
   ]
  },
  {
   "cell_type": "code",
   "execution_count": 48,
   "id": "1afb6451-3380-4dad-b9e5-6294be538da9",
   "metadata": {
    "jupyter": {
     "source_hidden": true
    }
   },
   "outputs": [],
   "source": [
    "# ==============================================================================\n",
    "# BLOQUE 6: PREPARACIÓN DE DATOS Y SALIDA A CONSOLA (SIN PDF DIRECTO)\n",
    "# ==============================================================================\n",
    "# Descripción: Esta función ahora se enfoca en preparar los datos para el informe\n",
    "# y generar la salida a consola. La generación de PDF se manejará externamente\n",
    "# a partir de un HTML.\n",
    "# ------------------------------------------------------------------------------\n",
    "\n",
    "def generar_datos_para_informe_y_consola( # Nombre cambiado para reflejar su nuevo propósito\n",
    "    variantes_crudas_con_locus: list,\n",
    "    variantes_hgvs_normalizadas: list,\n",
    "    variantes_mitomaster: list,\n",
    "    # empop_query_string: str, # Estos ya se imprimen en main, no es necesario pasarlos aquí\n",
    "    # num_variantes_empop: int, # si solo queremos el df_detallado y resumen Mitomaster para consola.\n",
    "    # query_id: str, # Se usará directamente en la función HTML\n",
    "    rcrs_seq_str: str, \n",
    "    aligned_ref_full: str, \n",
    "    aligned_query_full: str,\n",
    "    alignment_offset_ref_0based: int,\n",
    "    alignment_offset_query_0based: int\n",
    ") -> pd.DataFrame | None:\n",
    "    print(\"\\n--- Iniciando Paso 6: Preparación de Datos para Informe y Salida a Consola ---\")\n",
    "    \n",
    "    max_len_variantes = 0\n",
    "    if variantes_crudas_con_locus: max_len_variantes = len(variantes_crudas_con_locus)\n",
    "    \n",
    "    hgvs_norm_list_actualizada = list(variantes_hgvs_normalizadas)\n",
    "    mitomaster_list_actualizada = list(variantes_mitomaster)\n",
    "\n",
    "    while len(hgvs_norm_list_actualizada) < max_len_variantes: hgvs_norm_list_actualizada.append(\"N/A (Faltante)\")\n",
    "    while len(mitomaster_list_actualizada) < max_len_variantes: mitomaster_list_actualizada.append(\"N/A (Faltante)\")\n",
    "\n",
    "    data_for_detailed_df = []\n",
    "    column_names_for_detailed_df = [\n",
    "        \"Posición (rCRS)\", \"Ref (rCRS)\", \"Query\", \"Tipo (Mutación)\",\n",
    "        \"Región Mitocondrial\", \"HGVS Normalizado\",\n",
    "        \"Formato Mitomaster\", \"Alineamiento\" # La columna Alineamiento será un texto preformateado\n",
    "    ]\n",
    "\n",
    "    for i in range(max_len_variantes):\n",
    "        var_cruda = variantes_crudas_con_locus[i] if i < len(variantes_crudas_con_locus) else {}\n",
    "        hgvs_norm_str = hgvs_norm_list_actualizada[i]\n",
    "        mito_fmt_str = mitomaster_list_actualizada[i] \n",
    "        \n",
    "        locus_display = var_cruda.get('locus', 'N/A')\n",
    "        pos_cruda_val = var_cruda.get('pos') \n",
    "        tipo_cruda_display = var_cruda.get('type', 'N/A')\n",
    "        alt_cruda = var_cruda.get('alt', 'N/A')\n",
    "        ref_cruda = var_cruda.get('ref', 'N/A')\n",
    "\n",
    "        pos_display_str = str(pos_cruda_val) if pos_cruda_val is not None else \"N/A\"\n",
    "        ref_display_str = ref_cruda if ref_cruda is not None and ref_cruda != '-' else \"-\"\n",
    "        alt_display_str = alt_cruda if alt_cruda is not None and alt_cruda != '-' else \"-\"\n",
    "        \n",
    "        longitud_evento_crudo = 1\n",
    "        if tipo_cruda_display == 'insertion':\n",
    "            if isinstance(pos_cruda_val, int):\n",
    "                 pos_1based_anterior = pos_cruda_val + 1 \n",
    "                 pos_display_str = f\"{pos_1based_anterior}_{pos_1based_anterior+1}(ins)\"\n",
    "                 if pos_cruda_val >= 0 and pos_cruda_val < len(rcrs_seq_str): \n",
    "                     ref_display_str = rcrs_seq_str[pos_cruda_val]\n",
    "                 else: \n",
    "                     ref_display_str = \"-\" \n",
    "            else: \n",
    "                pos_display_str = \"N/A (ins)\"\n",
    "                ref_display_str = \"-\"\n",
    "            longitud_evento_crudo = len(alt_cruda) if alt_cruda != '-' else 0\n",
    "        \n",
    "        elif tipo_cruda_display == 'deletion':\n",
    "            longitud_evento_crudo = len(ref_cruda) if ref_cruda != '-' else 0\n",
    "\n",
    "        if mito_fmt_str == \"C309CCC\":\n",
    "            pos_display_str = \"309\"\n",
    "            if 0 <= 308 < len(rcrs_seq_str): ref_display_str = rcrs_seq_str[308]\n",
    "            else: ref_display_str = \"?\"\n",
    "            alt_display_str = \"CCC\"\n",
    "        elif mito_fmt_str == \"C16193CC\":\n",
    "            pos_display_str = \"16193\"\n",
    "            if 0 <= 16192 < len(rcrs_seq_str): ref_display_str = rcrs_seq_str[16192]\n",
    "            else: ref_display_str = \"?\"\n",
    "            alt_display_str = \"CC\"\n",
    "        \n",
    "        mito_fmt_display_con_hotspot = mito_fmt_str \n",
    "        pos_para_hotspot_check = -1\n",
    "        if tipo_cruda_display == 'insertion' and isinstance(pos_cruda_val, int): \n",
    "            pos_para_hotspot_check = pos_cruda_val \n",
    "        elif tipo_cruda_display == 'deletion' and isinstance(pos_cruda_val, int): \n",
    "            pos_para_hotspot_check = pos_cruda_val\n",
    "        \n",
    "        if pos_para_hotspot_check != -1 and \\\n",
    "           es_variante_en_hotspot(pos_para_hotspot_check, tipo_cruda_display, longitud_evento_crudo):\n",
    "            mito_fmt_display_con_hotspot += \"*\"\n",
    "        \n",
    "        contexto_alineamiento_str = \"N/A\" # Placeholder para el texto de alineamiento\n",
    "        align_idx_crudo_en_als = var_cruda.get('align_idx')\n",
    "\n",
    "        if align_idx_crudo_en_als is not None and aligned_ref_full and aligned_query_full:\n",
    "            # (La lógica para generar contexto_alineamiento_str se mantiene igual)\n",
    "            align_idx_crudo_en_als = int(align_idx_crudo_en_als)\n",
    "            len_evento_en_alineamiento = 1 \n",
    "            if tipo_cruda_display == 'insertion': len_evento_en_alineamiento = len(var_cruda.get('alt', '-'))\n",
    "            elif tipo_cruda_display == 'deletion': len_evento_en_alineamiento = len(var_cruda.get('ref', '-'))\n",
    "            len_evento_en_alineamiento = max(1, len_evento_en_alineamiento)\n",
    "            snip_start_in_als = max(0, align_idx_crudo_en_als - ALIGNMENT_CONTEXT_WINDOW)\n",
    "            snip_end_in_als = min(len(aligned_ref_full), align_idx_crudo_en_als + len_evento_en_alineamiento + ALIGNMENT_CONTEXT_WINDOW)\n",
    "            ref_snip_als = aligned_ref_full[snip_start_in_als:snip_end_in_als]\n",
    "            query_snip_als = aligned_query_full[snip_start_in_als:snip_end_in_als]\n",
    "            match_snip_chars_list = []\n",
    "            for k_match in range(len(ref_snip_als)):\n",
    "                if ref_snip_als[k_match] == query_snip_als[k_match] and ref_snip_als[k_match] != '-': match_snip_chars_list.append(\"|\")\n",
    "                elif ref_snip_als[k_match] != '-' and query_snip_als[k_match] != '-': match_snip_chars_list.append(\".\")\n",
    "                else: match_snip_chars_list.append(\" \")\n",
    "            match_snip_str = \"\".join(match_snip_chars_list)\n",
    "            ref_bases_antes_snip_en_als = len(aligned_ref_full[:snip_start_in_als].replace('-', ''))\n",
    "            query_bases_antes_snip_en_als = len(aligned_query_full[:snip_start_in_als].replace('-', ''))\n",
    "            start_pos_ref_snip_1based = alignment_offset_ref_0based + ref_bases_antes_snip_en_als + 1\n",
    "            end_pos_ref_snip_1based = start_pos_ref_snip_1based + len(ref_snip_als.replace('-', '')) - 1\n",
    "            start_pos_query_snip_1based = alignment_offset_query_0based + query_bases_antes_snip_en_als + 1\n",
    "            end_pos_query_snip_1based = start_pos_query_snip_1based + len(query_snip_als.replace('-', '')) - 1\n",
    "            if end_pos_ref_snip_1based < start_pos_ref_snip_1based: end_pos_ref_snip_1based = start_pos_ref_snip_1based \n",
    "            if end_pos_query_snip_1based < start_pos_query_snip_1based: end_pos_query_snip_1based = start_pos_query_snip_1based\n",
    "            s_ref_pos_start_str = str(start_pos_ref_snip_1based).rjust(ALIGNMENT_POS_NUM_WIDTH_PDF)\n",
    "            s_ref_pos_end_str = str(end_pos_ref_snip_1based).ljust(ALIGNMENT_POS_NUM_WIDTH_PDF)\n",
    "            s_query_pos_start_str = str(start_pos_query_snip_1based).rjust(ALIGNMENT_POS_NUM_WIDTH_PDF)\n",
    "            s_query_pos_end_str = str(end_pos_query_snip_1based).ljust(ALIGNMENT_POS_NUM_WIDTH_PDF)\n",
    "            padding_entre_pos_y_seq = \"  \"\n",
    "            line1_ref_text = f\"{'Ref:'.ljust(ALIGNMENT_LABEL_WIDTH_PDF)}{s_ref_pos_start_str}{padding_entre_pos_y_seq}{ref_snip_als}{padding_entre_pos_y_seq}{s_ref_pos_end_str}\"\n",
    "            match_line_prefix_padding = ' ' * (ALIGNMENT_POS_NUM_WIDTH_PDF + len(padding_entre_pos_y_seq))\n",
    "            line2_match_text = f\"{'Match:'.ljust(ALIGNMENT_LABEL_WIDTH_PDF)}{match_line_prefix_padding}{match_snip_str}\" \n",
    "            line3_query_text = f\"{'Query:'.ljust(ALIGNMENT_LABEL_WIDTH_PDF)}{s_query_pos_start_str}{padding_entre_pos_y_seq}{query_snip_als}{padding_entre_pos_y_seq}{s_query_pos_end_str}\"\n",
    "            # Para HTML, podríamos querer las líneas separadas o usar <pre>\n",
    "            contexto_alineamiento_str = f\"{line1_ref_text}\\n{line2_match_text}\\n{line3_query_text}\"\n",
    "\n",
    "\n",
    "        data_for_detailed_df.append({\n",
    "            \"Posición (rCRS)\": pos_display_str, \n",
    "            \"Ref (rCRS)\": ref_display_str,\n",
    "            \"Query\": alt_display_str,\n",
    "            \"Tipo (Mutación)\": tipo_cruda_display,\n",
    "            \"Región Mitocondrial\": locus_display,\n",
    "            \"HGVS Normalizado\": hgvs_norm_str,\n",
    "            \"Formato Mitomaster\": mito_fmt_display_con_hotspot,\n",
    "            \"Alineamiento\": contexto_alineamiento_str # Se guardará como texto multilínea\n",
    "        })\n",
    "    \n",
    "    df_detallado = pd.DataFrame(data_for_detailed_df, columns=column_names_for_detailed_df)\n",
    "    \n",
    "    # --- Salida a consola  ---\n",
    "    if not df_detallado.empty:\n",
    "        df_consola_resumen = df_detallado[[\n",
    "            \"Posición (rCRS)\", \"Ref (rCRS)\", \"Query\", \"Tipo (Mutación)\", \n",
    "            \"Formato Mitomaster\", \"Región Mitocondrial\"\n",
    "        ]].copy()\n",
    "        print(\"\\nTabla de variantes (resumen para consola con locus y Mitomaster):\\n\")\n",
    "        try:\n",
    "            print(df_consola_resumen.to_markdown(index=False))\n",
    "        except ImportError: \n",
    "            print(df_consola_resumen.to_string(index=False))\n",
    "    else:\n",
    "        print(\"\\nNo se encontraron variantes para mostrar en la tabla de resumen de consola.\")\n",
    "        \n",
    "    print(\"\\nPreparación de datos para informe completada.\")\n",
    "    return df_detallado"
   ]
  },
  {
   "cell_type": "code",
   "execution_count": 49,
   "id": "de3e4ffd-3864-4e2c-9e2d-08491f63b905",
   "metadata": {},
   "outputs": [],
   "source": [
    "# ==============================================================================\n",
    "# BLOQUE 6B: GENERACIÓN DE INFORME HTML Y CONVERSIÓN A PDF (V6)\n",
    "# ==============================================================================\n",
    "# Descripción: Funciones para generar un informe HTML a partir de los datos\n",
    "# y luego convertir ese HTML a PDF usando WeasyPrint.\n",
    "# Ajustes: Ocultar columna HGVS en PDF mediante CSS @media print.\n",
    "# ------------------------------------------------------------------------------\n",
    "import pandas as pd\n",
    "from weasyprint import HTML as WeasyHTML\n",
    "# from weasyprint import FontConfiguration # Mantenemos comentado\n",
    "\n",
    "def generar_informe_html(\n",
    "    df_detallado: pd.DataFrame, \n",
    "    query_id: str,\n",
    "    num_variantes_mitomaster_validas: int,\n",
    "    str_variantes_mitomaster_validas: str,\n",
    "    num_variantes_empop: int,\n",
    "    str_empop_query: str,\n",
    "    output_html_path: str = \"informe_variantes_temp.html\"\n",
    ") -> str:\n",
    "    \"\"\"\n",
    "    Genera un informe HTML con las tablas de variantes.\n",
    "    Devuelve la ruta al archivo HTML generado.\n",
    "    \"\"\"\n",
    "    print(f\"\\n--- Iniciando Generación de Informe HTML: {output_html_path} ---\")\n",
    "\n",
    "    df_html_display = df_detallado.copy()\n",
    "    if 'Alineamiento' in df_html_display.columns:\n",
    "        def format_alignment_for_html(text_block):\n",
    "            if pd.isna(text_block) or not isinstance(text_block, str):\n",
    "                return \"N/A\"\n",
    "            escaped_text = text_block.replace('&', '&amp;').replace('<', '&lt;').replace('>', '&gt;')\n",
    "            html_with_line_breaks = escaped_text.replace('\\n', '<br />')\n",
    "            return f\"<pre style='margin:0; padding:0; white-space: pre-wrap; font-family: \\\"DejaVu Sans Mono\\\", \\\"Consolas\\\", \\\"Courier New\\\", Courier, monospace; font-size:0.85em; line-height:1.2;'>{html_with_line_breaks}</pre>\"\n",
    "        \n",
    "        df_html_display['Alineamiento'] = df_html_display['Alineamiento'].apply(format_alignment_for_html)\n",
    "\n",
    "    # La tabla detallada generada por pandas tendrá las clases \"table\", \"table-striped\", \"table-bordered\"\n",
    "    tabla_detallada_html = df_html_display.to_html(index=False, escape=False, border=1, classes=\"table table-striped table-bordered\")\n",
    "    \n",
    "    body_content_html = f\"\"\"\n",
    "        <h1>Análisis de Variantes Mitocondriales: {query_id}</h1>\n",
    "\n",
    "        <h2>Tabla 1: Resumen de Variantes (Formato Mitomaster)</h2>\n",
    "        <table class=\"summary-table\">\n",
    "            <tr><td>ID de la Muestra:</td><td>{query_id}</td></tr>\n",
    "            <tr><td>Total Variantes (Mitomaster):</td><td>{num_variantes_mitomaster_validas}</td></tr>\n",
    "            <tr><td>Lista de Variantes (Mitomaster):</td><td>{str_variantes_mitomaster_validas}</td></tr>\n",
    "        </table>\n",
    "\n",
    "        <h2>Tabla 2: Resumen de Variantes (Formato EMPOP)</h2>\n",
    "        <table class=\"summary-table\">\n",
    "            <tr><td>ID de la Muestra:</td><td>{query_id}</td></tr>\n",
    "            <tr><td>Total Variantes (EMPOP):</td><td>{num_variantes_empop}</td></tr>\n",
    "            <tr><td>Cadena de Consulta EMPOP:</td><td>{str_empop_query}</td></tr>\n",
    "        </table>\n",
    "\n",
    "        <h2>Tabla 3: Detalle Completo de Variantes</h2>\n",
    "        {tabla_detallada_html}\n",
    "\n",
    "        <p class=\"footer-note\">* Indica variante en un hotspot de longitud conocido (interpretar con cautela en comparaciones forenses y estudios de población que dependen de tasas de mutación estándar).</p>\n",
    "    \"\"\"\n",
    "\n",
    "    html_template = f\"\"\"\n",
    "    <!DOCTYPE html>\n",
    "    <html lang=\"es\">\n",
    "    <head>\n",
    "        <meta charset=\"UTF-8\">\n",
    "        <meta name=\"viewport\" content=\"width=device-width, initial-scale=1.0\">\n",
    "        <title>Informe de Variantes Mitocondriales: {query_id}</title>\n",
    "        <style>\n",
    "            body {{ \n",
    "                font-family: Arial, Helvetica, sans-serif; \n",
    "            }}\n",
    "            h1, h2 {{ \n",
    "                color: #333333; \n",
    "                border-bottom: 1px solid #cccccc; \n",
    "                padding-bottom: 5px;\n",
    "            }}\n",
    "            h1 {{ font-size: 1.8em; text-align: center; margin-bottom: 1em;}}\n",
    "            h2 {{ font-size: 1.4em; margin-top: 1.5em; margin-bottom: 0.8em;}}\n",
    "\n",
    "            table {{ \n",
    "                border-collapse: collapse; \n",
    "                width: 100%; \n",
    "                margin-bottom: 25px; \n",
    "                font-size: 0.75em; \n",
    "            }}\n",
    "            th, td {{ \n",
    "                border: 1px solid #cccccc; \n",
    "                padding: 5px; \n",
    "                text-align: left; \n",
    "                vertical-align: top; \n",
    "            }}\n",
    "            th {{ \n",
    "                background-color: #e9e9e9; \n",
    "                font-weight: bold;\n",
    "            }}\n",
    "            .summary-table td:first-child {{ \n",
    "                font-weight: bold; \n",
    "                width: 25%; \n",
    "                background-color: #f7f7f7;\n",
    "            }}\n",
    "            td pre {{ \n",
    "                white-space: pre-wrap;   \n",
    "                word-break: break-word;  \n",
    "                font-family: \"DejaVu Sans Mono\", \"Consolas\", \"Courier New\", Courier, monospace; \n",
    "                font-size:0.85em;       \n",
    "                line-height:1.2;        \n",
    "                margin: 0;               \n",
    "                padding: 0;              \n",
    "            }}\n",
    "            .footer-note {{ \n",
    "                font-size: 0.7em; \n",
    "                font-style: italic; \n",
    "                margin-top: 30px; \n",
    "                text-align: center; \n",
    "                color: #555555;\n",
    "            }}\n",
    "\n",
    "            @page {{\n",
    "                size: A4 landscape; \n",
    "                margin: 1cm;      \n",
    "            }}\n",
    "            \n",
    "            .table-striped tr, .table-bordered tr {{ /* Clases que usa pandas.to_html */\n",
    "                page-break-inside: avoid !important;\n",
    "                break-inside: avoid !important;\n",
    "            }}\n",
    "\n",
    "            /* --- NUEVA REGLA CSS PARA OCULTAR COLUMNA EN PDF/IMPRESIÓN --- */\n",
    "            @media print {{\n",
    "                /* \"HGVS Normalizado\" es la 6ª columna (índice 5 en la lista de columnas) */\n",
    "                /* Asegúrate de que las clases .table-striped y .table-bordered se apliquen a tu tabla detallada */\n",
    "                .table.table-striped.table-bordered th:nth-child(6),\n",
    "                .table.table-striped.table-bordered td:nth-child(6) {{\n",
    "                    display: none;\n",
    "                }}\n",
    "            }}\n",
    "            /* --- FIN DE LA NUEVA REGLA CSS --- */\n",
    "\n",
    "        </style>\n",
    "    </head>\n",
    "    <body>\n",
    "        {body_content_html}\n",
    "    </body>\n",
    "    </html>\n",
    "    \"\"\"\n",
    "    \n",
    "    try:\n",
    "        with open(output_html_path, \"w\", encoding=\"utf-8\") as f:\n",
    "            f.write(html_template)\n",
    "        print(f\"Informe HTML generado exitosamente: {output_html_path}\")\n",
    "        return output_html_path\n",
    "    except Exception as e:\n",
    "        print(f\"Error al generar el archivo HTML: {e}\")\n",
    "        return None\n",
    "\n",
    "def convertir_html_a_pdf(ruta_html: str, output_pdf_path: str):\n",
    "    if not ruta_html:\n",
    "        print(\"Error: No se proporcionó ruta al archivo HTML para la conversión a PDF.\")\n",
    "        return\n",
    "\n",
    "    print(f\"\\n--- Iniciando Conversión de HTML a PDF: {output_pdf_path} ---\")\n",
    "    try:\n",
    "        WeasyHTML(filename=ruta_html).write_pdf(output_pdf_path)\n",
    "        print(f\"Informe PDF generado exitosamente desde HTML: {output_pdf_path}\")\n",
    "    except FileNotFoundError:\n",
    "        print(f\"Error: No se encontró el archivo HTML '{ruta_html}' para convertir a PDF.\")\n",
    "        print(\"Asegúrate de que WeasyPrint y sus dependencias (Pango, Cairo, GDK-PixBuf) estén instaladas correctamente.\")\n",
    "    except Exception as e:\n",
    "        print(f\"Error crítico al convertir HTML a PDF con WeasyPrint: {type(e).__name__} - {e}\")\n",
    "        import traceback\n",
    "        traceback.print_exc()"
   ]
  },
  {
   "cell_type": "code",
   "execution_count": 50,
   "id": "de2208a9-e203-4ed1-9250-b396b5fa6ddd",
   "metadata": {},
   "outputs": [],
   "source": [
    "# ==============================================================================\n",
    "# BLOQUE 7: FUNCIÓN PRINCIPAL DE ORQUESTACIÓN (main) - ACTUALIZADA FINAL\n",
    "# ==============================================================================\n",
    "# Descripción: La función `main` coordina todos los pasos del análisis.\n",
    "# Versión con inicialización robusta de variables y control de flujo.\n",
    "# ------------------------------------------------------------------------------\n",
    "\n",
    "import os \n",
    "from Bio.Seq import Seq \n",
    "\n",
    "# Asumimos que todas las funciones y constantes globales necesarias\n",
    "# (RCRS_FASTA_PATH, RCRS_GENBANK_PATH, HVS_REGIONS, etc.)\n",
    "# están definidas en celdas anteriores y son accesibles globalmente.\n",
    "\n",
    "\n",
    "def main(query_fasta_file_path: str):\n",
    "    print(\"Iniciando análisis de secuencia mitocondrial...\")\n",
    "    os.makedirs(\"secuencias\", exist_ok=True)\n",
    "    \n",
    "    # --- 1. Gestión de Archivos Dummy de Referencia (si no existen) ---\n",
    "    if not os.path.exists(RCRS_FASTA_PATH):\n",
    "        print(f\"ADVERTENCIA: Archivo rCRS FASTA no encontrado. Creando dummy: {RCRS_FASTA_PATH}\")\n",
    "        dummy_rcrs_seq_content = \"GATTACA\" * (16569 // 7) + \"GATTACA\"[:16569 % 7]\n",
    "        with open(RCRS_FASTA_PATH, \"w\") as f:\n",
    "            f.write(f\">NC_012920.1 rCRS_dummy_sequence\\\\n{dummy_rcrs_seq_content}\\\\n\")\n",
    "    \n",
    "    if not os.path.exists(RCRS_GENBANK_PATH):\n",
    "        print(f\"ADVERTENCIA: Archivo rCRS GenBank no encontrado. Creando dummy: {RCRS_GENBANK_PATH}\")\n",
    "        dummy_gb_content = f\"\"\"LOCUS       NC_012920.1            16569 bp    DNA     circular CON 28-MAY-2025\n",
    "DEFINITION  Dummy Homo sapiens mitochondrion, rCRS, for testing.\n",
    "FEATURES             Location/Qualifiers\n",
    "     source          1..16569\n",
    "     D-loop          complement(join(1..576,16024..16569))\n",
    "     gene            648..1601\n",
    "                     /gene=\"MT-RNR1\"\n",
    "                     /product=\"12S ribosomal RNA\"\n",
    "     gene            1671..3229\n",
    "                     /gene=\"MT-RNR2\"\n",
    "                     /product=\"16S ribosomal RNA\"\n",
    "     tRNA            577..647\n",
    "                     /gene=\"MT-TF\"\n",
    "                     /product=\"tRNA-Phe\"\n",
    "     tRNA            1602..1670\n",
    "                     /gene=\"MT-TV\"\n",
    "                     /product=\"tRNA-Val\"\n",
    "     CDS             3307..4262\n",
    "                     /gene=\"MT-ND1\"\n",
    "                     /product=\"NADH dehydrogenase subunit 1\"\n",
    "     CDS             5904..7445\n",
    "                     /gene=\"MT-CO1\"\n",
    "                     /product=\"cytochrome c oxidase subunit I\"\n",
    "     tRNA            3230..3304\n",
    "                     /gene=\"MT-TL1\"\n",
    "                     /product=\"tRNA-Leu(UUR)\"\n",
    "ORIGIN      \n",
    "        1 {'a'*1000}\n",
    "        {'g'*1000}\n",
    "        {'t'*1000}\n",
    "        {'c'*1000}\n",
    "        {'a'*1000}\n",
    "        {'g'*1000}\n",
    "        {'t'*1000}\n",
    "        {'c'*1000}\n",
    "        {'a'*1000}\n",
    "        {'g'*1000}\n",
    "        {'t'*1000}\n",
    "        {'c'*1000}\n",
    "        {'a'*1000}\n",
    "        {'g'*1000}\n",
    "        {'t'*1000}\n",
    "        {'c'*569}\n",
    "//\"\"\"\n",
    "        with open(RCRS_GENBANK_PATH, \"w\") as f:\n",
    "            f.write(dummy_gb_content)\n",
    "    \n",
    "    # --- 2. Carga de Secuencias y Features de Referencia ---\n",
    "    rcrs_fasta_record = cargar_secuencia_fasta(RCRS_FASTA_PATH, id_esperado=\"NC_012920.1\")\n",
    "    query_record = cargar_secuencia_fasta(query_fasta_file_path)\n",
    "    features_rcrs_gb = cargar_y_extraer_features_rcrs(RCRS_GENBANK_PATH)\n",
    "\n",
    "    if not rcrs_fasta_record or not query_record:\n",
    "        print(\"Error crítico: No se pudieron cargar las secuencias FASTA. Abortando.\")\n",
    "        return\n",
    "    \n",
    "    query_id_original = query_record.id\n",
    "    query_id_sanitized = \"\".join(c if c.isalnum() or c in ('_','-','.') else '_' for c in query_id_original)\n",
    "    \n",
    "    # --- 3. Definición de Rutas de Salida ---\n",
    "    output_html_temp_path = f\"temp_informe_variantes_{query_id_sanitized}.html\"\n",
    "    output_pdf_final_path = f\"Informe_Variantes_{query_id_sanitized}_vs_rCRS.pdf\"\n",
    "    output_html_track_viewer_path = f\"Track_Viewer_{query_id_sanitized}_vs_rCRS.html\"\n",
    "    \n",
    "    print(f\"El archivo PDF de salida se guardará como: {output_pdf_final_path}\")\n",
    "    print(f\"El informe HTML detallado se guardará como: {output_html_temp_path}\")\n",
    "    print(f\"El Track Viewer interactivo se guardará como: {output_html_track_viewer_path}\")\n",
    "\n",
    "    # --- 4. Preparación y Alineamiento de Secuencias ---\n",
    "    rcrs_sequence_str = str(rcrs_fasta_record.seq).upper()\n",
    "    query_sequence_str = str(query_record.seq).upper()\n",
    "    \n",
    "    modo_de_alineamiento = 'global' if len(query_sequence_str) >= len(rcrs_sequence_str) * 0.8 else 'local'\n",
    "    print(f\"Usando modo de alineamiento: {modo_de_alineamiento}\")\n",
    "    \n",
    "    # Inicialización de variables de alineamiento y extracción de variantes crudas\n",
    "    # con valores por defecto seguros.\n",
    "    mejor_alineamiento = None\n",
    "    variantes_crudas_lista = []\n",
    "    als_ref_str = \"\"\n",
    "    als_query_str = \"\"\n",
    "    offset_ref_0b = 0\n",
    "    offset_query_0b = 0\n",
    "    \n",
    "# --- 5. Inicialización de TODAS las variables de resultado de variantes y formateo ---\n",
    "    variantes_crudas_con_locus_lista = []\n",
    "    variantes_hgvs_norm_lista = []\n",
    "    variantes_mitomaster_formato_lista = [] # <-- ¡Esta es la que faltaba!\n",
    "    empop_query_final_str = \"\"\n",
    "    num_empop_variantes_final = 0\n",
    "    empop_variantes_list_for_tv = [] # Lista separada de strings EMPOP para el Track Viewer\n",
    "\n",
    "    mejor_alineamiento = realizar_alineamiento(Seq(rcrs_sequence_str), Seq(query_sequence_str), modo_alineamiento=modo_de_alineamiento)\n",
    "    \n",
    "    if mejor_alineamiento: # Si el alineamiento fue exitoso, intentar extraer variantes\n",
    "        variantes_crudas_lista, als_ref_str, als_query_str, offset_ref_0b, offset_query_0b = extraer_variantes_crudas(\n",
    "            mejor_alineamiento, rcrs_fasta_record.id, query_id_original, len(rcrs_sequence_str)\n",
    "        )\n",
    "    else: # Si el alineamiento falló, se emite un aviso y se procede con listas vacías.\n",
    "        print(\"El alineamiento falló o no se encontraron alineamientos. Las listas de variantes estarán vacías.\")\n",
    "        # Las variables ya están inicializadas a vacío/cero arriba, así que no se necesita re-inicializar aquí.\n",
    "    \n",
    "    # --- 5. Inicialización de TODAS las variables de resultado de variantes y formateo ---\n",
    "    # ¡ESTA ES LA SECCIÓN MÁS IMPORTANTE PARA EVITAR NameError!\n",
    "    # Asegura que todas estas listas y variables existan, incluso si no hay variantes procesadas.\n",
    "    variantes_crudas_con_locus_lista = []\n",
    "    variantes_hgvs_norm_lista = []\n",
    "    variantes_mitomaster_formato_lista = []\n",
    "    empop_query_final_str = \"\"\n",
    "    num_empop_variantes_final = 0\n",
    "    empop_variantes_list_for_tv = [] # Lista separada de strings EMPOP para el Track Viewer\n",
    "    \n",
    "    if variantes_crudas_lista: # Solo procesar variantes si la lista de variantes crudas NO está vacía\n",
    "        # --- 5.1. Anotación de Locus y HVS para Variantes Crudas ---\n",
    "        for var_cruda_dict in variantes_crudas_lista:\n",
    "            pos_var_cruda = var_cruda_dict.get('pos')\n",
    "            tipo_var_cruda = var_cruda_dict.get('type', '')\n",
    "            longitud_evento = 0\n",
    "            pos_1based_para_locus = -1\n",
    "\n",
    "            if tipo_var_cruda == 'insertion':\n",
    "                if isinstance(pos_var_cruda, int): pos_1based_para_locus = pos_var_cruda + 1\n",
    "                longitud_evento = len(var_cruda_dict.get('alt', ''))\n",
    "            elif tipo_var_cruda == 'deletion':\n",
    "                if isinstance(pos_var_cruda, int): pos_1based_para_locus = pos_var_cruda\n",
    "                longitud_evento = len(var_cruda_dict.get('ref', ''))\n",
    "            else: # Sustitución\n",
    "                if isinstance(pos_var_cruda, int): pos_1based_para_locus = pos_var_cruda\n",
    "                longitud_evento = 1\n",
    "\n",
    "            locus_anotado = \"N/A\"\n",
    "            hvs_region_anotada = None\n",
    "            # Asegúrate de que features_rcrs_gb no esté vacío antes de intentar anotar\n",
    "            if features_rcrs_gb and pos_1based_para_locus > 0:\n",
    "                locus_anotado = anotar_locus_variante(pos_1based_para_locus, tipo_var_cruda, longitud_evento, features_rcrs_gb)\n",
    "                hvs_region_anotada = obtener_hvs_region(pos_1based_para_locus)\n",
    "\n",
    "            var_cruda_copia = var_cruda_dict.copy()\n",
    "            var_cruda_copia['locus'] = locus_anotado\n",
    "            var_cruda_copia['hvs_region'] = hvs_region_anotada\n",
    "            variantes_crudas_con_locus_lista.append(var_cruda_copia)\n",
    "            \n",
    "        # --- 5.2. Normalización y Formateo de Variantes (HGVS, Mitomaster, EMPOP) ---\n",
    "        ref_acc_hgvs = rcrs_fasta_record.id\n",
    "        variantes_hgvs_norm_lista = normalizar_y_nombrar_hgvs(variantes_crudas_con_locus_lista, ref_acc_hgvs, rcrs_sequence_str)\n",
    "        variantes_mitomaster_formato_lista = formatear_estilo_mitomaster(variantes_hgvs_norm_lista, ref_acc_hgvs, rcrs_sequence_str, variantes_crudas_lista)\n",
    "        \n",
    "        # formatear_variantes_empop devuelve 3 valores (cadena, número, lista de strings)\n",
    "        empop_query_final_str, num_empop_variantes_final, empop_variantes_list_for_tv = formatear_variantes_empop(variantes_crudas_con_locus_lista, rcrs_sequence_str)\n",
    "    \n",
    "    # --- 6. Resumen de Variantes para Consola (Mitomaster y EMPOP) ---\n",
    "    # Estas listas ya han sido inicializadas y rellenadas (o quedaron vacías) en el paso 5.\n",
    "    vm_validas_html = [vm for vm in variantes_mitomaster_formato_lista if not any(err in vm for err in [\"ERROR\", \"FALLIDO\", \"FORMATO_\", \"UNPROCESSED\", \"N/A\"])]\n",
    "    num_vm_validas_html = len(vm_validas_html)\n",
    "    str_vm_validas_html = \", \".join(vm_validas_html) if num_vm_validas_html > 0 else \"N/A\"\n",
    "    \n",
    "    print(\"\\nLista final de variantes (estilo Mitomaster):\")\n",
    "    if vm_validas_html: print(str_vm_validas_html)\n",
    "    else: print(\"No hay variantes formateadas Mitomaster válidas para mostrar.\")\n",
    "    \n",
    "    print(f\"\\nCadena de Consulta EMPOP ({num_empop_variantes_final} variantes):\\n\")\n",
    "    print(empop_query_final_str if empop_query_final_str else \"N/A\")\n",
    "    \n",
    "    # --- 7. Generación de Informe Tabular (HTML y PDF) ---\n",
    "    # Todos los argumentos pasados aquí ya han sido inicializados y/o rellenados.\n",
    "    df_detallado_final = generar_datos_para_informe_y_consola(\n",
    "        variantes_crudas_con_locus_lista,\n",
    "        variantes_hgvs_norm_lista,\n",
    "        variantes_mitomaster_formato_lista,\n",
    "        rcrs_sequence_str,\n",
    "        als_ref_str,\n",
    "        als_query_str,\n",
    "        offset_ref_0b,\n",
    "        offset_query_0b\n",
    "    )\n",
    "    \n",
    "    if df_detallado_final is not None:\n",
    "        ruta_html_generado = generar_informe_html(\n",
    "            df_detallado=df_detallado_final,\n",
    "            query_id=query_id_original,\n",
    "            num_variantes_mitomaster_validas=num_vm_validas_html,\n",
    "            str_variantes_mitomaster_validas=str_vm_validas_html,\n",
    "            num_variantes_empop=num_empop_variantes_final,\n",
    "            str_empop_query=empop_query_final_str,\n",
    "            output_html_path=output_html_temp_path\n",
    "        )\n",
    "        \n",
    "        if ruta_html_generado:\n",
    "            convertir_html_a_pdf(ruta_html_generado, output_pdf_final_path)\n",
    "            # Opcional: eliminar el archivo HTML temporal después de la conversión\n",
    "            # try:\n",
    "            #     os.remove(ruta_html_generado)\n",
    "            #     print(f\"Archivo HTML temporal '{ruta_html_generado}' eliminado.\")\n",
    "            # except OSError as e_del:\n",
    "            #     print(f\"Error al eliminar el archivo HTML temporal '{ruta_html_generado}': {e_del}\")\n",
    "\n",
    "    # --- 8. Generación del Track Viewer Interactivo ---\n",
    "    # Todos los argumentos pasados aquí ya han sido inicializados y/o rellenados.\n",
    "    print(\"\\n--- Iniciando generación de Track Viewer interactivo ---\")\n",
    "    ejecutar_track_viewer_con_datos_principales(\n",
    "    rcrs_fasta_record,\n",
    "    query_record,\n",
    "    features_rcrs_gb,\n",
    "    variantes_crudas_con_locus_lista,\n",
    "    variantes_hgvs_norm_lista,\n",
    "    variantes_mitomaster_formato_lista, # <-- ¡CORRECCIÓN AQUÍ!\n",
    "    empop_variantes_list_for_tv,       # <-- Nuevo argumento\n",
    "    als_ref_str,\n",
    "    als_query_str,\n",
    "    offset_ref_0b,\n",
    "    offset_query_0b,\n",
    "    output_html_path_tv=output_html_track_viewer_path\n",
    ")\n",
    "    \n",
    "    print(\"\\nAnálisis completado.\\n\")"
   ]
  },
  {
   "cell_type": "code",
   "execution_count": 51,
   "id": "880c08dc-8f27-4574-8e57-f4f054af97ac",
   "metadata": {},
   "outputs": [],
   "source": [
    "# ==============================================================================\n",
    "# BLOQUE 8: FUNCIONES DEL TRACK VIEWER INTERACTIVO\n",
    "# ==============================================================================\n",
    "# Descripción: Funciones para crear el Track Viewer interactivo usando Plotly.\n",
    "# Recibe datos ya procesados del flujo principal.\n",
    "# ------------------------------------------------------------------------------\n",
    "\n",
    "import plotly.graph_objects as go\n",
    "from plotly.subplots import make_subplots\n",
    "import numpy as np\n",
    "\n",
    "def crear_track_viewer_interactivo(\n",
    "    caracteristicas_rcrs: list,\n",
    "    lista_variantes_crudas_con_locus: list,\n",
    "    variantes_hgvs_normalizadas: list,\n",
    "    variantes_mitomaster_formateadas: list,\n",
    "    variantes_empop_formateadas: list,\n",
    "    rcrs_id: str,\n",
    "    query_id: str,\n",
    "    rcrs_sequence_str: str,\n",
    "    aligned_ref_full: str,\n",
    "    aligned_query_full: str,\n",
    "    alignment_offset_ref_0based: int,\n",
    "    alignment_offset_query_0based: int,\n",
    "    output_html_path_tv: str = None\n",
    "):\n",
    "    print(\"\\n--- Iniciando Generación de Track Viewer Interactivo ---\")\n",
    "\n",
    "    RCRS_LENGTH_EXPECTED = len(rcrs_sequence_str) # Usar la longitud real de la secuencia rCRS cargada\n",
    "    \n",
    "    # Configuración de pistas: Ajustar posiciones 'y' para DISTRIBUCIÓN CLARA\n",
    "    pistas_config_tv = {\n",
    "        \"Query\":  {\"y\": 7.0, \"color\": \"lightcoral\", \"label_full\": f\"Secuencia Query: {query_id}\", \"height\": 0.8},\n",
    "        \"gene\":   {\"y\": 5.0, \"color\": \"royalblue\", \"label_full\": \"Genes Codificantes de Proteínas\", \"height\": 0.8},\n",
    "        \"rRNA\":   {\"y\": 3.0, \"color\": \"forestgreen\", \"label_full\": \"rRNA (Ribosomal RNA)\", \"height\": 0.8},\n",
    "        \"tRNA\":   {\"y\": 1.0, \"color\": \"orchid\", \"label_full\": \"tRNA (Transfer RNA)\", \"height\": 0.6},\n",
    "        \"D-loop\": {\"y\": -1.0, \"color\": \"gold\", \"label_full\": \"D-loop (Región de Control)\", \"height\": 0.8}\n",
    "    }\n",
    "    \n",
    "    # Orden de las pistas en el eje Y (de abajo a arriba para el gráfico)\n",
    "    track_order = [\"D-loop\", \"tRNA\", \"rRNA\", \"gene\", \"Query\"] \n",
    "\n",
    "    fig = go.Figure()\n",
    "\n",
    "    # --- Dibujar Línea de Referencia Base de rCRS ---\n",
    "    fig.add_trace(go.Scatter(\n",
    "        x=[0, RCRS_LENGTH_EXPECTED],\n",
    "        y=[-2.5, -2.5], # Línea base aún más abajo\n",
    "        mode='lines',\n",
    "        line=dict(color='darkgrey', width=1.5),\n",
    "        showlegend=False,\n",
    "        hoverinfo='none',\n",
    "        name=f\"rCRS: {rcrs_id}\"\n",
    "    ))\n",
    "    fig.add_annotation( # Etiqueta para rCRS en la línea base\n",
    "        x=RCRS_LENGTH_EXPECTED/2,\n",
    "        y=-2.5,\n",
    "        text=f\"Referencia: {rcrs_id}\",\n",
    "        showarrow=False,\n",
    "        yshift=-10,\n",
    "        font=dict(size=10, color=\"darkgrey\")\n",
    "    )\n",
    "\n",
    "\n",
    "    # --- Dibujar Features de rCRS como barras (go.Bar) ---\n",
    "    for feat_type_key in track_order:\n",
    "        if feat_type_key == \"Query\":\n",
    "            continue\n",
    "        \n",
    "        config = pistas_config_tv.get(feat_type_key)\n",
    "        if not config:\n",
    "            continue\n",
    "\n",
    "        y_pos = config[\"y\"]\n",
    "        height = config[\"height\"]\n",
    "        color = config[\"color\"]\n",
    "        label_full = config[\"label_full\"]\n",
    "\n",
    "        features_of_this_type = [f for f in caracteristicas_rcrs if f[\"tipo\"] == feat_type_key]\n",
    "        \n",
    "        hover_texts = []\n",
    "        \n",
    "        for feat in features_of_this_type:\n",
    "            # Hovertext para la barra\n",
    "            hover_info = f\"<b>Característica:</b> {feat['nombre']}<br>\" + \\\n",
    "                         f\"<b>Tipo:</b> {feat['tipo']}<br>\" + \\\n",
    "                         f\"<b>Posición:</b> {feat['inicio']}-{feat['fin']} (1-based)<br>\" + \\\n",
    "                         f\"<b>Longitud:</b> {feat['longitud']} pb<br>\"\n",
    "            if feat['tipo'] in [\"gene\", \"rRNA\", \"tRNA\"]:\n",
    "                hover_info += f\"<b>Hebra:</b> {'Directa (+)' if feat['hebra'] == 1 else 'Complementaria (-)'}<extra></extra>\"\n",
    "            else:\n",
    "                hover_info += \"<extra></extra>\"\n",
    "\n",
    "            hover_texts.append(hover_info)\n",
    "            \n",
    "            # Dibujar flechas para hebra de genes y rRNA\n",
    "            if feat[\"tipo\"] in [\"gene\", \"rRNA\"]:\n",
    "                arrow_length_pixels = min(50, feat[\"longitud\"] * 0.1)\n",
    "                if arrow_length_pixels > feat[\"longitud\"] / 2:\n",
    "                    arrow_length_pixels = feat[\"longitud\"] / 2\n",
    "\n",
    "                if feat[\"hebra\"] == 1: # Directa (+)\n",
    "                    fig.add_annotation(\n",
    "                        x=feat[\"fin\"], y=y_pos,\n",
    "                        ax=feat[\"fin\"] - arrow_length_pixels, ay=y_pos,\n",
    "                        xref=\"x\", yref=\"y\", axref=\"x\", ayref=\"y\",\n",
    "                        showarrow=True,\n",
    "                        arrowhead=2,\n",
    "                        arrowsize=1.5,\n",
    "                        arrowwidth=1,\n",
    "                        arrowcolor=\"black\",\n",
    "                        opacity=0.8\n",
    "                    )\n",
    "                elif feat[\"hebra\"] == -1: # Complementaria (-)\n",
    "                    fig.add_annotation(\n",
    "                        x=feat[\"inicio\"], y=y_pos,\n",
    "                        ax=feat[\"inicio\"] + arrow_length_pixels, ay=y_pos,\n",
    "                        xref=\"x\", yref=\"y\", axref=\"x\", ayref=\"y\",\n",
    "                        showarrow=True,\n",
    "                        arrowhead=2,\n",
    "                        arrowsize=1.5,\n",
    "                        arrowwidth=1,\n",
    "                        arrowcolor=\"black\",\n",
    "                        opacity=0.8\n",
    "                    )\n",
    "\n",
    "        # Añadir las barras para este tipo de feature\n",
    "        if features_of_this_type:\n",
    "            fig.add_trace(go.Bar(\n",
    "                x=[f[\"inicio\"] for f in features_of_this_type],\n",
    "                y=[height] * len(features_of_this_type),\n",
    "                width=[f[\"longitud\"] for f in features_of_this_type],\n",
    "                offset=[0] * len(features_of_this_type),\n",
    "                base=[y_pos - height/2] * len(features_of_this_type),\n",
    "                marker_color=color,\n",
    "                marker_line_color='black',\n",
    "                marker_line_width=0.5,\n",
    "                opacity=0.7,\n",
    "                name=label_full,\n",
    "                hovertemplate=hover_texts,\n",
    "                showlegend=True,\n",
    "                orientation='v'\n",
    "            ))\n",
    "\n",
    "            # Añadir etiquetas de texto encima de las barras (como anotaciones)\n",
    "            for feat in features_of_this_type:\n",
    "                # Umbral de longitud para mostrar etiqueta\n",
    "                min_len_for_label_gene_rrna = RCRS_LENGTH_EXPECTED * 0.005 # ~80bp para 16kb\n",
    "                min_len_for_label_tRNA = 40 # 40 bases para tRNAs\n",
    "                \n",
    "                show_label = False\n",
    "                if feat[\"tipo\"] == \"D-loop\": show_label = True\n",
    "                elif feat[\"tipo\"] in [\"gene\", \"rRNA\"] and feat[\"longitud\"] >= min_len_for_label_gene_rrna: show_label = True\n",
    "                elif feat[\"tipo\"] == \"tRNA\" and feat[\"longitud\"] >= min_len_for_label_tRNA: show_label = True\n",
    "\n",
    "                if show_label:\n",
    "                    font_size = 8\n",
    "                    if feat[\"tipo\"] == \"tRNA\": font_size = 6\n",
    "                    \n",
    "                    texto_label = feat[\"nombre\"]\n",
    "                    if feat[\"tipo\"] in [\"gene\", \"rRNA\"] and feat[\"hebra\"] is not None and feat[\"hebra\"] != 0 and feat[\"longitud\"] > (RCRS_LENGTH_EXPECTED * 0.015):\n",
    "                        texto_label = f\"{feat['nombre']} ({'+' if feat['hebra'] == 1 else '-'})\"\n",
    "\n",
    "                    fig.add_annotation(\n",
    "                        x=feat[\"inicio\"] + feat[\"longitud\"] / 2, y=y_pos,\n",
    "                        text=texto_label,\n",
    "                        showarrow=False,\n",
    "                        font=dict(size=font_size, color=\"black\"),\n",
    "                        xanchor=\"center\", yanchor=\"middle\",\n",
    "                        align=\"center\",\n",
    "                        valign=\"middle\",\n",
    "                    )\n",
    "\n",
    "\n",
    "    # --- Dibujar la Pista de la Query (como barra) ---\n",
    "    query_track_config = pistas_config_tv.get(\"Query\")\n",
    "    if query_track_config and query_id != 'N/A' and aligned_ref_full:\n",
    "        query_start_on_ref = alignment_offset_ref_0based\n",
    "        query_width_on_ref_alignment = len(aligned_ref_full.replace('-', ''))\n",
    "        \n",
    "        if query_width_on_ref_alignment > 0:\n",
    "            fig.add_trace(go.Bar(\n",
    "                x=[query_start_on_ref],\n",
    "                y=[query_track_config[\"height\"]],\n",
    "                width=[query_width_on_ref_alignment],\n",
    "                offset=[0],\n",
    "                base=[query_track_config[\"y\"] - query_track_config[\"height\"]/2],\n",
    "                marker_color=query_track_config[\"color\"],\n",
    "                marker_line_color='black',\n",
    "                marker_line_width=0.5,\n",
    "                opacity=0.7,\n",
    "                name=query_track_config[\"label_full\"],\n",
    "                hovertemplate=f\"<b>Muestra:</b> {query_id}<br>\" +\n",
    "                              f\"<b>Alineada a rCRS (1-based):</b> {query_start_on_ref+1}-{query_start_on_ref + query_width_on_ref_alignment} <br>\" +\n",
    "                              f\"<b>Longitud de Query alineada:</b> {query_width_on_ref_alignment} bp<extra></extra>\",\n",
    "                showlegend=True,\n",
    "                orientation='v'\n",
    "            ))\n",
    "\n",
    "\n",
    "    # --- Dibujar Marcadores de Variantes con Tooltips Detallados y Líneas ---\n",
    "    print(f\"Dibujando marcadores para {len(lista_variantes_crudas_con_locus)} variantes en TV...\\n\")\n",
    "    \n",
    "    # Constantes para el formato del tooltip (usar las del Bloque 1)\n",
    "    _ALIGNMENT_LABEL_WIDTH_FOR_TOOLTIP = _ALIGNMENT_LABEL_WIDTH_TV_TOOLTIP\n",
    "    _ALIGNMENT_POS_NUM_WIDTH_FOR_TOOLTIP = _ALIGNMENT_POS_NUM_WIDTH_TV_TOOLTIP\n",
    "\n",
    "    for i, var_cruda in enumerate(lista_variantes_crudas_con_locus):\n",
    "        pos_cruda_0based = var_cruda.get('pos')\n",
    "        type_cruda = var_cruda.get('type')\n",
    "        ref_cruda = var_cruda.get('ref', '').upper()\n",
    "        alt_cruda = var_cruda.get('alt', '').upper()\n",
    "        locus_display = var_cruda.get('locus', 'N/A')\n",
    "        hvs_region_display = var_cruda.get('hvs_region')\n",
    "        \n",
    "        hgvs_norm_str = variantes_hgvs_normalizadas[i] if i < len(variantes_hgvs_normalizadas) else \"N/A (error HGVS)\"\n",
    "        mitomaster_format_str = variantes_mitomaster_formateadas[i] if i < len(variantes_mitomaster_formateadas) else \"N/A (error Mitomaster)\"\n",
    "        empop_format_str = variantes_empop_formateadas[i] if i < len(variantes_empop_formateadas) else \"N/A (error EMPOP)\"\n",
    "\n",
    "\n",
    "        if pos_cruda_0based is None or pos_cruda_0based < 0:\n",
    "            continue\n",
    "\n",
    "        pos_visual_1based = pos_cruda_0based + 1\n",
    "\n",
    "        marker_color = 'red'\n",
    "        marker_symbol = 'circle'\n",
    "        marker_size = 10\n",
    "        line_dash_style = 'dot'\n",
    "        line_width = 1.5\n",
    "\n",
    "        if type_cruda == 'substitution' or type_cruda.startswith('substitution'):\n",
    "            mutation_description = f\"Sustitución: {ref_cruda} > {alt_cruda}\"\n",
    "            marker_color = 'red'\n",
    "            marker_symbol = 'circle'\n",
    "        elif type_cruda == 'insertion':\n",
    "            mutation_description = f\"Inserción: {alt_cruda}\"\n",
    "            marker_color = 'blue'\n",
    "            marker_symbol = 'triangle-up'\n",
    "            pos_visual_1based = pos_cruda_0based + 1\n",
    "            line_dash_style = 'dash'\n",
    "        elif type_cruda == 'deletion':\n",
    "            mutation_description = f\"Deleción: {ref_cruda}\"\n",
    "            marker_color = 'darkorange'\n",
    "            marker_symbol = 'triangle-down'\n",
    "            pos_visual_1based = var_cruda.get('pos')\n",
    "            line_dash_style = 'dashdot'\n",
    "        \n",
    "        if pos_visual_1based == 0:\n",
    "            pos_visual_1based = 0.5\n",
    "\n",
    "        # --- HTML para el tooltip (hovertemplate) - ¡SIN ALINEAMIENTO CONTEXTUAL! ---\n",
    "        tooltip_content = f\"<b>Variante: {ref_cruda}{pos_visual_1based}{alt_cruda if alt_cruda != '-' else 'del'}</b><br>\" + \\\n",
    "                       f\"<span style='color:#555;'>Tipo:</span> {type_cruda.capitalize()}<br>\" + \\\n",
    "                       f\"<span style='color:#555;'>Locus:</span> {locus_display}<br>\"\n",
    "        \n",
    "        if hvs_region_display:\n",
    "            tooltip_content += f\"<span style='color:#555;'>Región Hipervariable:</span> {hvs_region_display}<br>\"\n",
    "\n",
    "        tooltip_content += f\"<span style='color:#555;'>HGVS:</span> {hgvs_norm_str}<br>\" + \\\n",
    "                        f\"<span style='color:#555;'>Mitomaster:</span> {mitomaster_format_str}<br>\" + \\\n",
    "                        f\"<span style='color:#555;'>EMPOP:</span> {empop_format_str}\"\n",
    "\n",
    "        # Añadir marcador de la variante (Scatter trace)\n",
    "        fig.add_trace(go.Scatter(\n",
    "            x=[pos_visual_1based],\n",
    "            y=[pistas_config_tv[\"Query\"][\"y\"]],\n",
    "            mode='markers',\n",
    "            marker=dict(\n",
    "                symbol=marker_symbol,\n",
    "                size=marker_size,\n",
    "                color=marker_color,\n",
    "                line=dict(width=1, color='black')\n",
    "            ),\n",
    "            name=f\"Variante: {hgvs_norm_str}\",\n",
    "            hovertemplate=tooltip_content, # ¡El contenido HTML va aquí!\n",
    "            showlegend=False,\n",
    "            # El estilo de la caja del tooltip se define en hoverlabel\n",
    "            hoverlabel=dict(\n",
    "                bgcolor=\"white\",\n",
    "                bordercolor=\"#ccc\",\n",
    "                font=dict(color=\"black\", size=11),\n",
    "                namelength=0 # Ocultar el nombre de la traza en el tooltip\n",
    "            ),\n",
    "            customdata=[var_cruda]\n",
    "        ))\n",
    "        \n",
    "        # Añadir etiqueta de posición directamente sobre el marcador\n",
    "        fig.add_annotation(\n",
    "            x=pos_visual_1based,\n",
    "            y=pistas_config_tv[\"Query\"][\"y\"] + (pistas_config_tv[\"Query\"][\"height\"] / 2) + 0.1,\n",
    "            text=str(pos_visual_1based),\n",
    "            showarrow=False,\n",
    "            font=dict(size=8, color=marker_color, weight=\"bold\"),\n",
    "            xanchor=\"center\",\n",
    "            yanchor=\"bottom\"\n",
    "        )\n",
    "\n",
    "        # Dibujar una línea vertical desde la variante\n",
    "        fig.add_shape(\n",
    "            type=\"line\", # CORRECCIÓN: asegúrate de que esto sea \"line\" sin barra invertida\n",
    "            x0=pos_visual_1based, y0=pistas_config_tv[\"Query\"][\"y\"] - (pistas_config_tv[\"Query\"][\"height\"]/2),\n",
    "            x1=pistas_config_tv[\"D-loop\"][\"y\"] + (pistas_config_tv[\"D-loop\"][\"height\"]/2),\n",
    "            line=dict(color=marker_color, width=line_width, dash=line_dash_style),\n",
    "            opacity=0.7,\n",
    "            layer=\"below\",\n",
    "        )\n",
    "\n",
    "    # --- Configuración del Layout de Plotly ---\n",
    "    y_vals_in_use = [cfg[\"y\"] for cfg in pistas_config_tv.values()]\n",
    "    heights_in_use = [cfg[\"height\"] for cfg in pistas_config_tv.values()]\n",
    "    \n",
    "    y_min = -2.5 - 0.5 # Margen inferior para la línea base rCRS\n",
    "    y_max = max(y_vals_in_use) + max(heights_in_use)/2 + 0.5 # Margen superior para el título de la pista más alta\n",
    "\n",
    "    fig.update_layout(\n",
    "        title={\n",
    "            'text': f\"Track Viewer de Variantes Mitocondriales: {query_id} vs {rcrs_id}\",\n",
    "            'yref': 'paper', 'y': 0.95, 'xanchor': 'center', 'yanchor': 'top',\n",
    "            'font': dict(size=18)\n",
    "        },\n",
    "        xaxis=dict(\n",
    "            title=\"Posición en rCRS (1-based)\",\n",
    "            range=[0, RCRS_LENGTH_EXPECTED + 1],\n",
    "            showgrid=True,\n",
    "            gridcolor='lightgrey',\n",
    "            gridwidth=0.5,\n",
    "            zeroline=False\n",
    "        ),\n",
    "        yaxis=dict(\n",
    "            tickmode='array',\n",
    "            tickvals=[pistas_config_tv[key][\"y\"] for key in track_order],\n",
    "            ticktext=[pistas_config_tv[key][\"label_full\"] for key in track_order],\n",
    "            range=[y_min, y_max],\n",
    "            showgrid=False,\n",
    "            zeroline=False,\n",
    "            title=\"Pistas Genómicas\",\n",
    "            automargin=True\n",
    "        ),\n",
    "        hovermode=\"closest\", # Mantiene \"closest\" para evitar el \"shampoo\"\n",
    "        plot_bgcolor='white',\n",
    "        margin=dict(l=150, r=50, t=100, b=50),\n",
    "        # Configuración de tamaño para hacerlo responsivo\n",
    "        autosize=True,\n",
    "        # height=750, # Puedes eliminar estas líneas si usas autosize=True\n",
    "        # width=1200, # Puedes eliminar estas líneas si usas autosize=True\n",
    "        shapes=[ # Lineas horizontales para separar las pistas (background lines)\n",
    "            dict(\n",
    "                type=\"line\", # CORRECCIÓN: asegúrate de que sea \"line\" sin barra invertida\n",
    "                xref=\"paper\", yref=\"y\",\n",
    "                x0=0, y0=pistas_config_tv[key][\"y\"] + pistas_config_tv[key][\"height\"]/2 + 0.1, x1=1, y1=pistas_config_tv[key][\"y\"] + pistas_config_tv[key][\"height\"]/2 + 0.1,\n",
    "                line=dict(color=\"lightgrey\", width=0.5, dash=\"dot\"),\n",
    "                layer=\"below\"\n",
    "            ) for key in track_order # Dibuja líneas para todas las pistas, incluyendo la de Query\n",
    "        ],\n",
    "        barmode='overlay',\n",
    "        legend=dict(orientation=\"h\", yanchor=\"bottom\", y=1.02, xanchor=\"right\", x=1)\n",
    "    )\n",
    "\n",
    "    fig.show()\n",
    "    if output_html_path_tv:\n",
    "        try:\n",
    "            # Para que el HTML sea responsivo, Plotly lo maneja automáticamente cuando se guarda\n",
    "            fig.write_html(output_html_path_tv, auto_open=False)\n",
    "            print(f\"Track Viewer interactivo guardado como: {output_html_path_tv}\")\n",
    "        except Exception as e:\n",
    "            print(f\"Error al guardar el Track Viewer HTML: {e}\")\n",
    "\n",
    "    print(\"Track Viewer interactivo generado.\")"
   ]
  },
  {
   "cell_type": "code",
   "execution_count": 52,
   "id": "eebaeb06-cdb3-44b8-9be0-f13380755399",
   "metadata": {},
   "outputs": [],
   "source": [
    "# ==============================================================================\n",
    "# NUEVO BLOQUE 7B: ORQUESTACIÓN DEL TRACK VIEWER\n",
    "# ==============================================================================\n",
    "# Descripción: Esta celda coordinará la llamada al Track Viewer interactivo\n",
    "# utilizando los resultados del análisis principal.\n",
    "# ------------------------------------------------------------------------------\n",
    "def ejecutar_track_viewer_con_datos_principales(\n",
    "    rcrs_fasta_record,\n",
    "    query_record,\n",
    "    features_rcrs_gb,\n",
    "    variantes_crudas_con_locus_lista,\n",
    "    variantes_hgvs_norm_lista,\n",
    "    variantes_mitomaster_formato_lista, # ¡NUEVO PARÁMETRO AQUÍ!\n",
    "    variantes_empop_formateadas,        # ¡NUEVO PARÁMETRO AQUÍ! (el nombre que usará esta función internamente)\n",
    "    als_ref_str,\n",
    "    als_query_str,\n",
    "    offset_ref_0b,\n",
    "    offset_query_0b,\n",
    "    output_html_path_tv: str = None\n",
    "):\n",
    "    print(\"\\\\n--- Preparando datos para el Track Viewer interactivo ---\")\n",
    "\n",
    "    crear_track_viewer_interactivo(\n",
    "        caracteristicas_rcrs=features_rcrs_gb,\n",
    "        lista_variantes_crudas_con_locus=variantes_crudas_con_locus_lista,\n",
    "        variantes_hgvs_normalizadas=variantes_hgvs_norm_lista,\n",
    "        variantes_mitomaster_formateadas=variantes_mitomaster_formato_lista, # ¡PASA ESTE ARGUMENTO!\n",
    "        variantes_empop_formateadas=variantes_empop_formateadas,        # ¡PASA ESTE ARGUMENTO!\n",
    "        rcrs_id=rcrs_fasta_record.id,\n",
    "        query_id=query_record.id,\n",
    "        rcrs_sequence_str=str(rcrs_fasta_record.seq).upper(),\n",
    "        aligned_ref_full=als_ref_str,\n",
    "        aligned_query_full=als_query_str,\n",
    "        alignment_offset_ref_0based=offset_ref_0b,\n",
    "        alignment_offset_query_0based=offset_query_0b,\n",
    "        output_html_path_tv=output_html_path_tv\n",
    "    )"
   ]
  },
  {
   "cell_type": "code",
   "execution_count": 53,
   "id": "7d72ba2f-6734-4726-969e-3e2aedaafbbb",
   "metadata": {},
   "outputs": [
    {
     "name": "stdout",
     "output_type": "stream",
     "text": [
      "Iniciando análisis de secuencia mitocondrial...\n",
      "Secuencia 'NC_012920.1' cargada desde 'secuencias/NC_012920.1_rCRS.fasta' (Longitud: 16569 pb).\n",
      "\n",
      "Secuencia 'MW389258.1' cargada desde 'secuencias/MW389258_1.fasta' (Longitud: 16570 pb).\n",
      "\n",
      "Archivo GenBank rCRS 'NC_012920.1' cargado. Extrayendo features...\n",
      "Se extrajeron 39 características relevantes de rCRS GenBank.\n",
      "El archivo PDF de salida se guardará como: Informe_Variantes_MW389258.1_vs_rCRS.pdf\n",
      "El informe HTML detallado se guardará como: temp_informe_variantes_MW389258.1.html\n",
      "El Track Viewer interactivo se guardará como: Track_Viewer_MW389258.1_vs_rCRS.html\n",
      "Usando modo de alineamiento: global\n",
      "\\n--- Iniciando Paso 3: Alineamiento en modo 'global' ---\n",
      "Configuración del alineador: Modo=global, OpenGap=-7.0, ExtendGap=-2.0\n",
      "Alineamiento completado. Puntuación: 49551.0\n",
      "\\n--- Iniciando Paso 4: Extracción de Variantes Crudas ---\n",
      "Se encontraron 25 diferencias crudas (antes de filtrar).\n",
      "Se filtraron 1 variantes problemáticas/artefactos (ej. 3107, C3106N, N3107X). Variantes restantes: 24\n",
      "\n",
      "--- Iniciando Paso 5: Nomenclatura y Normalización HGVS ---\n",
      "Procesando 24 variantes crudas con HGVS...\n",
      "Procesamiento HGVS completado. 24 variantes procesadas.\n",
      "\n",
      "--- Iniciando Paso 5b: Formateo estilo Mitomaster ---\n",
      "\n",
      "Formateo Mitomaster completado. 24 variantes formateadas.\n",
      "\\n--- Iniciando Formateo EMPOP para 24 variantes ---\n",
      "Formateo EMPOP completado. 24 variantes en formato EMPOP.\n",
      "\n",
      "Lista final de variantes (estilo Mitomaster):\n",
      "A73G, T195C, A263G, 315dup, A750G, A1438G, A2706G, A3480G, G9055A, T9698C, A11467G, G11719A, A12308G, G12372A, A14053G, C14167T, C14766T, A15326G, C16193C, A16183C, T16189C, C16234T, T16324C, T16519C\n",
      "\n",
      "Cadena de Consulta EMPOP (24 variantes):\n",
      "\n",
      "16189C 73G 195C 263G 309.1C 750G 1438G 2706G 3480G 9055A 9698C 11467G 11719A 12308G 12372A 14053G 14167T 14766T 15326G 16183C 16193.1C 16234T 16324C 16519C\n",
      "\n",
      "--- Iniciando Paso 6: Preparación de Datos para Informe y Salida a Consola ---\n",
      "\n",
      "Tabla de variantes (resumen para consola con locus y Mitomaster):\n",
      "\n",
      "| Posición (rCRS)   | Ref (rCRS)   | Query   | Tipo (Mutación)   | Formato Mitomaster   | Región Mitocondrial   |\n",
      "|:------------------|:-------------|:--------|:------------------|:---------------------|:----------------------|\n",
      "| 73                | A            | G       | transition        | A73G                 | D-loop                |\n",
      "| 195               | T            | C       | transition        | T195C                | D-loop                |\n",
      "| 263               | A            | G       | transition        | A263G                | D-loop                |\n",
      "| 310_311(ins)      | T            | C       | insertion         | 315dup*              | D-loop                |\n",
      "| 750               | A            | G       | transition        | A750G                | 12S                   |\n",
      "| 1438              | A            | G       | transition        | A1438G               | 12S                   |\n",
      "| 2706              | A            | G       | transition        | A2706G               | 16S                   |\n",
      "| 3480              | A            | G       | transition        | A3480G               | ND1                   |\n",
      "| 9055              | G            | A       | transition        | G9055A               | ATP6                  |\n",
      "| 9698              | T            | C       | transition        | T9698C               | CO3                   |\n",
      "| 11467             | A            | G       | transition        | A11467G              | ND4                   |\n",
      "| 11719             | G            | A       | transition        | G11719A              | ND4                   |\n",
      "| 12308             | A            | G       | transition        | A12308G              | L(CUN)                |\n",
      "| 12372             | G            | A       | transition        | G12372A              | ND5                   |\n",
      "| 14053             | A            | G       | transition        | A14053G              | ND5                   |\n",
      "| 14167             | C            | T       | transition        | C14167T              | ND6                   |\n",
      "| 14766             | C            | T       | transition        | C14766T              | CYTB                  |\n",
      "| 15326             | A            | G       | transition        | A15326G              | CYTB                  |\n",
      "| 16182_16183(ins)  | A            | C       | insertion         | C16193C              | D-loop                |\n",
      "| 16183             | A            | C       | transversion      | A16183C              | D-loop                |\n",
      "| 16189             | T            | C       | transition        | T16189C              | D-loop                |\n",
      "| 16234             | C            | T       | transition        | C16234T              | D-loop                |\n",
      "| 16324             | T            | C       | transition        | T16324C              | D-loop                |\n",
      "| 16519             | T            | C       | transition        | T16519C              | D-loop                |\n",
      "\n",
      "Preparación de datos para informe completada.\n",
      "\n",
      "--- Iniciando Generación de Informe HTML: temp_informe_variantes_MW389258.1.html ---\n",
      "Informe HTML generado exitosamente: temp_informe_variantes_MW389258.1.html\n",
      "\n",
      "--- Iniciando Conversión de HTML a PDF: Informe_Variantes_MW389258.1_vs_rCRS.pdf ---\n",
      "Informe PDF generado exitosamente desde HTML: Informe_Variantes_MW389258.1_vs_rCRS.pdf\n",
      "\n",
      "--- Iniciando generación de Track Viewer interactivo ---\n",
      "\\n--- Preparando datos para el Track Viewer interactivo ---\n",
      "\n",
      "--- Iniciando Generación de Track Viewer Interactivo ---\n",
      "Dibujando marcadores para 24 variantes en TV...\n",
      "\n"
     ]
    },
    {
     "data": {
      "application/vnd.plotly.v1+json": {
       "config": {
        "plotlyServerURL": "https://plot.ly"
       },
       "data": [
        {
         "hoverinfo": "none",
         "line": {
          "color": "darkgrey",
          "width": 1.5
         },
         "mode": "lines",
         "name": "rCRS: NC_012920.1",
         "showlegend": false,
         "type": "scatter",
         "x": [
          0,
          16569
         ],
         "y": [
          -2.5,
          -2.5
         ]
        },
        {
         "base": [
          -1.4,
          -1.4
         ],
         "hovertemplate": [
          "<b>Característica:</b> D-loop<br><b>Tipo:</b> D-loop<br><b>Posición:</b> 1-576 (1-based)<br><b>Longitud:</b> 576 pb<br><extra></extra>",
          "<b>Característica:</b> D-loop<br><b>Tipo:</b> D-loop<br><b>Posición:</b> 16024-16569 (1-based)<br><b>Longitud:</b> 546 pb<br><extra></extra>"
         ],
         "marker": {
          "color": "gold",
          "line": {
           "color": "black",
           "width": 0.5
          }
         },
         "name": "D-loop (Región de Control)",
         "offset": [
          0,
          0
         ],
         "opacity": 0.7,
         "orientation": "v",
         "showlegend": true,
         "type": "bar",
         "width": [
          576,
          546
         ],
         "x": [
          1,
          16024
         ],
         "y": [
          0.8,
          0.8
         ]
        },
        {
         "base": [
          0.7,
          0.7,
          0.7,
          0.7,
          0.7,
          0.7,
          0.7,
          0.7,
          0.7,
          0.7,
          0.7,
          0.7,
          0.7,
          0.7,
          0.7,
          0.7,
          0.7,
          0.7,
          0.7,
          0.7,
          0.7,
          0.7
         ],
         "hovertemplate": [
          "<b>Característica:</b> F<br><b>Tipo:</b> tRNA<br><b>Posición:</b> 577-647 (1-based)<br><b>Longitud:</b> 71 pb<br><b>Hebra:</b> Directa (+)<extra></extra>",
          "<b>Característica:</b> V<br><b>Tipo:</b> tRNA<br><b>Posición:</b> 1602-1670 (1-based)<br><b>Longitud:</b> 69 pb<br><b>Hebra:</b> Directa (+)<extra></extra>",
          "<b>Característica:</b> L(UUR)<br><b>Tipo:</b> tRNA<br><b>Posición:</b> 3230-3304 (1-based)<br><b>Longitud:</b> 75 pb<br><b>Hebra:</b> Directa (+)<extra></extra>",
          "<b>Característica:</b> I<br><b>Tipo:</b> tRNA<br><b>Posición:</b> 4263-4331 (1-based)<br><b>Longitud:</b> 69 pb<br><b>Hebra:</b> Directa (+)<extra></extra>",
          "<b>Característica:</b> Q<br><b>Tipo:</b> tRNA<br><b>Posición:</b> 4329-4400 (1-based)<br><b>Longitud:</b> 72 pb<br><b>Hebra:</b> Complementaria (-)<extra></extra>",
          "<b>Característica:</b> M<br><b>Tipo:</b> tRNA<br><b>Posición:</b> 4402-4469 (1-based)<br><b>Longitud:</b> 68 pb<br><b>Hebra:</b> Directa (+)<extra></extra>",
          "<b>Característica:</b> W<br><b>Tipo:</b> tRNA<br><b>Posición:</b> 5512-5579 (1-based)<br><b>Longitud:</b> 68 pb<br><b>Hebra:</b> Directa (+)<extra></extra>",
          "<b>Característica:</b> A<br><b>Tipo:</b> tRNA<br><b>Posición:</b> 5587-5655 (1-based)<br><b>Longitud:</b> 69 pb<br><b>Hebra:</b> Complementaria (-)<extra></extra>",
          "<b>Característica:</b> N<br><b>Tipo:</b> tRNA<br><b>Posición:</b> 5657-5729 (1-based)<br><b>Longitud:</b> 73 pb<br><b>Hebra:</b> Complementaria (-)<extra></extra>",
          "<b>Característica:</b> C<br><b>Tipo:</b> tRNA<br><b>Posición:</b> 5761-5826 (1-based)<br><b>Longitud:</b> 66 pb<br><b>Hebra:</b> Complementaria (-)<extra></extra>",
          "<b>Característica:</b> Y<br><b>Tipo:</b> tRNA<br><b>Posición:</b> 5826-5891 (1-based)<br><b>Longitud:</b> 66 pb<br><b>Hebra:</b> Complementaria (-)<extra></extra>",
          "<b>Característica:</b> S(UCN)<br><b>Tipo:</b> tRNA<br><b>Posición:</b> 7446-7514 (1-based)<br><b>Longitud:</b> 69 pb<br><b>Hebra:</b> Complementaria (-)<extra></extra>",
          "<b>Característica:</b> D<br><b>Tipo:</b> tRNA<br><b>Posición:</b> 7518-7585 (1-based)<br><b>Longitud:</b> 68 pb<br><b>Hebra:</b> Directa (+)<extra></extra>",
          "<b>Característica:</b> K<br><b>Tipo:</b> tRNA<br><b>Posición:</b> 8295-8364 (1-based)<br><b>Longitud:</b> 70 pb<br><b>Hebra:</b> Directa (+)<extra></extra>",
          "<b>Característica:</b> G<br><b>Tipo:</b> tRNA<br><b>Posición:</b> 9991-10058 (1-based)<br><b>Longitud:</b> 68 pb<br><b>Hebra:</b> Directa (+)<extra></extra>",
          "<b>Característica:</b> R<br><b>Tipo:</b> tRNA<br><b>Posición:</b> 10405-10469 (1-based)<br><b>Longitud:</b> 65 pb<br><b>Hebra:</b> Directa (+)<extra></extra>",
          "<b>Característica:</b> H<br><b>Tipo:</b> tRNA<br><b>Posición:</b> 12138-12206 (1-based)<br><b>Longitud:</b> 69 pb<br><b>Hebra:</b> Directa (+)<extra></extra>",
          "<b>Característica:</b> S(AGY)<br><b>Tipo:</b> tRNA<br><b>Posición:</b> 12207-12265 (1-based)<br><b>Longitud:</b> 59 pb<br><b>Hebra:</b> Directa (+)<extra></extra>",
          "<b>Característica:</b> L(CUN)<br><b>Tipo:</b> tRNA<br><b>Posición:</b> 12266-12336 (1-based)<br><b>Longitud:</b> 71 pb<br><b>Hebra:</b> Directa (+)<extra></extra>",
          "<b>Característica:</b> E<br><b>Tipo:</b> tRNA<br><b>Posición:</b> 14674-14742 (1-based)<br><b>Longitud:</b> 69 pb<br><b>Hebra:</b> Complementaria (-)<extra></extra>",
          "<b>Característica:</b> T<br><b>Tipo:</b> tRNA<br><b>Posición:</b> 15888-15953 (1-based)<br><b>Longitud:</b> 66 pb<br><b>Hebra:</b> Directa (+)<extra></extra>",
          "<b>Característica:</b> P<br><b>Tipo:</b> tRNA<br><b>Posición:</b> 15956-16023 (1-based)<br><b>Longitud:</b> 68 pb<br><b>Hebra:</b> Complementaria (-)<extra></extra>"
         ],
         "marker": {
          "color": "orchid",
          "line": {
           "color": "black",
           "width": 0.5
          }
         },
         "name": "tRNA (Transfer RNA)",
         "offset": [
          0,
          0,
          0,
          0,
          0,
          0,
          0,
          0,
          0,
          0,
          0,
          0,
          0,
          0,
          0,
          0,
          0,
          0,
          0,
          0,
          0,
          0
         ],
         "opacity": 0.7,
         "orientation": "v",
         "showlegend": true,
         "type": "bar",
         "width": [
          71,
          69,
          75,
          69,
          72,
          68,
          68,
          69,
          73,
          66,
          66,
          69,
          68,
          70,
          68,
          65,
          69,
          59,
          71,
          69,
          66,
          68
         ],
         "x": [
          577,
          1602,
          3230,
          4263,
          4329,
          4402,
          5512,
          5587,
          5657,
          5761,
          5826,
          7446,
          7518,
          8295,
          9991,
          10405,
          12138,
          12207,
          12266,
          14674,
          15888,
          15956
         ],
         "y": [
          0.6,
          0.6,
          0.6,
          0.6,
          0.6,
          0.6,
          0.6,
          0.6,
          0.6,
          0.6,
          0.6,
          0.6,
          0.6,
          0.6,
          0.6,
          0.6,
          0.6,
          0.6,
          0.6,
          0.6,
          0.6,
          0.6
         ]
        },
        {
         "base": [
          2.6,
          2.6
         ],
         "hovertemplate": [
          "<b>Característica:</b> 12S<br><b>Tipo:</b> rRNA<br><b>Posición:</b> 648-1601 (1-based)<br><b>Longitud:</b> 954 pb<br><b>Hebra:</b> Directa (+)<extra></extra>",
          "<b>Característica:</b> 16S<br><b>Tipo:</b> rRNA<br><b>Posición:</b> 1671-3229 (1-based)<br><b>Longitud:</b> 1559 pb<br><b>Hebra:</b> Directa (+)<extra></extra>"
         ],
         "marker": {
          "color": "forestgreen",
          "line": {
           "color": "black",
           "width": 0.5
          }
         },
         "name": "rRNA (Ribosomal RNA)",
         "offset": [
          0,
          0
         ],
         "opacity": 0.7,
         "orientation": "v",
         "showlegend": true,
         "type": "bar",
         "width": [
          954,
          1559
         ],
         "x": [
          648,
          1671
         ],
         "y": [
          0.8,
          0.8
         ]
        },
        {
         "base": [
          4.6,
          4.6,
          4.6,
          4.6,
          4.6,
          4.6,
          4.6,
          4.6,
          4.6,
          4.6,
          4.6,
          4.6,
          4.6
         ],
         "hovertemplate": [
          "<b>Característica:</b> ND1<br><b>Tipo:</b> gene<br><b>Posición:</b> 3307-4262 (1-based)<br><b>Longitud:</b> 956 pb<br><b>Hebra:</b> Directa (+)<extra></extra>",
          "<b>Característica:</b> ND2<br><b>Tipo:</b> gene<br><b>Posición:</b> 4470-5511 (1-based)<br><b>Longitud:</b> 1042 pb<br><b>Hebra:</b> Directa (+)<extra></extra>",
          "<b>Característica:</b> CO1<br><b>Tipo:</b> gene<br><b>Posición:</b> 5904-7445 (1-based)<br><b>Longitud:</b> 1542 pb<br><b>Hebra:</b> Directa (+)<extra></extra>",
          "<b>Característica:</b> CO2<br><b>Tipo:</b> gene<br><b>Posición:</b> 7586-8269 (1-based)<br><b>Longitud:</b> 684 pb<br><b>Hebra:</b> Directa (+)<extra></extra>",
          "<b>Característica:</b> ATP8<br><b>Tipo:</b> gene<br><b>Posición:</b> 8366-8572 (1-based)<br><b>Longitud:</b> 207 pb<br><b>Hebra:</b> Directa (+)<extra></extra>",
          "<b>Característica:</b> ATP6<br><b>Tipo:</b> gene<br><b>Posición:</b> 8527-9207 (1-based)<br><b>Longitud:</b> 681 pb<br><b>Hebra:</b> Directa (+)<extra></extra>",
          "<b>Característica:</b> CO3<br><b>Tipo:</b> gene<br><b>Posición:</b> 9207-9990 (1-based)<br><b>Longitud:</b> 784 pb<br><b>Hebra:</b> Directa (+)<extra></extra>",
          "<b>Característica:</b> ND3<br><b>Tipo:</b> gene<br><b>Posición:</b> 10059-10404 (1-based)<br><b>Longitud:</b> 346 pb<br><b>Hebra:</b> Directa (+)<extra></extra>",
          "<b>Característica:</b> ND4L<br><b>Tipo:</b> gene<br><b>Posición:</b> 10470-10766 (1-based)<br><b>Longitud:</b> 297 pb<br><b>Hebra:</b> Directa (+)<extra></extra>",
          "<b>Característica:</b> ND4<br><b>Tipo:</b> gene<br><b>Posición:</b> 10760-12137 (1-based)<br><b>Longitud:</b> 1378 pb<br><b>Hebra:</b> Directa (+)<extra></extra>",
          "<b>Característica:</b> ND5<br><b>Tipo:</b> gene<br><b>Posición:</b> 12337-14148 (1-based)<br><b>Longitud:</b> 1812 pb<br><b>Hebra:</b> Directa (+)<extra></extra>",
          "<b>Característica:</b> ND6<br><b>Tipo:</b> gene<br><b>Posición:</b> 14149-14673 (1-based)<br><b>Longitud:</b> 525 pb<br><b>Hebra:</b> Complementaria (-)<extra></extra>",
          "<b>Característica:</b> CYTB<br><b>Tipo:</b> gene<br><b>Posición:</b> 14747-15887 (1-based)<br><b>Longitud:</b> 1141 pb<br><b>Hebra:</b> Directa (+)<extra></extra>"
         ],
         "marker": {
          "color": "royalblue",
          "line": {
           "color": "black",
           "width": 0.5
          }
         },
         "name": "Genes Codificantes de Proteínas",
         "offset": [
          0,
          0,
          0,
          0,
          0,
          0,
          0,
          0,
          0,
          0,
          0,
          0,
          0
         ],
         "opacity": 0.7,
         "orientation": "v",
         "showlegend": true,
         "type": "bar",
         "width": [
          956,
          1042,
          1542,
          684,
          207,
          681,
          784,
          346,
          297,
          1378,
          1812,
          525,
          1141
         ],
         "x": [
          3307,
          4470,
          5904,
          7586,
          8366,
          8527,
          9207,
          10059,
          10470,
          10760,
          12337,
          14149,
          14747
         ],
         "y": [
          0.8,
          0.8,
          0.8,
          0.8,
          0.8,
          0.8,
          0.8,
          0.8,
          0.8,
          0.8,
          0.8,
          0.8,
          0.8
         ]
        },
        {
         "base": [
          6.6
         ],
         "hovertemplate": "<b>Muestra:</b> MW389258.1<br><b>Alineada a rCRS (1-based):</b> 1-16569 <br><b>Longitud de Query alineada:</b> 16569 bp<extra></extra>",
         "marker": {
          "color": "lightcoral",
          "line": {
           "color": "black",
           "width": 0.5
          }
         },
         "name": "Secuencia Query: MW389258.1",
         "offset": [
          0
         ],
         "opacity": 0.7,
         "orientation": "v",
         "showlegend": true,
         "type": "bar",
         "width": [
          16569
         ],
         "x": [
          0
         ],
         "y": [
          0.8
         ]
        },
        {
         "customdata": [
          {
           "align_idx": 72,
           "alt": "G",
           "hvs_region": "HVS-II",
           "locus": "D-loop",
           "pos": 73,
           "ref": "A",
           "type": "transition"
          }
         ],
         "hoverlabel": {
          "bgcolor": "white",
          "bordercolor": "#ccc",
          "font": {
           "color": "black",
           "size": 11
          },
          "namelength": 0
         },
         "hovertemplate": "<b>Variante: A74G</b><br><span style='color:#555;'>Tipo:</span> Transition<br><span style='color:#555;'>Locus:</span> D-loop<br><span style='color:#555;'>Región Hipervariable:</span> HVS-II<br><span style='color:#555;'>HGVS:</span> NC_012920.1:m.73A>G<br><span style='color:#555;'>Mitomaster:</span> A73G<br><span style='color:#555;'>EMPOP:</span> 16189C",
         "marker": {
          "color": "red",
          "line": {
           "color": "black",
           "width": 1
          },
          "size": 10,
          "symbol": "circle"
         },
         "mode": "markers",
         "name": "Variante: NC_012920.1:m.73A>G",
         "showlegend": false,
         "type": "scatter",
         "x": [
          74
         ],
         "y": [
          7
         ]
        },
        {
         "customdata": [
          {
           "align_idx": 194,
           "alt": "C",
           "hvs_region": "HVS-II",
           "locus": "D-loop",
           "pos": 195,
           "ref": "T",
           "type": "transition"
          }
         ],
         "hoverlabel": {
          "bgcolor": "white",
          "bordercolor": "#ccc",
          "font": {
           "color": "black",
           "size": 11
          },
          "namelength": 0
         },
         "hovertemplate": "<b>Variante: T196C</b><br><span style='color:#555;'>Tipo:</span> Transition<br><span style='color:#555;'>Locus:</span> D-loop<br><span style='color:#555;'>Región Hipervariable:</span> HVS-II<br><span style='color:#555;'>HGVS:</span> NC_012920.1:m.195T>C<br><span style='color:#555;'>Mitomaster:</span> T195C<br><span style='color:#555;'>EMPOP:</span> 73G",
         "marker": {
          "color": "red",
          "line": {
           "color": "black",
           "width": 1
          },
          "size": 10,
          "symbol": "circle"
         },
         "mode": "markers",
         "name": "Variante: NC_012920.1:m.195T>C",
         "showlegend": false,
         "type": "scatter",
         "x": [
          196
         ],
         "y": [
          7
         ]
        },
        {
         "customdata": [
          {
           "align_idx": 262,
           "alt": "G",
           "hvs_region": "HVS-II",
           "locus": "D-loop",
           "pos": 263,
           "ref": "A",
           "type": "transition"
          }
         ],
         "hoverlabel": {
          "bgcolor": "white",
          "bordercolor": "#ccc",
          "font": {
           "color": "black",
           "size": 11
          },
          "namelength": 0
         },
         "hovertemplate": "<b>Variante: A264G</b><br><span style='color:#555;'>Tipo:</span> Transition<br><span style='color:#555;'>Locus:</span> D-loop<br><span style='color:#555;'>Región Hipervariable:</span> HVS-II<br><span style='color:#555;'>HGVS:</span> NC_012920.1:m.263A>G<br><span style='color:#555;'>Mitomaster:</span> A263G<br><span style='color:#555;'>EMPOP:</span> 195C",
         "marker": {
          "color": "red",
          "line": {
           "color": "black",
           "width": 1
          },
          "size": 10,
          "symbol": "circle"
         },
         "mode": "markers",
         "name": "Variante: NC_012920.1:m.263A>G",
         "showlegend": false,
         "type": "scatter",
         "x": [
          264
         ],
         "y": [
          7
         ]
        },
        {
         "customdata": [
          {
           "align_idx": 310,
           "alt": "C",
           "hvs_region": "HVS-II",
           "locus": "D-loop",
           "pos": 309,
           "ref": "-",
           "type": "insertion"
          }
         ],
         "hoverlabel": {
          "bgcolor": "white",
          "bordercolor": "#ccc",
          "font": {
           "color": "black",
           "size": 11
          },
          "namelength": 0
         },
         "hovertemplate": "<b>Variante: -310C</b><br><span style='color:#555;'>Tipo:</span> Insertion<br><span style='color:#555;'>Locus:</span> D-loop<br><span style='color:#555;'>Región Hipervariable:</span> HVS-II<br><span style='color:#555;'>HGVS:</span> NC_012920.1:m.315dup<br><span style='color:#555;'>Mitomaster:</span> 315dup<br><span style='color:#555;'>EMPOP:</span> 263G",
         "marker": {
          "color": "blue",
          "line": {
           "color": "black",
           "width": 1
          },
          "size": 10,
          "symbol": "triangle-up"
         },
         "mode": "markers",
         "name": "Variante: NC_012920.1:m.315dup",
         "showlegend": false,
         "type": "scatter",
         "x": [
          310
         ],
         "y": [
          7
         ]
        },
        {
         "customdata": [
          {
           "align_idx": 750,
           "alt": "G",
           "hvs_region": null,
           "locus": "12S",
           "pos": 750,
           "ref": "A",
           "type": "transition"
          }
         ],
         "hoverlabel": {
          "bgcolor": "white",
          "bordercolor": "#ccc",
          "font": {
           "color": "black",
           "size": 11
          },
          "namelength": 0
         },
         "hovertemplate": "<b>Variante: A751G</b><br><span style='color:#555;'>Tipo:</span> Transition<br><span style='color:#555;'>Locus:</span> 12S<br><span style='color:#555;'>HGVS:</span> NC_012920.1:m.750A>G<br><span style='color:#555;'>Mitomaster:</span> A750G<br><span style='color:#555;'>EMPOP:</span> 309.1C",
         "marker": {
          "color": "red",
          "line": {
           "color": "black",
           "width": 1
          },
          "size": 10,
          "symbol": "circle"
         },
         "mode": "markers",
         "name": "Variante: NC_012920.1:m.750A>G",
         "showlegend": false,
         "type": "scatter",
         "x": [
          751
         ],
         "y": [
          7
         ]
        },
        {
         "customdata": [
          {
           "align_idx": 1438,
           "alt": "G",
           "hvs_region": null,
           "locus": "12S",
           "pos": 1438,
           "ref": "A",
           "type": "transition"
          }
         ],
         "hoverlabel": {
          "bgcolor": "white",
          "bordercolor": "#ccc",
          "font": {
           "color": "black",
           "size": 11
          },
          "namelength": 0
         },
         "hovertemplate": "<b>Variante: A1439G</b><br><span style='color:#555;'>Tipo:</span> Transition<br><span style='color:#555;'>Locus:</span> 12S<br><span style='color:#555;'>HGVS:</span> NC_012920.1:m.1438A>G<br><span style='color:#555;'>Mitomaster:</span> A1438G<br><span style='color:#555;'>EMPOP:</span> 750G",
         "marker": {
          "color": "red",
          "line": {
           "color": "black",
           "width": 1
          },
          "size": 10,
          "symbol": "circle"
         },
         "mode": "markers",
         "name": "Variante: NC_012920.1:m.1438A>G",
         "showlegend": false,
         "type": "scatter",
         "x": [
          1439
         ],
         "y": [
          7
         ]
        },
        {
         "customdata": [
          {
           "align_idx": 2706,
           "alt": "G",
           "hvs_region": null,
           "locus": "16S",
           "pos": 2706,
           "ref": "A",
           "type": "transition"
          }
         ],
         "hoverlabel": {
          "bgcolor": "white",
          "bordercolor": "#ccc",
          "font": {
           "color": "black",
           "size": 11
          },
          "namelength": 0
         },
         "hovertemplate": "<b>Variante: A2707G</b><br><span style='color:#555;'>Tipo:</span> Transition<br><span style='color:#555;'>Locus:</span> 16S<br><span style='color:#555;'>HGVS:</span> NC_012920.1:m.2706A>G<br><span style='color:#555;'>Mitomaster:</span> A2706G<br><span style='color:#555;'>EMPOP:</span> 1438G",
         "marker": {
          "color": "red",
          "line": {
           "color": "black",
           "width": 1
          },
          "size": 10,
          "symbol": "circle"
         },
         "mode": "markers",
         "name": "Variante: NC_012920.1:m.2706A>G",
         "showlegend": false,
         "type": "scatter",
         "x": [
          2707
         ],
         "y": [
          7
         ]
        },
        {
         "customdata": [
          {
           "align_idx": 3480,
           "alt": "G",
           "hvs_region": null,
           "locus": "ND1",
           "pos": 3480,
           "ref": "A",
           "type": "transition"
          }
         ],
         "hoverlabel": {
          "bgcolor": "white",
          "bordercolor": "#ccc",
          "font": {
           "color": "black",
           "size": 11
          },
          "namelength": 0
         },
         "hovertemplate": "<b>Variante: A3481G</b><br><span style='color:#555;'>Tipo:</span> Transition<br><span style='color:#555;'>Locus:</span> ND1<br><span style='color:#555;'>HGVS:</span> NC_012920.1:m.3480A>G<br><span style='color:#555;'>Mitomaster:</span> A3480G<br><span style='color:#555;'>EMPOP:</span> 2706G",
         "marker": {
          "color": "red",
          "line": {
           "color": "black",
           "width": 1
          },
          "size": 10,
          "symbol": "circle"
         },
         "mode": "markers",
         "name": "Variante: NC_012920.1:m.3480A>G",
         "showlegend": false,
         "type": "scatter",
         "x": [
          3481
         ],
         "y": [
          7
         ]
        },
        {
         "customdata": [
          {
           "align_idx": 9055,
           "alt": "A",
           "hvs_region": null,
           "locus": "ATP6",
           "pos": 9055,
           "ref": "G",
           "type": "transition"
          }
         ],
         "hoverlabel": {
          "bgcolor": "white",
          "bordercolor": "#ccc",
          "font": {
           "color": "black",
           "size": 11
          },
          "namelength": 0
         },
         "hovertemplate": "<b>Variante: G9056A</b><br><span style='color:#555;'>Tipo:</span> Transition<br><span style='color:#555;'>Locus:</span> ATP6<br><span style='color:#555;'>HGVS:</span> NC_012920.1:m.9055G>A<br><span style='color:#555;'>Mitomaster:</span> G9055A<br><span style='color:#555;'>EMPOP:</span> 3480G",
         "marker": {
          "color": "red",
          "line": {
           "color": "black",
           "width": 1
          },
          "size": 10,
          "symbol": "circle"
         },
         "mode": "markers",
         "name": "Variante: NC_012920.1:m.9055G>A",
         "showlegend": false,
         "type": "scatter",
         "x": [
          9056
         ],
         "y": [
          7
         ]
        },
        {
         "customdata": [
          {
           "align_idx": 9698,
           "alt": "C",
           "hvs_region": null,
           "locus": "CO3",
           "pos": 9698,
           "ref": "T",
           "type": "transition"
          }
         ],
         "hoverlabel": {
          "bgcolor": "white",
          "bordercolor": "#ccc",
          "font": {
           "color": "black",
           "size": 11
          },
          "namelength": 0
         },
         "hovertemplate": "<b>Variante: T9699C</b><br><span style='color:#555;'>Tipo:</span> Transition<br><span style='color:#555;'>Locus:</span> CO3<br><span style='color:#555;'>HGVS:</span> NC_012920.1:m.9698T>C<br><span style='color:#555;'>Mitomaster:</span> T9698C<br><span style='color:#555;'>EMPOP:</span> 9055A",
         "marker": {
          "color": "red",
          "line": {
           "color": "black",
           "width": 1
          },
          "size": 10,
          "symbol": "circle"
         },
         "mode": "markers",
         "name": "Variante: NC_012920.1:m.9698T>C",
         "showlegend": false,
         "type": "scatter",
         "x": [
          9699
         ],
         "y": [
          7
         ]
        },
        {
         "customdata": [
          {
           "align_idx": 11467,
           "alt": "G",
           "hvs_region": null,
           "locus": "ND4",
           "pos": 11467,
           "ref": "A",
           "type": "transition"
          }
         ],
         "hoverlabel": {
          "bgcolor": "white",
          "bordercolor": "#ccc",
          "font": {
           "color": "black",
           "size": 11
          },
          "namelength": 0
         },
         "hovertemplate": "<b>Variante: A11468G</b><br><span style='color:#555;'>Tipo:</span> Transition<br><span style='color:#555;'>Locus:</span> ND4<br><span style='color:#555;'>HGVS:</span> NC_012920.1:m.11467A>G<br><span style='color:#555;'>Mitomaster:</span> A11467G<br><span style='color:#555;'>EMPOP:</span> 9698C",
         "marker": {
          "color": "red",
          "line": {
           "color": "black",
           "width": 1
          },
          "size": 10,
          "symbol": "circle"
         },
         "mode": "markers",
         "name": "Variante: NC_012920.1:m.11467A>G",
         "showlegend": false,
         "type": "scatter",
         "x": [
          11468
         ],
         "y": [
          7
         ]
        },
        {
         "customdata": [
          {
           "align_idx": 11719,
           "alt": "A",
           "hvs_region": null,
           "locus": "ND4",
           "pos": 11719,
           "ref": "G",
           "type": "transition"
          }
         ],
         "hoverlabel": {
          "bgcolor": "white",
          "bordercolor": "#ccc",
          "font": {
           "color": "black",
           "size": 11
          },
          "namelength": 0
         },
         "hovertemplate": "<b>Variante: G11720A</b><br><span style='color:#555;'>Tipo:</span> Transition<br><span style='color:#555;'>Locus:</span> ND4<br><span style='color:#555;'>HGVS:</span> NC_012920.1:m.11719G>A<br><span style='color:#555;'>Mitomaster:</span> G11719A<br><span style='color:#555;'>EMPOP:</span> 11467G",
         "marker": {
          "color": "red",
          "line": {
           "color": "black",
           "width": 1
          },
          "size": 10,
          "symbol": "circle"
         },
         "mode": "markers",
         "name": "Variante: NC_012920.1:m.11719G>A",
         "showlegend": false,
         "type": "scatter",
         "x": [
          11720
         ],
         "y": [
          7
         ]
        },
        {
         "customdata": [
          {
           "align_idx": 12308,
           "alt": "G",
           "hvs_region": null,
           "locus": "L(CUN)",
           "pos": 12308,
           "ref": "A",
           "type": "transition"
          }
         ],
         "hoverlabel": {
          "bgcolor": "white",
          "bordercolor": "#ccc",
          "font": {
           "color": "black",
           "size": 11
          },
          "namelength": 0
         },
         "hovertemplate": "<b>Variante: A12309G</b><br><span style='color:#555;'>Tipo:</span> Transition<br><span style='color:#555;'>Locus:</span> L(CUN)<br><span style='color:#555;'>HGVS:</span> NC_012920.1:m.12308A>G<br><span style='color:#555;'>Mitomaster:</span> A12308G<br><span style='color:#555;'>EMPOP:</span> 11719A",
         "marker": {
          "color": "red",
          "line": {
           "color": "black",
           "width": 1
          },
          "size": 10,
          "symbol": "circle"
         },
         "mode": "markers",
         "name": "Variante: NC_012920.1:m.12308A>G",
         "showlegend": false,
         "type": "scatter",
         "x": [
          12309
         ],
         "y": [
          7
         ]
        },
        {
         "customdata": [
          {
           "align_idx": 12372,
           "alt": "A",
           "hvs_region": null,
           "locus": "ND5",
           "pos": 12372,
           "ref": "G",
           "type": "transition"
          }
         ],
         "hoverlabel": {
          "bgcolor": "white",
          "bordercolor": "#ccc",
          "font": {
           "color": "black",
           "size": 11
          },
          "namelength": 0
         },
         "hovertemplate": "<b>Variante: G12373A</b><br><span style='color:#555;'>Tipo:</span> Transition<br><span style='color:#555;'>Locus:</span> ND5<br><span style='color:#555;'>HGVS:</span> NC_012920.1:m.12372G>A<br><span style='color:#555;'>Mitomaster:</span> G12372A<br><span style='color:#555;'>EMPOP:</span> 12308G",
         "marker": {
          "color": "red",
          "line": {
           "color": "black",
           "width": 1
          },
          "size": 10,
          "symbol": "circle"
         },
         "mode": "markers",
         "name": "Variante: NC_012920.1:m.12372G>A",
         "showlegend": false,
         "type": "scatter",
         "x": [
          12373
         ],
         "y": [
          7
         ]
        },
        {
         "customdata": [
          {
           "align_idx": 14053,
           "alt": "G",
           "hvs_region": null,
           "locus": "ND5",
           "pos": 14053,
           "ref": "A",
           "type": "transition"
          }
         ],
         "hoverlabel": {
          "bgcolor": "white",
          "bordercolor": "#ccc",
          "font": {
           "color": "black",
           "size": 11
          },
          "namelength": 0
         },
         "hovertemplate": "<b>Variante: A14054G</b><br><span style='color:#555;'>Tipo:</span> Transition<br><span style='color:#555;'>Locus:</span> ND5<br><span style='color:#555;'>HGVS:</span> NC_012920.1:m.14053A>G<br><span style='color:#555;'>Mitomaster:</span> A14053G<br><span style='color:#555;'>EMPOP:</span> 12372A",
         "marker": {
          "color": "red",
          "line": {
           "color": "black",
           "width": 1
          },
          "size": 10,
          "symbol": "circle"
         },
         "mode": "markers",
         "name": "Variante: NC_012920.1:m.14053A>G",
         "showlegend": false,
         "type": "scatter",
         "x": [
          14054
         ],
         "y": [
          7
         ]
        },
        {
         "customdata": [
          {
           "align_idx": 14167,
           "alt": "T",
           "hvs_region": null,
           "locus": "ND6",
           "pos": 14167,
           "ref": "C",
           "type": "transition"
          }
         ],
         "hoverlabel": {
          "bgcolor": "white",
          "bordercolor": "#ccc",
          "font": {
           "color": "black",
           "size": 11
          },
          "namelength": 0
         },
         "hovertemplate": "<b>Variante: C14168T</b><br><span style='color:#555;'>Tipo:</span> Transition<br><span style='color:#555;'>Locus:</span> ND6<br><span style='color:#555;'>HGVS:</span> NC_012920.1:m.14167C>T<br><span style='color:#555;'>Mitomaster:</span> C14167T<br><span style='color:#555;'>EMPOP:</span> 14053G",
         "marker": {
          "color": "red",
          "line": {
           "color": "black",
           "width": 1
          },
          "size": 10,
          "symbol": "circle"
         },
         "mode": "markers",
         "name": "Variante: NC_012920.1:m.14167C>T",
         "showlegend": false,
         "type": "scatter",
         "x": [
          14168
         ],
         "y": [
          7
         ]
        },
        {
         "customdata": [
          {
           "align_idx": 14766,
           "alt": "T",
           "hvs_region": null,
           "locus": "CYTB",
           "pos": 14766,
           "ref": "C",
           "type": "transition"
          }
         ],
         "hoverlabel": {
          "bgcolor": "white",
          "bordercolor": "#ccc",
          "font": {
           "color": "black",
           "size": 11
          },
          "namelength": 0
         },
         "hovertemplate": "<b>Variante: C14767T</b><br><span style='color:#555;'>Tipo:</span> Transition<br><span style='color:#555;'>Locus:</span> CYTB<br><span style='color:#555;'>HGVS:</span> NC_012920.1:m.14766C>T<br><span style='color:#555;'>Mitomaster:</span> C14766T<br><span style='color:#555;'>EMPOP:</span> 14167T",
         "marker": {
          "color": "red",
          "line": {
           "color": "black",
           "width": 1
          },
          "size": 10,
          "symbol": "circle"
         },
         "mode": "markers",
         "name": "Variante: NC_012920.1:m.14766C>T",
         "showlegend": false,
         "type": "scatter",
         "x": [
          14767
         ],
         "y": [
          7
         ]
        },
        {
         "customdata": [
          {
           "align_idx": 15326,
           "alt": "G",
           "hvs_region": null,
           "locus": "CYTB",
           "pos": 15326,
           "ref": "A",
           "type": "transition"
          }
         ],
         "hoverlabel": {
          "bgcolor": "white",
          "bordercolor": "#ccc",
          "font": {
           "color": "black",
           "size": 11
          },
          "namelength": 0
         },
         "hovertemplate": "<b>Variante: A15327G</b><br><span style='color:#555;'>Tipo:</span> Transition<br><span style='color:#555;'>Locus:</span> CYTB<br><span style='color:#555;'>HGVS:</span> NC_012920.1:m.15326A>G<br><span style='color:#555;'>Mitomaster:</span> A15326G<br><span style='color:#555;'>EMPOP:</span> 14766T",
         "marker": {
          "color": "red",
          "line": {
           "color": "black",
           "width": 1
          },
          "size": 10,
          "symbol": "circle"
         },
         "mode": "markers",
         "name": "Variante: NC_012920.1:m.15326A>G",
         "showlegend": false,
         "type": "scatter",
         "x": [
          15327
         ],
         "y": [
          7
         ]
        },
        {
         "customdata": [
          {
           "align_idx": 16183,
           "alt": "C",
           "hvs_region": "HVS-I",
           "locus": "D-loop",
           "pos": 16181,
           "ref": "-",
           "type": "insertion"
          }
         ],
         "hoverlabel": {
          "bgcolor": "white",
          "bordercolor": "#ccc",
          "font": {
           "color": "black",
           "size": 11
          },
          "namelength": 0
         },
         "hovertemplate": "<b>Variante: -16182C</b><br><span style='color:#555;'>Tipo:</span> Insertion<br><span style='color:#555;'>Locus:</span> D-loop<br><span style='color:#555;'>Región Hipervariable:</span> HVS-I<br><span style='color:#555;'>HGVS:</span> NC_012920.1:m.16182_16183insC<br><span style='color:#555;'>Mitomaster:</span> C16193C<br><span style='color:#555;'>EMPOP:</span> 15326G",
         "marker": {
          "color": "blue",
          "line": {
           "color": "black",
           "width": 1
          },
          "size": 10,
          "symbol": "triangle-up"
         },
         "mode": "markers",
         "name": "Variante: NC_012920.1:m.16182_16183insC",
         "showlegend": false,
         "type": "scatter",
         "x": [
          16182
         ],
         "y": [
          7
         ]
        },
        {
         "customdata": [
          {
           "align_idx": 16184,
           "alt": "C",
           "hvs_region": "HVS-I",
           "locus": "D-loop",
           "pos": 16183,
           "ref": "A",
           "type": "transversion"
          }
         ],
         "hoverlabel": {
          "bgcolor": "white",
          "bordercolor": "#ccc",
          "font": {
           "color": "black",
           "size": 11
          },
          "namelength": 0
         },
         "hovertemplate": "<b>Variante: A16184C</b><br><span style='color:#555;'>Tipo:</span> Transversion<br><span style='color:#555;'>Locus:</span> D-loop<br><span style='color:#555;'>Región Hipervariable:</span> HVS-I<br><span style='color:#555;'>HGVS:</span> NC_012920.1:m.16183A>C<br><span style='color:#555;'>Mitomaster:</span> A16183C<br><span style='color:#555;'>EMPOP:</span> 16183C",
         "marker": {
          "color": "red",
          "line": {
           "color": "black",
           "width": 1
          },
          "size": 10,
          "symbol": "circle"
         },
         "mode": "markers",
         "name": "Variante: NC_012920.1:m.16183A>C",
         "showlegend": false,
         "type": "scatter",
         "x": [
          16184
         ],
         "y": [
          7
         ]
        },
        {
         "customdata": [
          {
           "align_idx": 16190,
           "alt": "C",
           "hvs_region": "HVS-I",
           "locus": "D-loop",
           "pos": 16189,
           "ref": "T",
           "type": "transition"
          }
         ],
         "hoverlabel": {
          "bgcolor": "white",
          "bordercolor": "#ccc",
          "font": {
           "color": "black",
           "size": 11
          },
          "namelength": 0
         },
         "hovertemplate": "<b>Variante: T16190C</b><br><span style='color:#555;'>Tipo:</span> Transition<br><span style='color:#555;'>Locus:</span> D-loop<br><span style='color:#555;'>Región Hipervariable:</span> HVS-I<br><span style='color:#555;'>HGVS:</span> NC_012920.1:m.16189T>C<br><span style='color:#555;'>Mitomaster:</span> T16189C<br><span style='color:#555;'>EMPOP:</span> 16193.1C",
         "marker": {
          "color": "red",
          "line": {
           "color": "black",
           "width": 1
          },
          "size": 10,
          "symbol": "circle"
         },
         "mode": "markers",
         "name": "Variante: NC_012920.1:m.16189T>C",
         "showlegend": false,
         "type": "scatter",
         "x": [
          16190
         ],
         "y": [
          7
         ]
        },
        {
         "customdata": [
          {
           "align_idx": 16235,
           "alt": "T",
           "hvs_region": "HVS-I",
           "locus": "D-loop",
           "pos": 16234,
           "ref": "C",
           "type": "transition"
          }
         ],
         "hoverlabel": {
          "bgcolor": "white",
          "bordercolor": "#ccc",
          "font": {
           "color": "black",
           "size": 11
          },
          "namelength": 0
         },
         "hovertemplate": "<b>Variante: C16235T</b><br><span style='color:#555;'>Tipo:</span> Transition<br><span style='color:#555;'>Locus:</span> D-loop<br><span style='color:#555;'>Región Hipervariable:</span> HVS-I<br><span style='color:#555;'>HGVS:</span> NC_012920.1:m.16234C>T<br><span style='color:#555;'>Mitomaster:</span> C16234T<br><span style='color:#555;'>EMPOP:</span> 16234T",
         "marker": {
          "color": "red",
          "line": {
           "color": "black",
           "width": 1
          },
          "size": 10,
          "symbol": "circle"
         },
         "mode": "markers",
         "name": "Variante: NC_012920.1:m.16234C>T",
         "showlegend": false,
         "type": "scatter",
         "x": [
          16235
         ],
         "y": [
          7
         ]
        },
        {
         "customdata": [
          {
           "align_idx": 16325,
           "alt": "C",
           "hvs_region": "HVS-I",
           "locus": "D-loop",
           "pos": 16324,
           "ref": "T",
           "type": "transition"
          }
         ],
         "hoverlabel": {
          "bgcolor": "white",
          "bordercolor": "#ccc",
          "font": {
           "color": "black",
           "size": 11
          },
          "namelength": 0
         },
         "hovertemplate": "<b>Variante: T16325C</b><br><span style='color:#555;'>Tipo:</span> Transition<br><span style='color:#555;'>Locus:</span> D-loop<br><span style='color:#555;'>Región Hipervariable:</span> HVS-I<br><span style='color:#555;'>HGVS:</span> NC_012920.1:m.16324T>C<br><span style='color:#555;'>Mitomaster:</span> T16324C<br><span style='color:#555;'>EMPOP:</span> 16324C",
         "marker": {
          "color": "red",
          "line": {
           "color": "black",
           "width": 1
          },
          "size": 10,
          "symbol": "circle"
         },
         "mode": "markers",
         "name": "Variante: NC_012920.1:m.16324T>C",
         "showlegend": false,
         "type": "scatter",
         "x": [
          16325
         ],
         "y": [
          7
         ]
        },
        {
         "customdata": [
          {
           "align_idx": 16520,
           "alt": "C",
           "hvs_region": null,
           "locus": "D-loop",
           "pos": 16519,
           "ref": "T",
           "type": "transition"
          }
         ],
         "hoverlabel": {
          "bgcolor": "white",
          "bordercolor": "#ccc",
          "font": {
           "color": "black",
           "size": 11
          },
          "namelength": 0
         },
         "hovertemplate": "<b>Variante: T16520C</b><br><span style='color:#555;'>Tipo:</span> Transition<br><span style='color:#555;'>Locus:</span> D-loop<br><span style='color:#555;'>HGVS:</span> NC_012920.1:m.16519T>C<br><span style='color:#555;'>Mitomaster:</span> T16519C<br><span style='color:#555;'>EMPOP:</span> 16519C",
         "marker": {
          "color": "red",
          "line": {
           "color": "black",
           "width": 1
          },
          "size": 10,
          "symbol": "circle"
         },
         "mode": "markers",
         "name": "Variante: NC_012920.1:m.16519T>C",
         "showlegend": false,
         "type": "scatter",
         "x": [
          16520
         ],
         "y": [
          7
         ]
        }
       ],
       "layout": {
        "annotations": [
         {
          "font": {
           "color": "darkgrey",
           "size": 10
          },
          "showarrow": false,
          "text": "Referencia: NC_012920.1",
          "x": 8284.5,
          "y": -2.5,
          "yshift": -10
         },
         {
          "align": "center",
          "font": {
           "color": "black",
           "size": 8
          },
          "showarrow": false,
          "text": "D-loop",
          "valign": "middle",
          "x": 289,
          "xanchor": "center",
          "y": -1,
          "yanchor": "middle"
         },
         {
          "align": "center",
          "font": {
           "color": "black",
           "size": 8
          },
          "showarrow": false,
          "text": "D-loop",
          "valign": "middle",
          "x": 16297,
          "xanchor": "center",
          "y": -1,
          "yanchor": "middle"
         },
         {
          "align": "center",
          "font": {
           "color": "black",
           "size": 6
          },
          "showarrow": false,
          "text": "F",
          "valign": "middle",
          "x": 612.5,
          "xanchor": "center",
          "y": 1,
          "yanchor": "middle"
         },
         {
          "align": "center",
          "font": {
           "color": "black",
           "size": 6
          },
          "showarrow": false,
          "text": "V",
          "valign": "middle",
          "x": 1636.5,
          "xanchor": "center",
          "y": 1,
          "yanchor": "middle"
         },
         {
          "align": "center",
          "font": {
           "color": "black",
           "size": 6
          },
          "showarrow": false,
          "text": "L(UUR)",
          "valign": "middle",
          "x": 3267.5,
          "xanchor": "center",
          "y": 1,
          "yanchor": "middle"
         },
         {
          "align": "center",
          "font": {
           "color": "black",
           "size": 6
          },
          "showarrow": false,
          "text": "I",
          "valign": "middle",
          "x": 4297.5,
          "xanchor": "center",
          "y": 1,
          "yanchor": "middle"
         },
         {
          "align": "center",
          "font": {
           "color": "black",
           "size": 6
          },
          "showarrow": false,
          "text": "Q",
          "valign": "middle",
          "x": 4365,
          "xanchor": "center",
          "y": 1,
          "yanchor": "middle"
         },
         {
          "align": "center",
          "font": {
           "color": "black",
           "size": 6
          },
          "showarrow": false,
          "text": "M",
          "valign": "middle",
          "x": 4436,
          "xanchor": "center",
          "y": 1,
          "yanchor": "middle"
         },
         {
          "align": "center",
          "font": {
           "color": "black",
           "size": 6
          },
          "showarrow": false,
          "text": "W",
          "valign": "middle",
          "x": 5546,
          "xanchor": "center",
          "y": 1,
          "yanchor": "middle"
         },
         {
          "align": "center",
          "font": {
           "color": "black",
           "size": 6
          },
          "showarrow": false,
          "text": "A",
          "valign": "middle",
          "x": 5621.5,
          "xanchor": "center",
          "y": 1,
          "yanchor": "middle"
         },
         {
          "align": "center",
          "font": {
           "color": "black",
           "size": 6
          },
          "showarrow": false,
          "text": "N",
          "valign": "middle",
          "x": 5693.5,
          "xanchor": "center",
          "y": 1,
          "yanchor": "middle"
         },
         {
          "align": "center",
          "font": {
           "color": "black",
           "size": 6
          },
          "showarrow": false,
          "text": "C",
          "valign": "middle",
          "x": 5794,
          "xanchor": "center",
          "y": 1,
          "yanchor": "middle"
         },
         {
          "align": "center",
          "font": {
           "color": "black",
           "size": 6
          },
          "showarrow": false,
          "text": "Y",
          "valign": "middle",
          "x": 5859,
          "xanchor": "center",
          "y": 1,
          "yanchor": "middle"
         },
         {
          "align": "center",
          "font": {
           "color": "black",
           "size": 6
          },
          "showarrow": false,
          "text": "S(UCN)",
          "valign": "middle",
          "x": 7480.5,
          "xanchor": "center",
          "y": 1,
          "yanchor": "middle"
         },
         {
          "align": "center",
          "font": {
           "color": "black",
           "size": 6
          },
          "showarrow": false,
          "text": "D",
          "valign": "middle",
          "x": 7552,
          "xanchor": "center",
          "y": 1,
          "yanchor": "middle"
         },
         {
          "align": "center",
          "font": {
           "color": "black",
           "size": 6
          },
          "showarrow": false,
          "text": "K",
          "valign": "middle",
          "x": 8330,
          "xanchor": "center",
          "y": 1,
          "yanchor": "middle"
         },
         {
          "align": "center",
          "font": {
           "color": "black",
           "size": 6
          },
          "showarrow": false,
          "text": "G",
          "valign": "middle",
          "x": 10025,
          "xanchor": "center",
          "y": 1,
          "yanchor": "middle"
         },
         {
          "align": "center",
          "font": {
           "color": "black",
           "size": 6
          },
          "showarrow": false,
          "text": "R",
          "valign": "middle",
          "x": 10437.5,
          "xanchor": "center",
          "y": 1,
          "yanchor": "middle"
         },
         {
          "align": "center",
          "font": {
           "color": "black",
           "size": 6
          },
          "showarrow": false,
          "text": "H",
          "valign": "middle",
          "x": 12172.5,
          "xanchor": "center",
          "y": 1,
          "yanchor": "middle"
         },
         {
          "align": "center",
          "font": {
           "color": "black",
           "size": 6
          },
          "showarrow": false,
          "text": "S(AGY)",
          "valign": "middle",
          "x": 12236.5,
          "xanchor": "center",
          "y": 1,
          "yanchor": "middle"
         },
         {
          "align": "center",
          "font": {
           "color": "black",
           "size": 6
          },
          "showarrow": false,
          "text": "L(CUN)",
          "valign": "middle",
          "x": 12301.5,
          "xanchor": "center",
          "y": 1,
          "yanchor": "middle"
         },
         {
          "align": "center",
          "font": {
           "color": "black",
           "size": 6
          },
          "showarrow": false,
          "text": "E",
          "valign": "middle",
          "x": 14708.5,
          "xanchor": "center",
          "y": 1,
          "yanchor": "middle"
         },
         {
          "align": "center",
          "font": {
           "color": "black",
           "size": 6
          },
          "showarrow": false,
          "text": "T",
          "valign": "middle",
          "x": 15921,
          "xanchor": "center",
          "y": 1,
          "yanchor": "middle"
         },
         {
          "align": "center",
          "font": {
           "color": "black",
           "size": 6
          },
          "showarrow": false,
          "text": "P",
          "valign": "middle",
          "x": 15990,
          "xanchor": "center",
          "y": 1,
          "yanchor": "middle"
         },
         {
          "arrowcolor": "black",
          "arrowhead": 2,
          "arrowsize": 1.5,
          "arrowwidth": 1,
          "ax": 1551,
          "axref": "x",
          "ay": 3,
          "ayref": "y",
          "opacity": 0.8,
          "showarrow": true,
          "x": 1601,
          "xref": "x",
          "y": 3,
          "yref": "y"
         },
         {
          "arrowcolor": "black",
          "arrowhead": 2,
          "arrowsize": 1.5,
          "arrowwidth": 1,
          "ax": 3179,
          "axref": "x",
          "ay": 3,
          "ayref": "y",
          "opacity": 0.8,
          "showarrow": true,
          "x": 3229,
          "xref": "x",
          "y": 3,
          "yref": "y"
         },
         {
          "align": "center",
          "font": {
           "color": "black",
           "size": 8
          },
          "showarrow": false,
          "text": "12S (+)",
          "valign": "middle",
          "x": 1125,
          "xanchor": "center",
          "y": 3,
          "yanchor": "middle"
         },
         {
          "align": "center",
          "font": {
           "color": "black",
           "size": 8
          },
          "showarrow": false,
          "text": "16S (+)",
          "valign": "middle",
          "x": 2450.5,
          "xanchor": "center",
          "y": 3,
          "yanchor": "middle"
         },
         {
          "arrowcolor": "black",
          "arrowhead": 2,
          "arrowsize": 1.5,
          "arrowwidth": 1,
          "ax": 4212,
          "axref": "x",
          "ay": 5,
          "ayref": "y",
          "opacity": 0.8,
          "showarrow": true,
          "x": 4262,
          "xref": "x",
          "y": 5,
          "yref": "y"
         },
         {
          "arrowcolor": "black",
          "arrowhead": 2,
          "arrowsize": 1.5,
          "arrowwidth": 1,
          "ax": 5461,
          "axref": "x",
          "ay": 5,
          "ayref": "y",
          "opacity": 0.8,
          "showarrow": true,
          "x": 5511,
          "xref": "x",
          "y": 5,
          "yref": "y"
         },
         {
          "arrowcolor": "black",
          "arrowhead": 2,
          "arrowsize": 1.5,
          "arrowwidth": 1,
          "ax": 7395,
          "axref": "x",
          "ay": 5,
          "ayref": "y",
          "opacity": 0.8,
          "showarrow": true,
          "x": 7445,
          "xref": "x",
          "y": 5,
          "yref": "y"
         },
         {
          "arrowcolor": "black",
          "arrowhead": 2,
          "arrowsize": 1.5,
          "arrowwidth": 1,
          "ax": 8219,
          "axref": "x",
          "ay": 5,
          "ayref": "y",
          "opacity": 0.8,
          "showarrow": true,
          "x": 8269,
          "xref": "x",
          "y": 5,
          "yref": "y"
         },
         {
          "arrowcolor": "black",
          "arrowhead": 2,
          "arrowsize": 1.5,
          "arrowwidth": 1,
          "ax": 8551.3,
          "axref": "x",
          "ay": 5,
          "ayref": "y",
          "opacity": 0.8,
          "showarrow": true,
          "x": 8572,
          "xref": "x",
          "y": 5,
          "yref": "y"
         },
         {
          "arrowcolor": "black",
          "arrowhead": 2,
          "arrowsize": 1.5,
          "arrowwidth": 1,
          "ax": 9157,
          "axref": "x",
          "ay": 5,
          "ayref": "y",
          "opacity": 0.8,
          "showarrow": true,
          "x": 9207,
          "xref": "x",
          "y": 5,
          "yref": "y"
         },
         {
          "arrowcolor": "black",
          "arrowhead": 2,
          "arrowsize": 1.5,
          "arrowwidth": 1,
          "ax": 9940,
          "axref": "x",
          "ay": 5,
          "ayref": "y",
          "opacity": 0.8,
          "showarrow": true,
          "x": 9990,
          "xref": "x",
          "y": 5,
          "yref": "y"
         },
         {
          "arrowcolor": "black",
          "arrowhead": 2,
          "arrowsize": 1.5,
          "arrowwidth": 1,
          "ax": 10369.4,
          "axref": "x",
          "ay": 5,
          "ayref": "y",
          "opacity": 0.8,
          "showarrow": true,
          "x": 10404,
          "xref": "x",
          "y": 5,
          "yref": "y"
         },
         {
          "arrowcolor": "black",
          "arrowhead": 2,
          "arrowsize": 1.5,
          "arrowwidth": 1,
          "ax": 10736.3,
          "axref": "x",
          "ay": 5,
          "ayref": "y",
          "opacity": 0.8,
          "showarrow": true,
          "x": 10766,
          "xref": "x",
          "y": 5,
          "yref": "y"
         },
         {
          "arrowcolor": "black",
          "arrowhead": 2,
          "arrowsize": 1.5,
          "arrowwidth": 1,
          "ax": 12087,
          "axref": "x",
          "ay": 5,
          "ayref": "y",
          "opacity": 0.8,
          "showarrow": true,
          "x": 12137,
          "xref": "x",
          "y": 5,
          "yref": "y"
         },
         {
          "arrowcolor": "black",
          "arrowhead": 2,
          "arrowsize": 1.5,
          "arrowwidth": 1,
          "ax": 14098,
          "axref": "x",
          "ay": 5,
          "ayref": "y",
          "opacity": 0.8,
          "showarrow": true,
          "x": 14148,
          "xref": "x",
          "y": 5,
          "yref": "y"
         },
         {
          "arrowcolor": "black",
          "arrowhead": 2,
          "arrowsize": 1.5,
          "arrowwidth": 1,
          "ax": 14199,
          "axref": "x",
          "ay": 5,
          "ayref": "y",
          "opacity": 0.8,
          "showarrow": true,
          "x": 14149,
          "xref": "x",
          "y": 5,
          "yref": "y"
         },
         {
          "arrowcolor": "black",
          "arrowhead": 2,
          "arrowsize": 1.5,
          "arrowwidth": 1,
          "ax": 15837,
          "axref": "x",
          "ay": 5,
          "ayref": "y",
          "opacity": 0.8,
          "showarrow": true,
          "x": 15887,
          "xref": "x",
          "y": 5,
          "yref": "y"
         },
         {
          "align": "center",
          "font": {
           "color": "black",
           "size": 8
          },
          "showarrow": false,
          "text": "ND1 (+)",
          "valign": "middle",
          "x": 3785,
          "xanchor": "center",
          "y": 5,
          "yanchor": "middle"
         },
         {
          "align": "center",
          "font": {
           "color": "black",
           "size": 8
          },
          "showarrow": false,
          "text": "ND2 (+)",
          "valign": "middle",
          "x": 4991,
          "xanchor": "center",
          "y": 5,
          "yanchor": "middle"
         },
         {
          "align": "center",
          "font": {
           "color": "black",
           "size": 8
          },
          "showarrow": false,
          "text": "CO1 (+)",
          "valign": "middle",
          "x": 6675,
          "xanchor": "center",
          "y": 5,
          "yanchor": "middle"
         },
         {
          "align": "center",
          "font": {
           "color": "black",
           "size": 8
          },
          "showarrow": false,
          "text": "CO2 (+)",
          "valign": "middle",
          "x": 7928,
          "xanchor": "center",
          "y": 5,
          "yanchor": "middle"
         },
         {
          "align": "center",
          "font": {
           "color": "black",
           "size": 8
          },
          "showarrow": false,
          "text": "ATP8",
          "valign": "middle",
          "x": 8469.5,
          "xanchor": "center",
          "y": 5,
          "yanchor": "middle"
         },
         {
          "align": "center",
          "font": {
           "color": "black",
           "size": 8
          },
          "showarrow": false,
          "text": "ATP6 (+)",
          "valign": "middle",
          "x": 8867.5,
          "xanchor": "center",
          "y": 5,
          "yanchor": "middle"
         },
         {
          "align": "center",
          "font": {
           "color": "black",
           "size": 8
          },
          "showarrow": false,
          "text": "CO3 (+)",
          "valign": "middle",
          "x": 9599,
          "xanchor": "center",
          "y": 5,
          "yanchor": "middle"
         },
         {
          "align": "center",
          "font": {
           "color": "black",
           "size": 8
          },
          "showarrow": false,
          "text": "ND3 (+)",
          "valign": "middle",
          "x": 10232,
          "xanchor": "center",
          "y": 5,
          "yanchor": "middle"
         },
         {
          "align": "center",
          "font": {
           "color": "black",
           "size": 8
          },
          "showarrow": false,
          "text": "ND4L (+)",
          "valign": "middle",
          "x": 10618.5,
          "xanchor": "center",
          "y": 5,
          "yanchor": "middle"
         },
         {
          "align": "center",
          "font": {
           "color": "black",
           "size": 8
          },
          "showarrow": false,
          "text": "ND4 (+)",
          "valign": "middle",
          "x": 11449,
          "xanchor": "center",
          "y": 5,
          "yanchor": "middle"
         },
         {
          "align": "center",
          "font": {
           "color": "black",
           "size": 8
          },
          "showarrow": false,
          "text": "ND5 (+)",
          "valign": "middle",
          "x": 13243,
          "xanchor": "center",
          "y": 5,
          "yanchor": "middle"
         },
         {
          "align": "center",
          "font": {
           "color": "black",
           "size": 8
          },
          "showarrow": false,
          "text": "ND6 (-)",
          "valign": "middle",
          "x": 14411.5,
          "xanchor": "center",
          "y": 5,
          "yanchor": "middle"
         },
         {
          "align": "center",
          "font": {
           "color": "black",
           "size": 8
          },
          "showarrow": false,
          "text": "CYTB (+)",
          "valign": "middle",
          "x": 15317.5,
          "xanchor": "center",
          "y": 5,
          "yanchor": "middle"
         },
         {
          "font": {
           "color": "red",
           "size": 8,
           "weight": "bold"
          },
          "showarrow": false,
          "text": "74",
          "x": 74,
          "xanchor": "center",
          "y": 7.5,
          "yanchor": "bottom"
         },
         {
          "font": {
           "color": "red",
           "size": 8,
           "weight": "bold"
          },
          "showarrow": false,
          "text": "196",
          "x": 196,
          "xanchor": "center",
          "y": 7.5,
          "yanchor": "bottom"
         },
         {
          "font": {
           "color": "red",
           "size": 8,
           "weight": "bold"
          },
          "showarrow": false,
          "text": "264",
          "x": 264,
          "xanchor": "center",
          "y": 7.5,
          "yanchor": "bottom"
         },
         {
          "font": {
           "color": "blue",
           "size": 8,
           "weight": "bold"
          },
          "showarrow": false,
          "text": "310",
          "x": 310,
          "xanchor": "center",
          "y": 7.5,
          "yanchor": "bottom"
         },
         {
          "font": {
           "color": "red",
           "size": 8,
           "weight": "bold"
          },
          "showarrow": false,
          "text": "751",
          "x": 751,
          "xanchor": "center",
          "y": 7.5,
          "yanchor": "bottom"
         },
         {
          "font": {
           "color": "red",
           "size": 8,
           "weight": "bold"
          },
          "showarrow": false,
          "text": "1439",
          "x": 1439,
          "xanchor": "center",
          "y": 7.5,
          "yanchor": "bottom"
         },
         {
          "font": {
           "color": "red",
           "size": 8,
           "weight": "bold"
          },
          "showarrow": false,
          "text": "2707",
          "x": 2707,
          "xanchor": "center",
          "y": 7.5,
          "yanchor": "bottom"
         },
         {
          "font": {
           "color": "red",
           "size": 8,
           "weight": "bold"
          },
          "showarrow": false,
          "text": "3481",
          "x": 3481,
          "xanchor": "center",
          "y": 7.5,
          "yanchor": "bottom"
         },
         {
          "font": {
           "color": "red",
           "size": 8,
           "weight": "bold"
          },
          "showarrow": false,
          "text": "9056",
          "x": 9056,
          "xanchor": "center",
          "y": 7.5,
          "yanchor": "bottom"
         },
         {
          "font": {
           "color": "red",
           "size": 8,
           "weight": "bold"
          },
          "showarrow": false,
          "text": "9699",
          "x": 9699,
          "xanchor": "center",
          "y": 7.5,
          "yanchor": "bottom"
         },
         {
          "font": {
           "color": "red",
           "size": 8,
           "weight": "bold"
          },
          "showarrow": false,
          "text": "11468",
          "x": 11468,
          "xanchor": "center",
          "y": 7.5,
          "yanchor": "bottom"
         },
         {
          "font": {
           "color": "red",
           "size": 8,
           "weight": "bold"
          },
          "showarrow": false,
          "text": "11720",
          "x": 11720,
          "xanchor": "center",
          "y": 7.5,
          "yanchor": "bottom"
         },
         {
          "font": {
           "color": "red",
           "size": 8,
           "weight": "bold"
          },
          "showarrow": false,
          "text": "12309",
          "x": 12309,
          "xanchor": "center",
          "y": 7.5,
          "yanchor": "bottom"
         },
         {
          "font": {
           "color": "red",
           "size": 8,
           "weight": "bold"
          },
          "showarrow": false,
          "text": "12373",
          "x": 12373,
          "xanchor": "center",
          "y": 7.5,
          "yanchor": "bottom"
         },
         {
          "font": {
           "color": "red",
           "size": 8,
           "weight": "bold"
          },
          "showarrow": false,
          "text": "14054",
          "x": 14054,
          "xanchor": "center",
          "y": 7.5,
          "yanchor": "bottom"
         },
         {
          "font": {
           "color": "red",
           "size": 8,
           "weight": "bold"
          },
          "showarrow": false,
          "text": "14168",
          "x": 14168,
          "xanchor": "center",
          "y": 7.5,
          "yanchor": "bottom"
         },
         {
          "font": {
           "color": "red",
           "size": 8,
           "weight": "bold"
          },
          "showarrow": false,
          "text": "14767",
          "x": 14767,
          "xanchor": "center",
          "y": 7.5,
          "yanchor": "bottom"
         },
         {
          "font": {
           "color": "red",
           "size": 8,
           "weight": "bold"
          },
          "showarrow": false,
          "text": "15327",
          "x": 15327,
          "xanchor": "center",
          "y": 7.5,
          "yanchor": "bottom"
         },
         {
          "font": {
           "color": "blue",
           "size": 8,
           "weight": "bold"
          },
          "showarrow": false,
          "text": "16182",
          "x": 16182,
          "xanchor": "center",
          "y": 7.5,
          "yanchor": "bottom"
         },
         {
          "font": {
           "color": "red",
           "size": 8,
           "weight": "bold"
          },
          "showarrow": false,
          "text": "16184",
          "x": 16184,
          "xanchor": "center",
          "y": 7.5,
          "yanchor": "bottom"
         },
         {
          "font": {
           "color": "red",
           "size": 8,
           "weight": "bold"
          },
          "showarrow": false,
          "text": "16190",
          "x": 16190,
          "xanchor": "center",
          "y": 7.5,
          "yanchor": "bottom"
         },
         {
          "font": {
           "color": "red",
           "size": 8,
           "weight": "bold"
          },
          "showarrow": false,
          "text": "16235",
          "x": 16235,
          "xanchor": "center",
          "y": 7.5,
          "yanchor": "bottom"
         },
         {
          "font": {
           "color": "red",
           "size": 8,
           "weight": "bold"
          },
          "showarrow": false,
          "text": "16325",
          "x": 16325,
          "xanchor": "center",
          "y": 7.5,
          "yanchor": "bottom"
         },
         {
          "font": {
           "color": "red",
           "size": 8,
           "weight": "bold"
          },
          "showarrow": false,
          "text": "16520",
          "x": 16520,
          "xanchor": "center",
          "y": 7.5,
          "yanchor": "bottom"
         }
        ],
        "autosize": true,
        "barmode": "overlay",
        "hovermode": "closest",
        "legend": {
         "orientation": "h",
         "x": 1,
         "xanchor": "right",
         "y": 1.02,
         "yanchor": "bottom"
        },
        "margin": {
         "b": 50,
         "l": 150,
         "r": 50,
         "t": 100
        },
        "plot_bgcolor": "white",
        "shapes": [
         {
          "layer": "below",
          "line": {
           "color": "lightgrey",
           "dash": "dot",
           "width": 0.5
          },
          "opacity": 0.7,
          "type": "line",
          "x0": 0,
          "x1": 1,
          "xref": "paper",
          "y0": -0.5,
          "y1": -0.5,
          "yref": "y"
         },
         {
          "layer": "below",
          "line": {
           "color": "lightgrey",
           "dash": "dot",
           "width": 0.5
          },
          "opacity": 0.7,
          "type": "line",
          "x0": 0,
          "x1": 1,
          "xref": "paper",
          "y0": 1.4000000000000001,
          "y1": 1.4000000000000001,
          "yref": "y"
         },
         {
          "layer": "below",
          "line": {
           "color": "lightgrey",
           "dash": "dot",
           "width": 0.5
          },
          "opacity": 0.7,
          "type": "line",
          "x0": 0,
          "x1": 1,
          "xref": "paper",
          "y0": 3.5,
          "y1": 3.5,
          "yref": "y"
         },
         {
          "layer": "below",
          "line": {
           "color": "lightgrey",
           "dash": "dot",
           "width": 0.5
          },
          "opacity": 0.7,
          "type": "line",
          "x0": 0,
          "x1": 1,
          "xref": "paper",
          "y0": 5.5,
          "y1": 5.5,
          "yref": "y"
         },
         {
          "layer": "below",
          "line": {
           "color": "lightgrey",
           "dash": "dot",
           "width": 0.5
          },
          "opacity": 0.7,
          "type": "line",
          "x0": 0,
          "x1": 1,
          "xref": "paper",
          "y0": 7.5,
          "y1": 7.5,
          "yref": "y"
         },
         {
          "layer": "below",
          "line": {
           "color": "lightgrey",
           "dash": "dot",
           "width": 0.5
          },
          "opacity": 0.7,
          "type": "line",
          "x0": 0,
          "x1": 1,
          "xref": "paper",
          "y0": -0.5,
          "y1": -0.5,
          "yref": "y"
         },
         {
          "layer": "below",
          "line": {
           "color": "lightgrey",
           "dash": "dot",
           "width": 0.5
          },
          "opacity": 0.7,
          "type": "line",
          "x0": 0,
          "x1": 1,
          "xref": "paper",
          "y0": 1.4000000000000001,
          "y1": 1.4000000000000001,
          "yref": "y"
         },
         {
          "layer": "below",
          "line": {
           "color": "lightgrey",
           "dash": "dot",
           "width": 0.5
          },
          "opacity": 0.7,
          "type": "line",
          "x0": 0,
          "x1": 1,
          "xref": "paper",
          "y0": 3.5,
          "y1": 3.5,
          "yref": "y"
         },
         {
          "layer": "below",
          "line": {
           "color": "lightgrey",
           "dash": "dot",
           "width": 0.5
          },
          "opacity": 0.7,
          "type": "line",
          "x0": 0,
          "x1": 1,
          "xref": "paper",
          "y0": 5.5,
          "y1": 5.5,
          "yref": "y"
         },
         {
          "layer": "below",
          "line": {
           "color": "lightgrey",
           "dash": "dot",
           "width": 0.5
          },
          "opacity": 0.7,
          "type": "line",
          "x0": 0,
          "x1": 1,
          "xref": "paper",
          "y0": 7.5,
          "y1": 7.5,
          "yref": "y"
         },
         {
          "layer": "below",
          "line": {
           "color": "lightgrey",
           "dash": "dot",
           "width": 0.5
          },
          "opacity": 0.7,
          "type": "line",
          "x0": 0,
          "x1": 1,
          "xref": "paper",
          "y0": -0.5,
          "y1": -0.5,
          "yref": "y"
         },
         {
          "layer": "below",
          "line": {
           "color": "lightgrey",
           "dash": "dot",
           "width": 0.5
          },
          "opacity": 0.7,
          "type": "line",
          "x0": 0,
          "x1": 1,
          "xref": "paper",
          "y0": 1.4000000000000001,
          "y1": 1.4000000000000001,
          "yref": "y"
         },
         {
          "layer": "below",
          "line": {
           "color": "lightgrey",
           "dash": "dot",
           "width": 0.5
          },
          "opacity": 0.7,
          "type": "line",
          "x0": 0,
          "x1": 1,
          "xref": "paper",
          "y0": 3.5,
          "y1": 3.5,
          "yref": "y"
         },
         {
          "layer": "below",
          "line": {
           "color": "lightgrey",
           "dash": "dot",
           "width": 0.5
          },
          "opacity": 0.7,
          "type": "line",
          "x0": 0,
          "x1": 1,
          "xref": "paper",
          "y0": 5.5,
          "y1": 5.5,
          "yref": "y"
         },
         {
          "layer": "below",
          "line": {
           "color": "lightgrey",
           "dash": "dot",
           "width": 0.5
          },
          "opacity": 0.7,
          "type": "line",
          "x0": 0,
          "x1": 1,
          "xref": "paper",
          "y0": 7.5,
          "y1": 7.5,
          "yref": "y"
         },
         {
          "layer": "below",
          "line": {
           "color": "lightgrey",
           "dash": "dot",
           "width": 0.5
          },
          "opacity": 0.7,
          "type": "line",
          "x0": 0,
          "x1": 1,
          "xref": "paper",
          "y0": -0.5,
          "y1": -0.5,
          "yref": "y"
         },
         {
          "layer": "below",
          "line": {
           "color": "lightgrey",
           "dash": "dot",
           "width": 0.5
          },
          "opacity": 0.7,
          "type": "line",
          "x0": 0,
          "x1": 1,
          "xref": "paper",
          "y0": 1.4000000000000001,
          "y1": 1.4000000000000001,
          "yref": "y"
         },
         {
          "layer": "below",
          "line": {
           "color": "lightgrey",
           "dash": "dot",
           "width": 0.5
          },
          "opacity": 0.7,
          "type": "line",
          "x0": 0,
          "x1": 1,
          "xref": "paper",
          "y0": 3.5,
          "y1": 3.5,
          "yref": "y"
         },
         {
          "layer": "below",
          "line": {
           "color": "lightgrey",
           "dash": "dot",
           "width": 0.5
          },
          "opacity": 0.7,
          "type": "line",
          "x0": 0,
          "x1": 1,
          "xref": "paper",
          "y0": 5.5,
          "y1": 5.5,
          "yref": "y"
         },
         {
          "layer": "below",
          "line": {
           "color": "lightgrey",
           "dash": "dot",
           "width": 0.5
          },
          "opacity": 0.7,
          "type": "line",
          "x0": 0,
          "x1": 1,
          "xref": "paper",
          "y0": 7.5,
          "y1": 7.5,
          "yref": "y"
         },
         {
          "layer": "below",
          "line": {
           "color": "lightgrey",
           "dash": "dot",
           "width": 0.5
          },
          "opacity": 0.7,
          "type": "line",
          "x0": 0,
          "x1": 1,
          "xref": "paper",
          "y0": -0.5,
          "y1": -0.5,
          "yref": "y"
         },
         {
          "layer": "below",
          "line": {
           "color": "lightgrey",
           "dash": "dot",
           "width": 0.5
          },
          "opacity": 0.7,
          "type": "line",
          "x0": 0,
          "x1": 1,
          "xref": "paper",
          "y0": 1.4000000000000001,
          "y1": 1.4000000000000001,
          "yref": "y"
         },
         {
          "layer": "below",
          "line": {
           "color": "lightgrey",
           "dash": "dot",
           "width": 0.5
          },
          "opacity": 0.7,
          "type": "line",
          "x0": 0,
          "x1": 1,
          "xref": "paper",
          "y0": 3.5,
          "y1": 3.5,
          "yref": "y"
         },
         {
          "layer": "below",
          "line": {
           "color": "lightgrey",
           "dash": "dot",
           "width": 0.5
          },
          "opacity": 0.7,
          "type": "line",
          "x0": 0,
          "x1": 1,
          "xref": "paper",
          "y0": 5.5,
          "y1": 5.5,
          "yref": "y"
         }
        ],
        "template": {
         "data": {
          "bar": [
           {
            "error_x": {
             "color": "#2a3f5f"
            },
            "error_y": {
             "color": "#2a3f5f"
            },
            "marker": {
             "line": {
              "color": "#E5ECF6",
              "width": 0.5
             },
             "pattern": {
              "fillmode": "overlay",
              "size": 10,
              "solidity": 0.2
             }
            },
            "type": "bar"
           }
          ],
          "barpolar": [
           {
            "marker": {
             "line": {
              "color": "#E5ECF6",
              "width": 0.5
             },
             "pattern": {
              "fillmode": "overlay",
              "size": 10,
              "solidity": 0.2
             }
            },
            "type": "barpolar"
           }
          ],
          "carpet": [
           {
            "aaxis": {
             "endlinecolor": "#2a3f5f",
             "gridcolor": "white",
             "linecolor": "white",
             "minorgridcolor": "white",
             "startlinecolor": "#2a3f5f"
            },
            "baxis": {
             "endlinecolor": "#2a3f5f",
             "gridcolor": "white",
             "linecolor": "white",
             "minorgridcolor": "white",
             "startlinecolor": "#2a3f5f"
            },
            "type": "carpet"
           }
          ],
          "choropleth": [
           {
            "colorbar": {
             "outlinewidth": 0,
             "ticks": ""
            },
            "type": "choropleth"
           }
          ],
          "contour": [
           {
            "colorbar": {
             "outlinewidth": 0,
             "ticks": ""
            },
            "colorscale": [
             [
              0,
              "#0d0887"
             ],
             [
              0.1111111111111111,
              "#46039f"
             ],
             [
              0.2222222222222222,
              "#7201a8"
             ],
             [
              0.3333333333333333,
              "#9c179e"
             ],
             [
              0.4444444444444444,
              "#bd3786"
             ],
             [
              0.5555555555555556,
              "#d8576b"
             ],
             [
              0.6666666666666666,
              "#ed7953"
             ],
             [
              0.7777777777777778,
              "#fb9f3a"
             ],
             [
              0.8888888888888888,
              "#fdca26"
             ],
             [
              1,
              "#f0f921"
             ]
            ],
            "type": "contour"
           }
          ],
          "contourcarpet": [
           {
            "colorbar": {
             "outlinewidth": 0,
             "ticks": ""
            },
            "type": "contourcarpet"
           }
          ],
          "heatmap": [
           {
            "colorbar": {
             "outlinewidth": 0,
             "ticks": ""
            },
            "colorscale": [
             [
              0,
              "#0d0887"
             ],
             [
              0.1111111111111111,
              "#46039f"
             ],
             [
              0.2222222222222222,
              "#7201a8"
             ],
             [
              0.3333333333333333,
              "#9c179e"
             ],
             [
              0.4444444444444444,
              "#bd3786"
             ],
             [
              0.5555555555555556,
              "#d8576b"
             ],
             [
              0.6666666666666666,
              "#ed7953"
             ],
             [
              0.7777777777777778,
              "#fb9f3a"
             ],
             [
              0.8888888888888888,
              "#fdca26"
             ],
             [
              1,
              "#f0f921"
             ]
            ],
            "type": "heatmap"
           }
          ],
          "histogram": [
           {
            "marker": {
             "pattern": {
              "fillmode": "overlay",
              "size": 10,
              "solidity": 0.2
             }
            },
            "type": "histogram"
           }
          ],
          "histogram2d": [
           {
            "colorbar": {
             "outlinewidth": 0,
             "ticks": ""
            },
            "colorscale": [
             [
              0,
              "#0d0887"
             ],
             [
              0.1111111111111111,
              "#46039f"
             ],
             [
              0.2222222222222222,
              "#7201a8"
             ],
             [
              0.3333333333333333,
              "#9c179e"
             ],
             [
              0.4444444444444444,
              "#bd3786"
             ],
             [
              0.5555555555555556,
              "#d8576b"
             ],
             [
              0.6666666666666666,
              "#ed7953"
             ],
             [
              0.7777777777777778,
              "#fb9f3a"
             ],
             [
              0.8888888888888888,
              "#fdca26"
             ],
             [
              1,
              "#f0f921"
             ]
            ],
            "type": "histogram2d"
           }
          ],
          "histogram2dcontour": [
           {
            "colorbar": {
             "outlinewidth": 0,
             "ticks": ""
            },
            "colorscale": [
             [
              0,
              "#0d0887"
             ],
             [
              0.1111111111111111,
              "#46039f"
             ],
             [
              0.2222222222222222,
              "#7201a8"
             ],
             [
              0.3333333333333333,
              "#9c179e"
             ],
             [
              0.4444444444444444,
              "#bd3786"
             ],
             [
              0.5555555555555556,
              "#d8576b"
             ],
             [
              0.6666666666666666,
              "#ed7953"
             ],
             [
              0.7777777777777778,
              "#fb9f3a"
             ],
             [
              0.8888888888888888,
              "#fdca26"
             ],
             [
              1,
              "#f0f921"
             ]
            ],
            "type": "histogram2dcontour"
           }
          ],
          "mesh3d": [
           {
            "colorbar": {
             "outlinewidth": 0,
             "ticks": ""
            },
            "type": "mesh3d"
           }
          ],
          "parcoords": [
           {
            "line": {
             "colorbar": {
              "outlinewidth": 0,
              "ticks": ""
             }
            },
            "type": "parcoords"
           }
          ],
          "pie": [
           {
            "automargin": true,
            "type": "pie"
           }
          ],
          "scatter": [
           {
            "fillpattern": {
             "fillmode": "overlay",
             "size": 10,
             "solidity": 0.2
            },
            "type": "scatter"
           }
          ],
          "scatter3d": [
           {
            "line": {
             "colorbar": {
              "outlinewidth": 0,
              "ticks": ""
             }
            },
            "marker": {
             "colorbar": {
              "outlinewidth": 0,
              "ticks": ""
             }
            },
            "type": "scatter3d"
           }
          ],
          "scattercarpet": [
           {
            "marker": {
             "colorbar": {
              "outlinewidth": 0,
              "ticks": ""
             }
            },
            "type": "scattercarpet"
           }
          ],
          "scattergeo": [
           {
            "marker": {
             "colorbar": {
              "outlinewidth": 0,
              "ticks": ""
             }
            },
            "type": "scattergeo"
           }
          ],
          "scattergl": [
           {
            "marker": {
             "colorbar": {
              "outlinewidth": 0,
              "ticks": ""
             }
            },
            "type": "scattergl"
           }
          ],
          "scattermap": [
           {
            "marker": {
             "colorbar": {
              "outlinewidth": 0,
              "ticks": ""
             }
            },
            "type": "scattermap"
           }
          ],
          "scattermapbox": [
           {
            "marker": {
             "colorbar": {
              "outlinewidth": 0,
              "ticks": ""
             }
            },
            "type": "scattermapbox"
           }
          ],
          "scatterpolar": [
           {
            "marker": {
             "colorbar": {
              "outlinewidth": 0,
              "ticks": ""
             }
            },
            "type": "scatterpolar"
           }
          ],
          "scatterpolargl": [
           {
            "marker": {
             "colorbar": {
              "outlinewidth": 0,
              "ticks": ""
             }
            },
            "type": "scatterpolargl"
           }
          ],
          "scatterternary": [
           {
            "marker": {
             "colorbar": {
              "outlinewidth": 0,
              "ticks": ""
             }
            },
            "type": "scatterternary"
           }
          ],
          "surface": [
           {
            "colorbar": {
             "outlinewidth": 0,
             "ticks": ""
            },
            "colorscale": [
             [
              0,
              "#0d0887"
             ],
             [
              0.1111111111111111,
              "#46039f"
             ],
             [
              0.2222222222222222,
              "#7201a8"
             ],
             [
              0.3333333333333333,
              "#9c179e"
             ],
             [
              0.4444444444444444,
              "#bd3786"
             ],
             [
              0.5555555555555556,
              "#d8576b"
             ],
             [
              0.6666666666666666,
              "#ed7953"
             ],
             [
              0.7777777777777778,
              "#fb9f3a"
             ],
             [
              0.8888888888888888,
              "#fdca26"
             ],
             [
              1,
              "#f0f921"
             ]
            ],
            "type": "surface"
           }
          ],
          "table": [
           {
            "cells": {
             "fill": {
              "color": "#EBF0F8"
             },
             "line": {
              "color": "white"
             }
            },
            "header": {
             "fill": {
              "color": "#C8D4E3"
             },
             "line": {
              "color": "white"
             }
            },
            "type": "table"
           }
          ]
         },
         "layout": {
          "annotationdefaults": {
           "arrowcolor": "#2a3f5f",
           "arrowhead": 0,
           "arrowwidth": 1
          },
          "autotypenumbers": "strict",
          "coloraxis": {
           "colorbar": {
            "outlinewidth": 0,
            "ticks": ""
           }
          },
          "colorscale": {
           "diverging": [
            [
             0,
             "#8e0152"
            ],
            [
             0.1,
             "#c51b7d"
            ],
            [
             0.2,
             "#de77ae"
            ],
            [
             0.3,
             "#f1b6da"
            ],
            [
             0.4,
             "#fde0ef"
            ],
            [
             0.5,
             "#f7f7f7"
            ],
            [
             0.6,
             "#e6f5d0"
            ],
            [
             0.7,
             "#b8e186"
            ],
            [
             0.8,
             "#7fbc41"
            ],
            [
             0.9,
             "#4d9221"
            ],
            [
             1,
             "#276419"
            ]
           ],
           "sequential": [
            [
             0,
             "#0d0887"
            ],
            [
             0.1111111111111111,
             "#46039f"
            ],
            [
             0.2222222222222222,
             "#7201a8"
            ],
            [
             0.3333333333333333,
             "#9c179e"
            ],
            [
             0.4444444444444444,
             "#bd3786"
            ],
            [
             0.5555555555555556,
             "#d8576b"
            ],
            [
             0.6666666666666666,
             "#ed7953"
            ],
            [
             0.7777777777777778,
             "#fb9f3a"
            ],
            [
             0.8888888888888888,
             "#fdca26"
            ],
            [
             1,
             "#f0f921"
            ]
           ],
           "sequentialminus": [
            [
             0,
             "#0d0887"
            ],
            [
             0.1111111111111111,
             "#46039f"
            ],
            [
             0.2222222222222222,
             "#7201a8"
            ],
            [
             0.3333333333333333,
             "#9c179e"
            ],
            [
             0.4444444444444444,
             "#bd3786"
            ],
            [
             0.5555555555555556,
             "#d8576b"
            ],
            [
             0.6666666666666666,
             "#ed7953"
            ],
            [
             0.7777777777777778,
             "#fb9f3a"
            ],
            [
             0.8888888888888888,
             "#fdca26"
            ],
            [
             1,
             "#f0f921"
            ]
           ]
          },
          "colorway": [
           "#636efa",
           "#EF553B",
           "#00cc96",
           "#ab63fa",
           "#FFA15A",
           "#19d3f3",
           "#FF6692",
           "#B6E880",
           "#FF97FF",
           "#FECB52"
          ],
          "font": {
           "color": "#2a3f5f"
          },
          "geo": {
           "bgcolor": "white",
           "lakecolor": "white",
           "landcolor": "#E5ECF6",
           "showlakes": true,
           "showland": true,
           "subunitcolor": "white"
          },
          "hoverlabel": {
           "align": "left"
          },
          "hovermode": "closest",
          "mapbox": {
           "style": "light"
          },
          "paper_bgcolor": "white",
          "plot_bgcolor": "#E5ECF6",
          "polar": {
           "angularaxis": {
            "gridcolor": "white",
            "linecolor": "white",
            "ticks": ""
           },
           "bgcolor": "#E5ECF6",
           "radialaxis": {
            "gridcolor": "white",
            "linecolor": "white",
            "ticks": ""
           }
          },
          "scene": {
           "xaxis": {
            "backgroundcolor": "#E5ECF6",
            "gridcolor": "white",
            "gridwidth": 2,
            "linecolor": "white",
            "showbackground": true,
            "ticks": "",
            "zerolinecolor": "white"
           },
           "yaxis": {
            "backgroundcolor": "#E5ECF6",
            "gridcolor": "white",
            "gridwidth": 2,
            "linecolor": "white",
            "showbackground": true,
            "ticks": "",
            "zerolinecolor": "white"
           },
           "zaxis": {
            "backgroundcolor": "#E5ECF6",
            "gridcolor": "white",
            "gridwidth": 2,
            "linecolor": "white",
            "showbackground": true,
            "ticks": "",
            "zerolinecolor": "white"
           }
          },
          "shapedefaults": {
           "line": {
            "color": "#2a3f5f"
           }
          },
          "ternary": {
           "aaxis": {
            "gridcolor": "white",
            "linecolor": "white",
            "ticks": ""
           },
           "baxis": {
            "gridcolor": "white",
            "linecolor": "white",
            "ticks": ""
           },
           "bgcolor": "#E5ECF6",
           "caxis": {
            "gridcolor": "white",
            "linecolor": "white",
            "ticks": ""
           }
          },
          "title": {
           "x": 0.05
          },
          "xaxis": {
           "automargin": true,
           "gridcolor": "white",
           "linecolor": "white",
           "ticks": "",
           "title": {
            "standoff": 15
           },
           "zerolinecolor": "white",
           "zerolinewidth": 2
          },
          "yaxis": {
           "automargin": true,
           "gridcolor": "white",
           "linecolor": "white",
           "ticks": "",
           "title": {
            "standoff": 15
           },
           "zerolinecolor": "white",
           "zerolinewidth": 2
          }
         }
        },
        "title": {
         "font": {
          "size": 18
         },
         "text": "Track Viewer de Variantes Mitocondriales: MW389258.1 vs NC_012920.1",
         "xanchor": "center",
         "y": 0.95,
         "yanchor": "top",
         "yref": "paper"
        },
        "xaxis": {
         "gridcolor": "lightgrey",
         "gridwidth": 0.5,
         "range": [
          0,
          16570
         ],
         "showgrid": true,
         "title": {
          "text": "Posición en rCRS (1-based)"
         },
         "zeroline": false
        },
        "yaxis": {
         "automargin": true,
         "range": [
          -3,
          7.9
         ],
         "showgrid": false,
         "tickmode": "array",
         "ticktext": [
          "D-loop (Región de Control)",
          "tRNA (Transfer RNA)",
          "rRNA (Ribosomal RNA)",
          "Genes Codificantes de Proteínas",
          "Secuencia Query: MW389258.1"
         ],
         "tickvals": [
          -1,
          1,
          3,
          5,
          7
         ],
         "title": {
          "text": "Pistas Genómicas"
         },
         "zeroline": false
        }
       }
      },
      "image/png": "[encoded data removed]"
     },
     "metadata": {},
     "output_type": "display_data"
    },
    {
     "name": "stdout",
     "output_type": "stream",
     "text": [
      "Track Viewer interactivo guardado como: Track_Viewer_MW389258.1_vs_rCRS.html\n",
      "Track Viewer interactivo generado.\n",
      "\n",
      "Análisis completado.\n",
      "\n"
     ]
    }
   ],
   "source": [
    "# ==============================================================================\n",
    "# BLOQUE 8: PUNTO DE ENTRADA DEL SCRIPT\n",
    "# ==============================================================================\n",
    "# Descripción: Este bloque se ejecuta cuando el script es llamado directamente.\n",
    "# Define el archivo de consulta de prueba y llama a la función `main`.\n",
    "# ------------------------------------------------------------------------------\n",
    "\n",
    "if __name__ == \"__main__\":\n",
    "    # Definir la ruta al archivo FASTA de la secuencia query para el análisis\n",
    "    # Asegúrate de que este archivo exista en la ruta especificada o ajusta la ruta.\n",
    "    ruta_query_analisis = \"secuencias/MW389258_1.fasta\"\n",
    "    \n",
    "    # Crear un archivo de consulta dummy si no existe, para pruebas rápidas\n",
    "    if not os.path.exists(ruta_query_analisis):\n",
    "        print(f\"ADVERTENCIA: Archivo de consulta '{ruta_query_analisis}' no encontrado. Creando dummy.\")\n",
    "        os.makedirs(os.path.dirname(ruta_query_analisis), exist_ok=True) # Asegurar que el directorio 'secuencias' existe\n",
    "        # Secuencia dummy con algunas diferencias respecto a una rCRS hipotética (e.g., primeros 100pb)\n",
    "        # Para una prueba más significativa, esta secuencia dummy debería tener variantes conocidas.\n",
    "        dummy_query_seq_content = \"GATTACAGATTACAGATTACAGATTACAGATTACAGATTACAGATTACAGATTACAGATTACAGATTACAGATTACAGATTACAGATTACAGATTACACCCTATTAACCACTCACGGGAGCTCTCCATGCATTTGGTATTTTCGTCTGGGGGGTATGCACGCGATAGCATTGCGAGACGCTGGAGCCGGAGCACCCTATGTCGCAGTATCTGTCTTTGATTCCTG\" # ~160pb\n",
    "        dummy_query_seq_content += \"A\" * (16569 - len(dummy_query_seq_content) -100) # Relleno\n",
    "        dummy_query_seq_content += \"GATTACAGATTACAGATTACAGATTACAGATTACAGATTACAGATTACA\" # Final diferente\n",
    "        \n",
    "        with open(ruta_query_analisis, \"w\") as f:\n",
    "            f.write(f\">Query_Dummy_Sequence\\n{dummy_query_seq_content[:16569]}\\n\") # Truncar a longitud de rCRS por si acaso\n",
    "\n",
    "    main(query_fasta_file_path=ruta_query_analisis)"
   ]
  },
  {
   "cell_type": "code",
   "execution_count": null,
   "id": "e5ff800d-8aed-48e6-ae55-db4940361939",
   "metadata": {},
   "outputs": [],
   "source": []
  },
  {
   "cell_type": "code",
   "execution_count": null,
   "id": "e26fdb35-eb9a-4833-a6b8-c6f563ecb71d",
   "metadata": {},
   "outputs": [],
   "source": []
  },
  {
   "cell_type": "code",
   "execution_count": null,
   "id": "7622181d-055f-4241-a40b-be6297222fe8",
   "metadata": {},
   "outputs": [],
   "source": []
  },
  {
   "cell_type": "code",
   "execution_count": null,
   "id": "f60b7bcc-0e70-4c11-8d5d-0d697148c613",
   "metadata": {},
   "outputs": [],
   "source": []
  },
  {
   "cell_type": "code",
   "execution_count": null,
   "id": "591fd951-3196-49f3-9a12-64d1585add03",
   "metadata": {},
   "outputs": [],
   "source": []
  }
 ],
 "metadata": {
  "kernelspec": {
   "display_name": "Python 3 (ipykernel)",
   "language": "python",
   "name": "python3"
  },
  "language_info": {
   "codemirror_mode": {
    "name": "ipython",
    "version": 3
   },
   "file_extension": ".py",
   "mimetype": "text/x-python",
   "name": "python",
   "nbconvert_exporter": "python",
   "pygments_lexer": "ipython3",
   "version": "3.12.2"
  }
 },
 "nbformat": 4,
 "nbformat_minor": 5
}
